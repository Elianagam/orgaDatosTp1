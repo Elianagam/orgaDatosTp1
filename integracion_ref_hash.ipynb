{
 "cells": [
  {
   "cell_type": "code",
   "execution_count": 1,
   "metadata": {},
   "outputs": [],
   "source": [
    "import pandas as pd\n",
    "import numpy as np\n",
    "import seaborn as sns\n",
    "import matplotlib.pyplot as plt"
   ]
  },
  {
   "cell_type": "code",
   "execution_count": 17,
   "metadata": {},
   "outputs": [],
   "source": [
    "auctions = pd.read_csv(\"data/auctions.csv.gzip\", parse_dates=['date'])"
   ]
  },
  {
   "cell_type": "code",
   "execution_count": 3,
   "metadata": {},
   "outputs": [],
   "source": [
    "dtypes_dict = {'advertiser_id':'category', 'action_id': np.float64, 'source_id': np.int8, 'created': str, \\\n",
    "                'country_code': np.int64, 'latitude': np.float64, 'longitude': np.float64, 'wifi_connection': bool, \\\n",
    "                'carrier_id': np.float16, 'os_minor': np.float32, 'os_major': np.float32, 'agent_device': np.float64, \\\n",
    "                'specs_brand': 'category', 'brand': np.float16, 'timeToClick': np.float64, 'touchX': np.float16, \\\n",
    "                'touchY': np.float16, 'ref_type': 'category', 'ref_hash': np.int64}\n",
    "\n",
    "clicks = pd.read_csv('data/clicks.csv.gzip', dtype=dtypes_dict)"
   ]
  },
  {
   "cell_type": "code",
   "execution_count": 2,
   "metadata": {},
   "outputs": [],
   "source": [
    "dtypes_dict = {'created':'str',  'ref_type': 'category', 'device_brand': np.float32, \\\n",
    "                'device_countrycode': 'category', 'device_language': 'category', \\\n",
    "                'application_id': 'category', 'ref_hash': 'category', 'kind': 'str', 'user_agent': 'str'}\n",
    "\n",
    "installs = pd.read_csv('data/installs.csv.gzip', parse_dates=['created'], low_memory=False)\n",
    "installs.drop('click_hash', axis=1, inplace=True) # Elimino esta columna por tener todos Nan"
   ]
  },
  {
   "cell_type": "code",
   "execution_count": 4,
   "metadata": {},
   "outputs": [],
   "source": [
    "dtype_list = {'event_id':np.int16, 'ref_type':'category', 'aplication_id':np.int16, 'atributed':bool, \\\n",
    "              'device_countrycode':'category', 'trans_id':'category', 'device_os':'category', \\\n",
    "              'wifi':object, 'connection_type':'category'}\n",
    "\n",
    "events = pd.read_csv('data/events.csv.gzip', parse_dates= ['date'], low_memory=False)"
   ]
  },
  {
   "cell_type": "code",
   "execution_count": 6,
   "metadata": {},
   "outputs": [
    {
     "name": "stdout",
     "output_type": "stream",
     "text": [
      "Index(['created', 'application_id', 'ref_type', 'ref_hash', 'attributed',\n",
      "       'implicit', 'device_countrycode', 'device_brand', 'device_model',\n",
      "       'session_user_agent', 'user_agent', 'event_uuid', 'kind', 'wifi',\n",
      "       'trans_id', 'ip_address', 'device_language'],\n",
      "      dtype='object')\n",
      "Index(['date', 'event_id', 'ref_type', 'ref_hash', 'application_id',\n",
      "       'attributed', 'device_countrycode', 'device_os_version', 'device_brand',\n",
      "       'device_model', 'device_city', 'session_user_agent', 'trans_id',\n",
      "       'user_agent', 'event_uuid', 'carrier', 'kind', 'device_os', 'wifi',\n",
      "       'connection_type', 'ip_address', 'device_language'],\n",
      "      dtype='object')\n",
      "Index(['auction_type_id', 'country', 'date', 'device_id', 'platform',\n",
      "       'ref_type_id', 'source_id'],\n",
      "      dtype='object')\n",
      "Index(['advertiser_id', 'action_id', 'source_id', 'created', 'country_code',\n",
      "       'latitude', 'longitude', 'wifi_connection', 'carrier_id', 'trans_id',\n",
      "       'os_minor', 'agent_device', 'os_major', 'specs_brand', 'brand',\n",
      "       'timeToClick', 'touchX', 'touchY', 'ref_type', 'ref_hash'],\n",
      "      dtype='object')\n"
     ]
    }
   ],
   "source": [
    "print(installs.columns)\n",
    "print(events.columns)\n",
    "print(auctions.columns)\n",
    "print(clicks.columns)"
   ]
  },
  {
   "cell_type": "markdown",
   "metadata": {},
   "source": [
    "Solo voy a analizar el ref hash y device_id, asi que elimino todas las columnas que no necesite"
   ]
  },
  {
   "cell_type": "code",
   "execution_count": 7,
   "metadata": {},
   "outputs": [],
   "source": [
    "installs.drop('ref_type', axis=1, inplace=True) \n",
    "installs.drop('device_countrycode', axis=1, inplace=True) \n",
    "installs.drop('kind', axis=1, inplace=True)\n",
    "installs.drop('wifi', axis=1, inplace=True)\n",
    "installs.drop('trans_id', axis=1, inplace=True)\n",
    "installs.drop('device_language', axis=1, inplace=True)\n",
    "installs.drop('session_user_agent', axis=1, inplace=True)\n",
    "installs.drop('user_agent', axis=1, inplace=True)\n",
    "installs.drop('event_uuid', axis=1, inplace=True)"
   ]
  },
  {
   "cell_type": "code",
   "execution_count": 9,
   "metadata": {},
   "outputs": [],
   "source": [
    "clicks.drop('latitude', axis=1, inplace=True)\n",
    "clicks.drop('longitude', axis=1, inplace=True)\n",
    "clicks.drop('wifi_connection', axis=1, inplace=True)\n",
    "clicks.drop('carrier_id', axis=1, inplace=True)\n",
    "clicks.drop('trans_id', axis=1, inplace=True)\n",
    "clicks.drop('os_minor', axis=1, inplace=True)\n",
    "clicks.drop('os_major', axis=1, inplace=True)\n",
    "clicks.drop('touchX', axis=1, inplace=True)\n",
    "clicks.drop('touchY', axis=1, inplace=True)"
   ]
  },
  {
   "cell_type": "code",
   "execution_count": 10,
   "metadata": {},
   "outputs": [],
   "source": [
    "events.drop('event_uuid', axis=1, inplace=True)\n",
    "events.drop('device_countrycode', axis=1, inplace=True)\n",
    "events.drop('device_os_version', axis=1, inplace=True)\n",
    "events.drop('device_city', axis=1, inplace=True)\n",
    "events.drop('trans_id', axis=1, inplace=True)\n",
    "events.drop('session_user_agent', axis=1, inplace=True)\n",
    "events.drop('wifi', axis=1, inplace=True)\n",
    "events.drop('device_language', axis=1, inplace=True)\n",
    "events.drop('user_agent', axis=1, inplace=True)"
   ]
  },
  {
   "cell_type": "code",
   "execution_count": 18,
   "metadata": {},
   "outputs": [],
   "source": [
    "auctions.drop('country', axis=1, inplace=True)\n",
    "auctions.drop('ref_type_id', axis=1, inplace=True)\n",
    "auctions.drop('platform', axis=1, inplace=True)\n",
    "auctions.drop('auction_type_id', axis=1, inplace=True)"
   ]
  },
  {
   "cell_type": "code",
   "execution_count": 12,
   "metadata": {},
   "outputs": [
    {
     "data": {
      "text/html": [
       "<div>\n",
       "<style scoped>\n",
       "    .dataframe tbody tr th:only-of-type {\n",
       "        vertical-align: middle;\n",
       "    }\n",
       "\n",
       "    .dataframe tbody tr th {\n",
       "        vertical-align: top;\n",
       "    }\n",
       "\n",
       "    .dataframe thead th {\n",
       "        text-align: right;\n",
       "    }\n",
       "</style>\n",
       "<table border=\"1\" class=\"dataframe\">\n",
       "  <thead>\n",
       "    <tr style=\"text-align: right;\">\n",
       "      <th></th>\n",
       "      <th>created</th>\n",
       "      <th>application_id</th>\n",
       "      <th>ref_hash</th>\n",
       "      <th>attributed</th>\n",
       "      <th>implicit</th>\n",
       "      <th>device_brand</th>\n",
       "      <th>device_model</th>\n",
       "      <th>ip_address</th>\n",
       "    </tr>\n",
       "  </thead>\n",
       "  <tbody>\n",
       "    <tr>\n",
       "      <th>0</th>\n",
       "      <td>2019-03-13 01:43:33.445</td>\n",
       "      <td>0</td>\n",
       "      <td>8464844987297247076</td>\n",
       "      <td>False</td>\n",
       "      <td>False</td>\n",
       "      <td>3.083059e+17</td>\n",
       "      <td>4.445252e+18</td>\n",
       "      <td>5529284367937637301</td>\n",
       "    </tr>\n",
       "    <tr>\n",
       "      <th>1</th>\n",
       "      <td>2019-03-13 04:58:35.078</td>\n",
       "      <td>0</td>\n",
       "      <td>3250564871270161533</td>\n",
       "      <td>False</td>\n",
       "      <td>False</td>\n",
       "      <td>3.083059e+17</td>\n",
       "      <td>4.445252e+18</td>\n",
       "      <td>6098022721363533304</td>\n",
       "    </tr>\n",
       "    <tr>\n",
       "      <th>2</th>\n",
       "      <td>2019-03-13 04:20:57.666</td>\n",
       "      <td>0</td>\n",
       "      <td>7953318831018100268</td>\n",
       "      <td>False</td>\n",
       "      <td>True</td>\n",
       "      <td>5.137992e+17</td>\n",
       "      <td>6.026543e+18</td>\n",
       "      <td>4636407223847323867</td>\n",
       "    </tr>\n",
       "    <tr>\n",
       "      <th>3</th>\n",
       "      <td>2019-03-13 04:20:57.698</td>\n",
       "      <td>0</td>\n",
       "      <td>7953318831018100268</td>\n",
       "      <td>False</td>\n",
       "      <td>False</td>\n",
       "      <td>5.137992e+17</td>\n",
       "      <td>6.026543e+18</td>\n",
       "      <td>4636407223847323867</td>\n",
       "    </tr>\n",
       "    <tr>\n",
       "      <th>4</th>\n",
       "      <td>2019-03-10 22:24:56.684</td>\n",
       "      <td>0</td>\n",
       "      <td>8355110941557237501</td>\n",
       "      <td>False</td>\n",
       "      <td>True</td>\n",
       "      <td>1.083369e+18</td>\n",
       "      <td>7.876612e+18</td>\n",
       "      <td>685400811232710215</td>\n",
       "    </tr>\n",
       "  </tbody>\n",
       "</table>\n",
       "</div>"
      ],
      "text/plain": [
       "                  created  application_id             ref_hash  attributed  \\\n",
       "0 2019-03-13 01:43:33.445               0  8464844987297247076       False   \n",
       "1 2019-03-13 04:58:35.078               0  3250564871270161533       False   \n",
       "2 2019-03-13 04:20:57.666               0  7953318831018100268       False   \n",
       "3 2019-03-13 04:20:57.698               0  7953318831018100268       False   \n",
       "4 2019-03-10 22:24:56.684               0  8355110941557237501       False   \n",
       "\n",
       "   implicit  device_brand  device_model           ip_address  \n",
       "0     False  3.083059e+17  4.445252e+18  5529284367937637301  \n",
       "1     False  3.083059e+17  4.445252e+18  6098022721363533304  \n",
       "2      True  5.137992e+17  6.026543e+18  4636407223847323867  \n",
       "3     False  5.137992e+17  6.026543e+18  4636407223847323867  \n",
       "4      True  1.083369e+18  7.876612e+18   685400811232710215  "
      ]
     },
     "execution_count": 12,
     "metadata": {},
     "output_type": "execute_result"
    }
   ],
   "source": [
    "installs.head()"
   ]
  },
  {
   "cell_type": "code",
   "execution_count": 13,
   "metadata": {},
   "outputs": [
    {
     "data": {
      "text/html": [
       "<div>\n",
       "<style scoped>\n",
       "    .dataframe tbody tr th:only-of-type {\n",
       "        vertical-align: middle;\n",
       "    }\n",
       "\n",
       "    .dataframe tbody tr th {\n",
       "        vertical-align: top;\n",
       "    }\n",
       "\n",
       "    .dataframe thead th {\n",
       "        text-align: right;\n",
       "    }\n",
       "</style>\n",
       "<table border=\"1\" class=\"dataframe\">\n",
       "  <thead>\n",
       "    <tr style=\"text-align: right;\">\n",
       "      <th></th>\n",
       "      <th>date</th>\n",
       "      <th>event_id</th>\n",
       "      <th>ref_type</th>\n",
       "      <th>ref_hash</th>\n",
       "      <th>application_id</th>\n",
       "      <th>attributed</th>\n",
       "      <th>device_brand</th>\n",
       "      <th>device_model</th>\n",
       "      <th>carrier</th>\n",
       "      <th>kind</th>\n",
       "      <th>device_os</th>\n",
       "      <th>connection_type</th>\n",
       "      <th>ip_address</th>\n",
       "    </tr>\n",
       "  </thead>\n",
       "  <tbody>\n",
       "    <tr>\n",
       "      <th>0</th>\n",
       "      <td>2019-03-05 00:09:36.966</td>\n",
       "      <td>0</td>\n",
       "      <td>1891515180541284343</td>\n",
       "      <td>2688759737656491380</td>\n",
       "      <td>38</td>\n",
       "      <td>False</td>\n",
       "      <td>NaN</td>\n",
       "      <td>5.990117e+18</td>\n",
       "      <td>2.248157e+17</td>\n",
       "      <td>5.516623e+18</td>\n",
       "      <td>7.531669e+18</td>\n",
       "      <td>Cable/DSL</td>\n",
       "      <td>7858558567428669000</td>\n",
       "    </tr>\n",
       "    <tr>\n",
       "      <th>1</th>\n",
       "      <td>2019-03-05 00:09:38.920</td>\n",
       "      <td>1</td>\n",
       "      <td>1891515180541284343</td>\n",
       "      <td>2688759737656491380</td>\n",
       "      <td>38</td>\n",
       "      <td>False</td>\n",
       "      <td>NaN</td>\n",
       "      <td>5.990117e+18</td>\n",
       "      <td>2.248157e+17</td>\n",
       "      <td>9.977660e+17</td>\n",
       "      <td>7.531669e+18</td>\n",
       "      <td>Cable/DSL</td>\n",
       "      <td>7858558567428669000</td>\n",
       "    </tr>\n",
       "    <tr>\n",
       "      <th>2</th>\n",
       "      <td>2019-03-05 00:09:26.195</td>\n",
       "      <td>0</td>\n",
       "      <td>1891515180541284343</td>\n",
       "      <td>2688759737656491380</td>\n",
       "      <td>38</td>\n",
       "      <td>False</td>\n",
       "      <td>NaN</td>\n",
       "      <td>5.990117e+18</td>\n",
       "      <td>2.248157e+17</td>\n",
       "      <td>5.516623e+18</td>\n",
       "      <td>7.531669e+18</td>\n",
       "      <td>Cable/DSL</td>\n",
       "      <td>7858558567428669000</td>\n",
       "    </tr>\n",
       "    <tr>\n",
       "      <th>3</th>\n",
       "      <td>2019-03-05 00:09:31.107</td>\n",
       "      <td>2</td>\n",
       "      <td>1891515180541284343</td>\n",
       "      <td>2688759737656491380</td>\n",
       "      <td>38</td>\n",
       "      <td>False</td>\n",
       "      <td>NaN</td>\n",
       "      <td>5.990117e+18</td>\n",
       "      <td>2.248157e+17</td>\n",
       "      <td>8.561153e+18</td>\n",
       "      <td>7.531669e+18</td>\n",
       "      <td>Cable/DSL</td>\n",
       "      <td>6324037615828123965</td>\n",
       "    </tr>\n",
       "    <tr>\n",
       "      <th>4</th>\n",
       "      <td>2019-03-09 21:00:36.585</td>\n",
       "      <td>3</td>\n",
       "      <td>1891515180541284343</td>\n",
       "      <td>2635154697734164782</td>\n",
       "      <td>38</td>\n",
       "      <td>False</td>\n",
       "      <td>NaN</td>\n",
       "      <td>5.960896e+18</td>\n",
       "      <td>2.248157e+17</td>\n",
       "      <td>8.731902e+17</td>\n",
       "      <td>7.531669e+18</td>\n",
       "      <td>Cable/DSL</td>\n",
       "      <td>2894495631302821483</td>\n",
       "    </tr>\n",
       "  </tbody>\n",
       "</table>\n",
       "</div>"
      ],
      "text/plain": [
       "                     date  event_id             ref_type             ref_hash  \\\n",
       "0 2019-03-05 00:09:36.966         0  1891515180541284343  2688759737656491380   \n",
       "1 2019-03-05 00:09:38.920         1  1891515180541284343  2688759737656491380   \n",
       "2 2019-03-05 00:09:26.195         0  1891515180541284343  2688759737656491380   \n",
       "3 2019-03-05 00:09:31.107         2  1891515180541284343  2688759737656491380   \n",
       "4 2019-03-09 21:00:36.585         3  1891515180541284343  2635154697734164782   \n",
       "\n",
       "   application_id  attributed  device_brand  device_model       carrier  \\\n",
       "0              38       False           NaN  5.990117e+18  2.248157e+17   \n",
       "1              38       False           NaN  5.990117e+18  2.248157e+17   \n",
       "2              38       False           NaN  5.990117e+18  2.248157e+17   \n",
       "3              38       False           NaN  5.990117e+18  2.248157e+17   \n",
       "4              38       False           NaN  5.960896e+18  2.248157e+17   \n",
       "\n",
       "           kind     device_os connection_type           ip_address  \n",
       "0  5.516623e+18  7.531669e+18       Cable/DSL  7858558567428669000  \n",
       "1  9.977660e+17  7.531669e+18       Cable/DSL  7858558567428669000  \n",
       "2  5.516623e+18  7.531669e+18       Cable/DSL  7858558567428669000  \n",
       "3  8.561153e+18  7.531669e+18       Cable/DSL  6324037615828123965  \n",
       "4  8.731902e+17  7.531669e+18       Cable/DSL  2894495631302821483  "
      ]
     },
     "execution_count": 13,
     "metadata": {},
     "output_type": "execute_result"
    }
   ],
   "source": [
    "events.head()"
   ]
  },
  {
   "cell_type": "code",
   "execution_count": 19,
   "metadata": {},
   "outputs": [
    {
     "data": {
      "text/html": [
       "<div>\n",
       "<style scoped>\n",
       "    .dataframe tbody tr th:only-of-type {\n",
       "        vertical-align: middle;\n",
       "    }\n",
       "\n",
       "    .dataframe tbody tr th {\n",
       "        vertical-align: top;\n",
       "    }\n",
       "\n",
       "    .dataframe thead th {\n",
       "        text-align: right;\n",
       "    }\n",
       "</style>\n",
       "<table border=\"1\" class=\"dataframe\">\n",
       "  <thead>\n",
       "    <tr style=\"text-align: right;\">\n",
       "      <th></th>\n",
       "      <th>date</th>\n",
       "      <th>device_id</th>\n",
       "      <th>source_id</th>\n",
       "    </tr>\n",
       "  </thead>\n",
       "  <tbody>\n",
       "    <tr>\n",
       "      <th>0</th>\n",
       "      <td>2019-03-11 14:18:33.290763</td>\n",
       "      <td>6059599345986491085</td>\n",
       "      <td>0</td>\n",
       "    </tr>\n",
       "    <tr>\n",
       "      <th>1</th>\n",
       "      <td>2019-03-11 14:18:34.440157</td>\n",
       "      <td>1115994996230693426</td>\n",
       "      <td>0</td>\n",
       "    </tr>\n",
       "    <tr>\n",
       "      <th>2</th>\n",
       "      <td>2019-03-11 14:18:35.862360</td>\n",
       "      <td>7463856250762200923</td>\n",
       "      <td>0</td>\n",
       "    </tr>\n",
       "    <tr>\n",
       "      <th>3</th>\n",
       "      <td>2019-03-11 14:18:36.167163</td>\n",
       "      <td>7829815350267792040</td>\n",
       "      <td>0</td>\n",
       "    </tr>\n",
       "    <tr>\n",
       "      <th>4</th>\n",
       "      <td>2019-03-11 14:18:37.728590</td>\n",
       "      <td>1448534231953777480</td>\n",
       "      <td>0</td>\n",
       "    </tr>\n",
       "  </tbody>\n",
       "</table>\n",
       "</div>"
      ],
      "text/plain": [
       "                        date            device_id  source_id\n",
       "0 2019-03-11 14:18:33.290763  6059599345986491085          0\n",
       "1 2019-03-11 14:18:34.440157  1115994996230693426          0\n",
       "2 2019-03-11 14:18:35.862360  7463856250762200923          0\n",
       "3 2019-03-11 14:18:36.167163  7829815350267792040          0\n",
       "4 2019-03-11 14:18:37.728590  1448534231953777480          0"
      ]
     },
     "execution_count": 19,
     "metadata": {},
     "output_type": "execute_result"
    }
   ],
   "source": [
    "auctions.head()"
   ]
  },
  {
   "cell_type": "code",
   "execution_count": 20,
   "metadata": {},
   "outputs": [
    {
     "data": {
      "text/html": [
       "<div>\n",
       "<style scoped>\n",
       "    .dataframe tbody tr th:only-of-type {\n",
       "        vertical-align: middle;\n",
       "    }\n",
       "\n",
       "    .dataframe tbody tr th {\n",
       "        vertical-align: top;\n",
       "    }\n",
       "\n",
       "    .dataframe thead th {\n",
       "        text-align: right;\n",
       "    }\n",
       "</style>\n",
       "<table border=\"1\" class=\"dataframe\">\n",
       "  <thead>\n",
       "    <tr style=\"text-align: right;\">\n",
       "      <th></th>\n",
       "      <th>advertiser_id</th>\n",
       "      <th>action_id</th>\n",
       "      <th>source_id</th>\n",
       "      <th>created</th>\n",
       "      <th>country_code</th>\n",
       "      <th>agent_device</th>\n",
       "      <th>specs_brand</th>\n",
       "      <th>brand</th>\n",
       "      <th>timeToClick</th>\n",
       "      <th>ref_type</th>\n",
       "      <th>ref_hash</th>\n",
       "    </tr>\n",
       "  </thead>\n",
       "  <tbody>\n",
       "    <tr>\n",
       "      <th>0</th>\n",
       "      <td>2</td>\n",
       "      <td>NaN</td>\n",
       "      <td>4</td>\n",
       "      <td>2019-03-06T22:42:12.755Z</td>\n",
       "      <td>6333597102633388268</td>\n",
       "      <td>NaN</td>\n",
       "      <td>2733035977666442898</td>\n",
       "      <td>NaN</td>\n",
       "      <td>1.563</td>\n",
       "      <td>1891515180541284343</td>\n",
       "      <td>1904083516767779093</td>\n",
       "    </tr>\n",
       "    <tr>\n",
       "      <th>1</th>\n",
       "      <td>0</td>\n",
       "      <td>NaN</td>\n",
       "      <td>0</td>\n",
       "      <td>2019-03-08T10:24:30.641Z</td>\n",
       "      <td>6333597102633388268</td>\n",
       "      <td>NaN</td>\n",
       "      <td>392184377613098015</td>\n",
       "      <td>NaN</td>\n",
       "      <td>NaN</td>\n",
       "      <td>1891515180541284343</td>\n",
       "      <td>3086509764961796666</td>\n",
       "    </tr>\n",
       "    <tr>\n",
       "      <th>2</th>\n",
       "      <td>0</td>\n",
       "      <td>NaN</td>\n",
       "      <td>0</td>\n",
       "      <td>2019-03-08T15:24:16.069Z</td>\n",
       "      <td>6333597102633388268</td>\n",
       "      <td>NaN</td>\n",
       "      <td>392184377613098015</td>\n",
       "      <td>NaN</td>\n",
       "      <td>NaN</td>\n",
       "      <td>1891515180541284343</td>\n",
       "      <td>6958163894863846647</td>\n",
       "    </tr>\n",
       "    <tr>\n",
       "      <th>3</th>\n",
       "      <td>2</td>\n",
       "      <td>NaN</td>\n",
       "      <td>3</td>\n",
       "      <td>2019-03-06T03:08:51.543Z</td>\n",
       "      <td>6333597102633388268</td>\n",
       "      <td>NaN</td>\n",
       "      <td>2733035977666442898</td>\n",
       "      <td>NaN</td>\n",
       "      <td>19.013</td>\n",
       "      <td>1891515180541284343</td>\n",
       "      <td>4368617728156436525</td>\n",
       "    </tr>\n",
       "    <tr>\n",
       "      <th>4</th>\n",
       "      <td>2</td>\n",
       "      <td>NaN</td>\n",
       "      <td>3</td>\n",
       "      <td>2019-03-06T03:32:55.570Z</td>\n",
       "      <td>6333597102633388268</td>\n",
       "      <td>NaN</td>\n",
       "      <td>2733035977666442898</td>\n",
       "      <td>NaN</td>\n",
       "      <td>28.110</td>\n",
       "      <td>1891515180541284343</td>\n",
       "      <td>4368617728156436525</td>\n",
       "    </tr>\n",
       "  </tbody>\n",
       "</table>\n",
       "</div>"
      ],
      "text/plain": [
       "  advertiser_id  action_id  source_id                   created  \\\n",
       "0             2        NaN          4  2019-03-06T22:42:12.755Z   \n",
       "1             0        NaN          0  2019-03-08T10:24:30.641Z   \n",
       "2             0        NaN          0  2019-03-08T15:24:16.069Z   \n",
       "3             2        NaN          3  2019-03-06T03:08:51.543Z   \n",
       "4             2        NaN          3  2019-03-06T03:32:55.570Z   \n",
       "\n",
       "          country_code  agent_device          specs_brand  brand  timeToClick  \\\n",
       "0  6333597102633388268           NaN  2733035977666442898    NaN        1.563   \n",
       "1  6333597102633388268           NaN   392184377613098015    NaN          NaN   \n",
       "2  6333597102633388268           NaN   392184377613098015    NaN          NaN   \n",
       "3  6333597102633388268           NaN  2733035977666442898    NaN       19.013   \n",
       "4  6333597102633388268           NaN  2733035977666442898    NaN       28.110   \n",
       "\n",
       "              ref_type             ref_hash  \n",
       "0  1891515180541284343  1904083516767779093  \n",
       "1  1891515180541284343  3086509764961796666  \n",
       "2  1891515180541284343  6958163894863846647  \n",
       "3  1891515180541284343  4368617728156436525  \n",
       "4  1891515180541284343  4368617728156436525  "
      ]
     },
     "execution_count": 20,
     "metadata": {},
     "output_type": "execute_result"
    }
   ],
   "source": [
    "clicks.head()"
   ]
  },
  {
   "cell_type": "markdown",
   "metadata": {},
   "source": [
    "### **Correlacion entre cantidad de subastas y clicks**"
   ]
  },
  {
   "cell_type": "code",
   "execution_count": 21,
   "metadata": {},
   "outputs": [
    {
     "data": {
      "text/plain": [
       "206977"
      ]
     },
     "execution_count": 21,
     "metadata": {},
     "output_type": "execute_result"
    }
   ],
   "source": [
    "# filtro los device_id de las subastas \n",
    "device_count = auctions['device_id'].value_counts()\n",
    "subastas_x_device_key = device_count.keys()\n",
    "subastas_x_device = device_count.to_frame().reset_index()\n",
    "subastas_x_device.columns = ['ref_hash', 'count']\n",
    "len(subastas_x_device)"
   ]
  },
  {
   "cell_type": "code",
   "execution_count": 22,
   "metadata": {},
   "outputs": [
    {
     "data": {
      "text/plain": [
       "16979"
      ]
     },
     "execution_count": 22,
     "metadata": {},
     "output_type": "execute_result"
    }
   ],
   "source": [
    "# busco a esos mismos device en el data de click ref_hash\n",
    "ref_hash_count = clicks.loc[clicks['ref_hash'].isin(subastas_x_device_key)]\\\n",
    "                            ['ref_hash'].value_counts()\n",
    "clicks_x_ref_hash_keys = ref_hash_count.keys()\n",
    "clicks_x_ref_hash = ref_hash_count.to_frame().reset_index()\n",
    "clicks_x_ref_hash.columns = ['ref_hash', 'count']\n",
    "len(clicks_x_ref_hash)"
   ]
  },
  {
   "cell_type": "code",
   "execution_count": 25,
   "metadata": {},
   "outputs": [
    {
     "data": {
      "text/html": [
       "<div>\n",
       "<style scoped>\n",
       "    .dataframe tbody tr th:only-of-type {\n",
       "        vertical-align: middle;\n",
       "    }\n",
       "\n",
       "    .dataframe tbody tr th {\n",
       "        vertical-align: top;\n",
       "    }\n",
       "\n",
       "    .dataframe thead th {\n",
       "        text-align: right;\n",
       "    }\n",
       "</style>\n",
       "<table border=\"1\" class=\"dataframe\">\n",
       "  <thead>\n",
       "    <tr style=\"text-align: right;\">\n",
       "      <th></th>\n",
       "      <th>ref_hash</th>\n",
       "      <th>count_x</th>\n",
       "      <th>count_y</th>\n",
       "    </tr>\n",
       "  </thead>\n",
       "  <tbody>\n",
       "    <tr>\n",
       "      <th>0</th>\n",
       "      <td>633139769114048761</td>\n",
       "      <td>27762</td>\n",
       "      <td>10</td>\n",
       "    </tr>\n",
       "    <tr>\n",
       "      <th>1</th>\n",
       "      <td>7202276635029175071</td>\n",
       "      <td>23055</td>\n",
       "      <td>10</td>\n",
       "    </tr>\n",
       "    <tr>\n",
       "      <th>2</th>\n",
       "      <td>7298861376107043945</td>\n",
       "      <td>18188</td>\n",
       "      <td>12</td>\n",
       "    </tr>\n",
       "    <tr>\n",
       "      <th>3</th>\n",
       "      <td>5376802567578262905</td>\n",
       "      <td>16367</td>\n",
       "      <td>9</td>\n",
       "    </tr>\n",
       "    <tr>\n",
       "      <th>4</th>\n",
       "      <td>795159065504552200</td>\n",
       "      <td>12275</td>\n",
       "      <td>1</td>\n",
       "    </tr>\n",
       "  </tbody>\n",
       "</table>\n",
       "</div>"
      ],
      "text/plain": [
       "              ref_hash  count_x  count_y\n",
       "0   633139769114048761    27762       10\n",
       "1  7202276635029175071    23055       10\n",
       "2  7298861376107043945    18188       12\n",
       "3  5376802567578262905    16367        9\n",
       "4   795159065504552200    12275        1"
      ]
     },
     "execution_count": 25,
     "metadata": {},
     "output_type": "execute_result"
    }
   ],
   "source": [
    "ref_hash_ck_au = pd.merge(subastas_x_device, clicks_x_ref_hash, on='ref_hash')\n",
    "ref_hash_ck_au.head()"
   ]
  },
  {
   "cell_type": "code",
   "execution_count": 26,
   "metadata": {},
   "outputs": [
    {
     "data": {
      "text/plain": [
       "12"
      ]
     },
     "execution_count": 26,
     "metadata": {},
     "output_type": "execute_result"
    }
   ],
   "source": [
    "# como son muchos datos filtro por cantidad de clicks mayores a 15\n",
    "more_clicks = list(ref_hash_ck_au.loc[ref_hash_ck_au['count_y'] >= 15]['ref_hash'].keys())\n",
    "more_cliks_merge = ref_hash_ck_au.iloc[more_clicks].set_index('ref_hash')\n",
    "more_cliks_merge.columns = ['count_auctions', 'count_clicks']\n",
    "len(more_clicks)"
   ]
  },
  {
   "cell_type": "code",
   "execution_count": 27,
   "metadata": {},
   "outputs": [
    {
     "data": {
      "image/png": "[encoded data removed]",
      "text/plain": [
       "<Figure size 1152x576 with 1 Axes>"
      ]
     },
     "metadata": {
      "needs_background": "light"
     },
     "output_type": "display_data"
    }
   ],
   "source": [
    "# grafico la relacion entre subastas y clicks\n",
    "merge_cl_au = more_cliks_merge.plot(log=True, figsize=(16,8), kind='bar')\n",
    "merge_cl_au.set_title('Cantidad de Subastas hechas por usuario que llegaron a más de 15 clicks', fontsize =20)\n",
    "merge_cl_au.set_ylabel(\"Cantidades\", fontsize = 15)\n",
    "merge_cl_au.set_xlabel(\"Ref Hash\", fontsize = 15)\n",
    "plt.savefig('image/auctions_clicks_count.png',bbox_inches = 'tight', pad_inches = 0.1)"
   ]
  },
  {
   "cell_type": "markdown",
   "metadata": {},
   "source": [
    "## **Correlacion entre cantidad de instalaciones y subastas**"
   ]
  },
  {
   "cell_type": "code",
   "execution_count": 28,
   "metadata": {},
   "outputs": [
    {
     "data": {
      "text/plain": [
       "3008"
      ]
     },
     "execution_count": 28,
     "metadata": {},
     "output_type": "execute_result"
    }
   ],
   "source": [
    "inst_hash_count = installs['ref_hash'].value_counts()\n",
    "inst_all = inst_hash_count.keys()\n",
    "len(inst_all)"
   ]
  },
  {
   "cell_type": "code",
   "execution_count": 32,
   "metadata": {},
   "outputs": [],
   "source": [
    "inst_x_ref = inst_hash_count.to_frame().reset_index()\n",
    "inst_x_ref.columns = ['ref_hash', 'count']"
   ]
  },
  {
   "cell_type": "code",
   "execution_count": 29,
   "metadata": {},
   "outputs": [
    {
     "data": {
      "text/plain": [
       "994"
      ]
     },
     "execution_count": 29,
     "metadata": {},
     "output_type": "execute_result"
    }
   ],
   "source": [
    "auc_device_count = auctions.loc[auctions['device_id'].isin(inst_all)]['device_id'].value_counts()\n",
    "auc_device_keys = auc_device_count.keys()\n",
    "auc_device = auc_device_count.to_frame().reset_index()\n",
    "auc_device.columns = ['ref_hash', 'count']\n",
    "len(auc_device)"
   ]
  },
  {
   "cell_type": "code",
   "execution_count": 33,
   "metadata": {},
   "outputs": [
    {
     "data": {
      "text/html": [
       "<div>\n",
       "<style scoped>\n",
       "    .dataframe tbody tr th:only-of-type {\n",
       "        vertical-align: middle;\n",
       "    }\n",
       "\n",
       "    .dataframe tbody tr th {\n",
       "        vertical-align: top;\n",
       "    }\n",
       "\n",
       "    .dataframe thead th {\n",
       "        text-align: right;\n",
       "    }\n",
       "</style>\n",
       "<table border=\"1\" class=\"dataframe\">\n",
       "  <thead>\n",
       "    <tr style=\"text-align: right;\">\n",
       "      <th></th>\n",
       "      <th>ref_hash</th>\n",
       "      <th>count_x</th>\n",
       "      <th>count_y</th>\n",
       "    </tr>\n",
       "  </thead>\n",
       "  <tbody>\n",
       "    <tr>\n",
       "      <th>0</th>\n",
       "      <td>2515049144505739996</td>\n",
       "      <td>3</td>\n",
       "      <td>236</td>\n",
       "    </tr>\n",
       "    <tr>\n",
       "      <th>1</th>\n",
       "      <td>5376622639905210608</td>\n",
       "      <td>3</td>\n",
       "      <td>54</td>\n",
       "    </tr>\n",
       "    <tr>\n",
       "      <th>2</th>\n",
       "      <td>470581161921490835</td>\n",
       "      <td>3</td>\n",
       "      <td>2</td>\n",
       "    </tr>\n",
       "    <tr>\n",
       "      <th>3</th>\n",
       "      <td>394181128078904930</td>\n",
       "      <td>3</td>\n",
       "      <td>253</td>\n",
       "    </tr>\n",
       "    <tr>\n",
       "      <th>4</th>\n",
       "      <td>6207088909238189318</td>\n",
       "      <td>3</td>\n",
       "      <td>7</td>\n",
       "    </tr>\n",
       "  </tbody>\n",
       "</table>\n",
       "</div>"
      ],
      "text/plain": [
       "              ref_hash  count_x  count_y\n",
       "0  2515049144505739996        3      236\n",
       "1  5376622639905210608        3       54\n",
       "2   470581161921490835        3        2\n",
       "3   394181128078904930        3      253\n",
       "4  6207088909238189318        3        7"
      ]
     },
     "execution_count": 33,
     "metadata": {},
     "output_type": "execute_result"
    }
   ],
   "source": [
    "merge_inst_auct = pd.merge(inst_x_ref, auc_device, on='ref_hash')\n",
    "merge_inst_auct.head()"
   ]
  },
  {
   "cell_type": "code",
   "execution_count": 35,
   "metadata": {},
   "outputs": [
    {
     "name": "stdout",
     "output_type": "stream",
     "text": [
      "7\n"
     ]
    }
   ],
   "source": [
    "more_installs_keys = list(merge_inst_auct.loc[merge_inst_auct['count_x'] > 2]['ref_hash'].keys())\n",
    "more_installs = merge_inst_auct.iloc[more_installs_keys].set_index('ref_hash')\n",
    "more_installs.columns = ['count_installs', 'count_auctions']\n",
    "print(len(more_installs))"
   ]
  },
  {
   "cell_type": "code",
   "execution_count": 91,
   "metadata": {},
   "outputs": [
    {
     "data": {
      "image/png": "[encoded data removed]",
      "text/plain": [
       "<Figure size 1152x576 with 1 Axes>"
      ]
     },
     "metadata": {
      "needs_background": "light"
     },
     "output_type": "display_data"
    }
   ],
   "source": [
    "merge_in_au = more_installs.plot(log=True, figsize=(16,8), kind='barh')\n",
    "merge_in_au.set_title('Cantidad de Subastas hechas por usuario que llegaron a mas de 2 instalacion', fontsize =20)\n",
    "merge_in_au.set_ylabel(\"Cantidades\", fontsize = 15)\n",
    "merge_in_au.set_xlabel(\"Ref Hash\", fontsize = 15)\n",
    "plt.savefig('image/auctions_installs_count.png',bbox_inches = 'tight', pad_inches = 0.1)"
   ]
  },
  {
   "cell_type": "code",
   "execution_count": null,
   "metadata": {},
   "outputs": [],
   "source": []
  },
  {
   "cell_type": "markdown",
   "metadata": {},
   "source": [
    "## **Correlacion entre cantidad de eventos y subastas**"
   ]
  },
  {
   "cell_type": "code",
   "execution_count": 53,
   "metadata": {},
   "outputs": [
    {
     "data": {
      "text/plain": [
       "84834"
      ]
     },
     "execution_count": 53,
     "metadata": {},
     "output_type": "execute_result"
    }
   ],
   "source": [
    "event_hash_count = events.loc[events['ref_hash'].isin(subastas_x_device_key)]\\\n",
    "                            ['ref_hash'].value_counts()\n",
    "event_x_ref_hash_keys = event_hash_count.keys()\n",
    "event_x_ref_hash = event_hash_count.to_frame().reset_index()\n",
    "event_x_ref_hash.columns = ['ref_hash', 'count']\n",
    "len(event_x_ref_hash)"
   ]
  },
  {
   "cell_type": "code",
   "execution_count": 64,
   "metadata": {},
   "outputs": [
    {
     "data": {
      "text/html": [
       "<div>\n",
       "<style scoped>\n",
       "    .dataframe tbody tr th:only-of-type {\n",
       "        vertical-align: middle;\n",
       "    }\n",
       "\n",
       "    .dataframe tbody tr th {\n",
       "        vertical-align: top;\n",
       "    }\n",
       "\n",
       "    .dataframe thead th {\n",
       "        text-align: right;\n",
       "    }\n",
       "</style>\n",
       "<table border=\"1\" class=\"dataframe\">\n",
       "  <thead>\n",
       "    <tr style=\"text-align: right;\">\n",
       "      <th></th>\n",
       "      <th>ref_hash</th>\n",
       "      <th>count_x</th>\n",
       "      <th>count_y</th>\n",
       "    </tr>\n",
       "  </thead>\n",
       "  <tbody>\n",
       "    <tr>\n",
       "      <th>0</th>\n",
       "      <td>7318975191845022655</td>\n",
       "      <td>1868</td>\n",
       "      <td>1</td>\n",
       "    </tr>\n",
       "    <tr>\n",
       "      <th>1</th>\n",
       "      <td>2513037946116418236</td>\n",
       "      <td>1776</td>\n",
       "      <td>5</td>\n",
       "    </tr>\n",
       "    <tr>\n",
       "      <th>2</th>\n",
       "      <td>5321931871150834804</td>\n",
       "      <td>1569</td>\n",
       "      <td>11</td>\n",
       "    </tr>\n",
       "    <tr>\n",
       "      <th>3</th>\n",
       "      <td>4758714072957403924</td>\n",
       "      <td>1569</td>\n",
       "      <td>4</td>\n",
       "    </tr>\n",
       "    <tr>\n",
       "      <th>4</th>\n",
       "      <td>2875587197457827058</td>\n",
       "      <td>1287</td>\n",
       "      <td>1</td>\n",
       "    </tr>\n",
       "  </tbody>\n",
       "</table>\n",
       "</div>"
      ],
      "text/plain": [
       "              ref_hash  count_x  count_y\n",
       "0  7318975191845022655     1868        1\n",
       "1  2513037946116418236     1776        5\n",
       "2  5321931871150834804     1569       11\n",
       "3  4758714072957403924     1569        4\n",
       "4  2875587197457827058     1287        1"
      ]
     },
     "execution_count": 64,
     "metadata": {},
     "output_type": "execute_result"
    }
   ],
   "source": [
    "merge_auc_event = pd.merge(auc_device, event_x_ref_hash, on='ref_hash')\n",
    "merge_auc_event.head()"
   ]
  },
  {
   "cell_type": "code",
   "execution_count": 79,
   "metadata": {},
   "outputs": [
    {
     "name": "stdout",
     "output_type": "stream",
     "text": [
      "8\n"
     ]
    }
   ],
   "source": [
    "more_events_keys = list(merge_auc_event.loc[merge_auc_event['count_y'] > 100]['ref_hash'].keys())\n",
    "merge_auc_events = merge_auc_event.iloc[more_events_keys].set_index('ref_hash')\n",
    "merge_auc_events.columns = ['count_auctions', 'count_events']\n",
    "print(len(merge_auc_events))"
   ]
  },
  {
   "cell_type": "code",
   "execution_count": 92,
   "metadata": {},
   "outputs": [
    {
     "data": {
      "image/png": "[encoded data removed]",
      "text/plain": [
       "<Figure size 1152x576 with 1 Axes>"
      ]
     },
     "metadata": {
      "needs_background": "light"
     },
     "output_type": "display_data"
    }
   ],
   "source": [
    "merge_ev_au = merge_auc_events.plot(log=True, figsize=(16,8), kind='bar')\n",
    "merge_ev_au.set_title('Cantidad de Subastas hechas por usuario que llegaron a mas de 100 events', fontsize =20)\n",
    "merge_ev_au.set_ylabel(\"Cantidades\", fontsize = 15)\n",
    "merge_ev_au.set_xlabel(\"Ref Hash\", fontsize = 15)\n",
    "plt.savefig('image/auctions_events_count.png',bbox_inches = 'tight', pad_inches = 0.1)"
   ]
  },
  {
   "cell_type": "markdown",
   "metadata": {},
   "source": [
    "## **Correlacion entre clicks y installs**"
   ]
  },
  {
   "cell_type": "code",
   "execution_count": 37,
   "metadata": {},
   "outputs": [
    {
     "data": {
      "text/plain": [
       "7"
      ]
     },
     "execution_count": 37,
     "metadata": {},
     "output_type": "execute_result"
    }
   ],
   "source": [
    "clicks_hash_count = clicks.loc[clicks['ref_hash'].isin(inst_all)]['ref_hash'].value_counts()\n",
    "clicks_x_ref_hash_keys = clicks_hash_count.keys()\n",
    "clicks_x_ref_hash = clicks_hash_count.to_frame().reset_index()\n",
    "clicks_x_ref_hash.columns = ['ref_hash', 'count']\n",
    "len(clicks_x_ref_hash)"
   ]
  },
  {
   "cell_type": "code",
   "execution_count": 1,
   "metadata": {},
   "outputs": [
    {
     "ename": "NameError",
     "evalue": "name 'pd' is not defined",
     "output_type": "error",
     "traceback": [
      "\u001b[0;31m---------------------------------------------------------------------------\u001b[0m",
      "\u001b[0;31mNameError\u001b[0m                                 Traceback (most recent call last)",
      "\u001b[0;32m<ipython-input-1-9cacc62e4c78>\u001b[0m in \u001b[0;36m<module>\u001b[0;34m\u001b[0m\n\u001b[0;32m----> 1\u001b[0;31m \u001b[0mmerge_inst_click\u001b[0m \u001b[0;34m=\u001b[0m \u001b[0mpd\u001b[0m\u001b[0;34m.\u001b[0m\u001b[0mmerge\u001b[0m\u001b[0;34m(\u001b[0m\u001b[0minst_x_ref\u001b[0m\u001b[0;34m,\u001b[0m \u001b[0mclicks_x_ref_hash\u001b[0m\u001b[0;34m,\u001b[0m \u001b[0mon\u001b[0m\u001b[0;34m=\u001b[0m\u001b[0;34m'ref_hash'\u001b[0m\u001b[0;34m)\u001b[0m\u001b[0;34m.\u001b[0m\u001b[0mset_index\u001b[0m\u001b[0;34m(\u001b[0m\u001b[0;34m'ref_hash'\u001b[0m\u001b[0;34m)\u001b[0m\u001b[0;34m\u001b[0m\u001b[0;34m\u001b[0m\u001b[0m\n\u001b[0m\u001b[1;32m      2\u001b[0m \u001b[0mmerge_inst_click\u001b[0m\u001b[0;34m.\u001b[0m\u001b[0mcolumns\u001b[0m \u001b[0;34m=\u001b[0m \u001b[0;34m[\u001b[0m\u001b[0;34m'count_installs'\u001b[0m\u001b[0;34m,\u001b[0m \u001b[0;34m'count_clicks'\u001b[0m\u001b[0;34m]\u001b[0m\u001b[0;34m\u001b[0m\u001b[0;34m\u001b[0m\u001b[0m\n\u001b[1;32m      3\u001b[0m \u001b[0mmerge_inst_click\u001b[0m\u001b[0;34m.\u001b[0m\u001b[0mhead\u001b[0m\u001b[0;34m(\u001b[0m\u001b[0;34m)\u001b[0m\u001b[0;34m\u001b[0m\u001b[0;34m\u001b[0m\u001b[0m\n",
      "\u001b[0;31mNameError\u001b[0m: name 'pd' is not defined"
     ]
    }
   ],
   "source": [
    "merge_inst_click = pd.merge(inst_x_ref, clicks_x_ref_hash, on='ref_hash').set_index('ref_hash')\n",
    "merge_inst_click.columns = ['count_installs', 'count_clicks']\n",
    "merge_inst_click.head()"
   ]
  },
  {
   "cell_type": "code",
   "execution_count": 48,
   "metadata": {},
   "outputs": [
    {
     "data": {
      "image/png": "[encoded data removed]",
      "text/plain": [
       "<Figure size 1152x504 with 1 Axes>"
      ]
     },
     "metadata": {
      "needs_background": "light"
     },
     "output_type": "display_data"
    }
   ],
   "source": [
    "merge_fig = merge_inst_click.plot(figsize=(16,7), kind='bar',  cmap='summer', stacked=True)\n",
    "merge_fig.set_title('Cantidad de Clicks hechos antes de una Instalacion', fontsize =20)\n",
    "merge_fig.set_ylabel(\"Cantidades\", fontsize = 15)\n",
    "merge_fig.set_xlabel(\"Ref Hash\", fontsize = 15)\n",
    "plt.savefig('image/installs_clicks_count.png')"
   ]
  }
 ],
 "metadata": {
  "kernelspec": {
   "display_name": "Python 3",
   "language": "python",
   "name": "python3"
  },
  "language_info": {
   "codemirror_mode": {
    "name": "ipython",
    "version": 3
   },
   "file_extension": ".py",
   "mimetype": "text/x-python",
   "name": "python",
   "nbconvert_exporter": "python",
   "pygments_lexer": "ipython3",
   "version": "3.6.7"
  }
 },
 "nbformat": 4,
 "nbformat_minor": 2
}
