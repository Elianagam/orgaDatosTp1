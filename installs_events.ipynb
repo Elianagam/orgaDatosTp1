{
 "cells": [
  {
   "cell_type": "code",
   "execution_count": 1,
   "metadata": {},
   "outputs": [],
   "source": [
    "import pandas as pd\n",
    "import numpy as np\n",
    "import seaborn as sns\n",
    "import matplotlib.pyplot as plt"
   ]
  },
  {
   "cell_type": "code",
   "execution_count": 22,
   "metadata": {},
   "outputs": [],
   "source": [
    "dtypes_dict = {'created':'str', 'application_id': 'category', 'ref_type': 'category', 'device_brand': np.float32, \\\n",
    "                'device_countrycode': 'category', 'device_languaje': 'category'}\n",
    "\n",
    "installs = pd.read_csv('data/train_installs.csv.gzip', parse_dates=['created'], low_memory=False)\n",
    "installs.drop('click_hash', axis=1, inplace=True) # Elimino esta columna por tener todos Nan\n",
    "# installs['created'] = pd.to_datetime(installs['created'], format='%Y-%m-%d %H:%M:%S')"
   ]
  },
  {
   "cell_type": "code",
   "execution_count": 16,
   "metadata": {},
   "outputs": [],
   "source": [
    "dtype_list = {'event_id':np.int16, 'ref_type':'category', 'aplication_id':np.int16, 'atributed':bool, \\\n",
    "              'device_countrycode':'category', 'trans_id':'category', 'device_os':'category', \\\n",
    "              'wifi':object, 'connection_type':'category'}\n",
    "\n",
    "events = pd.read_csv('data/train_events.csv.gzip', parse_dates= ['date'], low_memory=False)"
   ]
  },
  {
   "cell_type": "code",
   "execution_count": 2,
   "metadata": {},
   "outputs": [],
   "source": [
    "dtypes_dict = {'advertiser_id':'category', 'action_id': np.float64, 'source_id': np.int8, 'created': str, \\\n",
    "                'country_code': np.int64, 'latitude': np.float64, 'longitude': np.float64, 'wifi_connection': bool, \\\n",
    "                'carrier_id': np.float16, 'os_minor': np.float32, 'os_major': np.float32, 'agent_device': np.float64, \\\n",
    "                'specs_brand': 'category', 'brand': np.float16, 'timeToClick': np.float64, 'touchX': np.float16, \\\n",
    "                'touchY': np.float16, 'ref_type': 'category', 'ref_hash': np.int64}\n",
    "\n",
    "clicks = pd.read_csv('data/train_clicks.csv.gzip', dtype=dtypes_dict)"
   ]
  },
  {
   "cell_type": "code",
   "execution_count": 2,
   "metadata": {},
   "outputs": [],
   "source": [
    "auctions = pd.read_csv(\"data/train_auctions.csv.gzip\", parse_dates=['date'])"
   ]
  },
  {
   "cell_type": "code",
   "execution_count": 12,
   "metadata": {},
   "outputs": [
    {
     "data": {
      "text/plain": [
       "<matplotlib.axes._subplots.AxesSubplot at 0x7f2019cbb240>"
      ]
     },
     "execution_count": 12,
     "metadata": {},
     "output_type": "execute_result"
    },
    {
     "data": {
      "image/png": "[encoded data removed]",
      "text/plain": [
       "<Figure size 432x288 with 2 Axes>"
      ]
     },
     "metadata": {
      "needs_background": "light"
     },
     "output_type": "display_data"
    }
   ],
   "source": [
    "corre = pd.concat([installs, events], axis=1, keys=['installs', 'events']).corr().loc['installs', 'events']\n",
    "sns.heatmap(corre, cmap='RdBu')"
   ]
  },
  {
   "cell_type": "code",
   "execution_count": 8,
   "metadata": {},
   "outputs": [
    {
     "name": "stdout",
     "output_type": "stream",
     "text": [
      "Index(['created', 'application_id', 'ref_type', 'ref_hash', 'attributed',\n",
      "       'implicit', 'device_countrycode', 'device_brand', 'device_model',\n",
      "       'session_user_agent', 'user_agent', 'event_uuid', 'kind', 'wifi',\n",
      "       'trans_id', 'ip_address', 'device_language'],\n",
      "      dtype='object')\n",
      "Index(['date', 'event_id', 'ref_type', 'ref_hash', 'application_id',\n",
      "       'attributed', 'device_countrycode', 'device_os_version', 'device_brand',\n",
      "       'device_model', 'device_city', 'session_user_agent', 'trans_id',\n",
      "       'user_agent', 'event_uuid', 'carrier', 'kind', 'device_os', 'wifi',\n",
      "       'connection_type', 'ip_address', 'device_language'],\n",
      "      dtype='object')\n",
      "Index(['auction_type_id', 'country', 'date', 'device_id', 'platform',\n",
      "       'ref_type_id', 'source_id'],\n",
      "      dtype='object')\n",
      "Index(['advertiser_id', 'action_id', 'source_id', 'created', 'country_code',\n",
      "       'latitude', 'longitude', 'wifi_connection', 'carrier_id', 'trans_id',\n",
      "       'os_minor', 'agent_device', 'os_major', 'specs_brand', 'brand',\n",
      "       'timeToClick', 'touchX', 'touchY', 'ref_type', 'ref_hash'],\n",
      "      dtype='object')\n"
     ]
    }
   ],
   "source": [
    "print(installs.columns)\n",
    "print(events.columns)\n",
    "print(auctions.columns)\n",
    "print(clicks.columns)"
   ]
  },
  {
   "cell_type": "code",
   "execution_count": 45,
   "metadata": {},
   "outputs": [
    {
     "data": {
      "text/plain": [
       "0    17009\n",
       "1     4298\n",
       "6     3371\n",
       "5     1628\n",
       "2       27\n",
       "Name: source_id, dtype: int64"
      ]
     },
     "execution_count": 45,
     "metadata": {},
     "output_type": "execute_result"
    }
   ],
   "source": [
    "clicks['source_id'].value_counts().head()"
   ]
  },
  {
   "cell_type": "code",
   "execution_count": 18,
   "metadata": {},
   "outputs": [
    {
     "data": {
      "text/html": [
       "<div>\n",
       "<style scoped>\n",
       "    .dataframe tbody tr th:only-of-type {\n",
       "        vertical-align: middle;\n",
       "    }\n",
       "\n",
       "    .dataframe tbody tr th {\n",
       "        vertical-align: top;\n",
       "    }\n",
       "\n",
       "    .dataframe thead th {\n",
       "        text-align: right;\n",
       "    }\n",
       "</style>\n",
       "<table border=\"1\" class=\"dataframe\">\n",
       "  <thead>\n",
       "    <tr style=\"text-align: right;\">\n",
       "      <th></th>\n",
       "      <th>created</th>\n",
       "      <th>application_id</th>\n",
       "      <th>ref_type</th>\n",
       "      <th>ref_hash</th>\n",
       "      <th>attributed</th>\n",
       "      <th>implicit</th>\n",
       "      <th>device_countrycode</th>\n",
       "      <th>device_brand</th>\n",
       "      <th>device_model</th>\n",
       "      <th>session_user_agent</th>\n",
       "      <th>user_agent</th>\n",
       "      <th>event_uuid</th>\n",
       "      <th>kind</th>\n",
       "      <th>wifi</th>\n",
       "      <th>trans_id</th>\n",
       "      <th>ip_address</th>\n",
       "      <th>device_language</th>\n",
       "    </tr>\n",
       "  </thead>\n",
       "  <tbody>\n",
       "    <tr>\n",
       "      <th>0</th>\n",
       "      <td>2019-03-13 01:43:33.445</td>\n",
       "      <td>0</td>\n",
       "      <td>1891515180541284343</td>\n",
       "      <td>8464844987297247076</td>\n",
       "      <td>False</td>\n",
       "      <td>False</td>\n",
       "      <td>6333597102633388268</td>\n",
       "      <td>3.083059e+17</td>\n",
       "      <td>4.445252e+18</td>\n",
       "      <td>NaN</td>\n",
       "      <td>NaN</td>\n",
       "      <td>NaN</td>\n",
       "      <td>NaN</td>\n",
       "      <td>NaN</td>\n",
       "      <td>NaN</td>\n",
       "      <td>5529284367937637301</td>\n",
       "      <td>NaN</td>\n",
       "    </tr>\n",
       "    <tr>\n",
       "      <th>1</th>\n",
       "      <td>2019-03-13 04:58:35.078</td>\n",
       "      <td>0</td>\n",
       "      <td>1891515180541284343</td>\n",
       "      <td>3250564871270161533</td>\n",
       "      <td>False</td>\n",
       "      <td>False</td>\n",
       "      <td>6333597102633388268</td>\n",
       "      <td>3.083059e+17</td>\n",
       "      <td>4.445252e+18</td>\n",
       "      <td>NaN</td>\n",
       "      <td>NaN</td>\n",
       "      <td>NaN</td>\n",
       "      <td>NaN</td>\n",
       "      <td>NaN</td>\n",
       "      <td>NaN</td>\n",
       "      <td>6098022721363533304</td>\n",
       "      <td>NaN</td>\n",
       "    </tr>\n",
       "    <tr>\n",
       "      <th>2</th>\n",
       "      <td>2019-03-13 04:20:57.666</td>\n",
       "      <td>0</td>\n",
       "      <td>1891515180541284343</td>\n",
       "      <td>7953318831018100268</td>\n",
       "      <td>False</td>\n",
       "      <td>True</td>\n",
       "      <td>6333597102633388268</td>\n",
       "      <td>5.137992e+17</td>\n",
       "      <td>6.026543e+18</td>\n",
       "      <td>HasOffers Mobile AppTracking v1.0</td>\n",
       "      <td>NaN</td>\n",
       "      <td>0bfa9b4c-e07a-4522-b32d-138e3165ac98</td>\n",
       "      <td>Open</td>\n",
       "      <td>NaN</td>\n",
       "      <td>NaN</td>\n",
       "      <td>4636407223847323867</td>\n",
       "      <td>3.301378e+18</td>\n",
       "    </tr>\n",
       "    <tr>\n",
       "      <th>3</th>\n",
       "      <td>2019-03-13 04:20:57.698</td>\n",
       "      <td>0</td>\n",
       "      <td>1891515180541284343</td>\n",
       "      <td>7953318831018100268</td>\n",
       "      <td>False</td>\n",
       "      <td>False</td>\n",
       "      <td>6333597102633388268</td>\n",
       "      <td>5.137992e+17</td>\n",
       "      <td>6.026543e+18</td>\n",
       "      <td>NaN</td>\n",
       "      <td>NaN</td>\n",
       "      <td>NaN</td>\n",
       "      <td>NaN</td>\n",
       "      <td>NaN</td>\n",
       "      <td>NaN</td>\n",
       "      <td>4636407223847323867</td>\n",
       "      <td>NaN</td>\n",
       "    </tr>\n",
       "    <tr>\n",
       "      <th>4</th>\n",
       "      <td>2019-03-10 22:24:56.684</td>\n",
       "      <td>0</td>\n",
       "      <td>1891515180541284343</td>\n",
       "      <td>8355110941557237501</td>\n",
       "      <td>False</td>\n",
       "      <td>True</td>\n",
       "      <td>6333597102633388268</td>\n",
       "      <td>1.083369e+18</td>\n",
       "      <td>7.876612e+18</td>\n",
       "      <td>HasOffers Mobile AppTracking v1.0</td>\n",
       "      <td>NaN</td>\n",
       "      <td>8f235a8c-41bf-4399-b33d-c41577c949b0</td>\n",
       "      <td>Open</td>\n",
       "      <td>NaN</td>\n",
       "      <td>NaN</td>\n",
       "      <td>685400811232710215</td>\n",
       "      <td>3.301378e+18</td>\n",
       "    </tr>\n",
       "  </tbody>\n",
       "</table>\n",
       "</div>"
      ],
      "text/plain": [
       "                  created  application_id             ref_type  \\\n",
       "0 2019-03-13 01:43:33.445               0  1891515180541284343   \n",
       "1 2019-03-13 04:58:35.078               0  1891515180541284343   \n",
       "2 2019-03-13 04:20:57.666               0  1891515180541284343   \n",
       "3 2019-03-13 04:20:57.698               0  1891515180541284343   \n",
       "4 2019-03-10 22:24:56.684               0  1891515180541284343   \n",
       "\n",
       "              ref_hash  attributed  implicit   device_countrycode  \\\n",
       "0  8464844987297247076       False     False  6333597102633388268   \n",
       "1  3250564871270161533       False     False  6333597102633388268   \n",
       "2  7953318831018100268       False      True  6333597102633388268   \n",
       "3  7953318831018100268       False     False  6333597102633388268   \n",
       "4  8355110941557237501       False      True  6333597102633388268   \n",
       "\n",
       "   device_brand  device_model                 session_user_agent user_agent  \\\n",
       "0  3.083059e+17  4.445252e+18                                NaN        NaN   \n",
       "1  3.083059e+17  4.445252e+18                                NaN        NaN   \n",
       "2  5.137992e+17  6.026543e+18  HasOffers Mobile AppTracking v1.0        NaN   \n",
       "3  5.137992e+17  6.026543e+18                                NaN        NaN   \n",
       "4  1.083369e+18  7.876612e+18  HasOffers Mobile AppTracking v1.0        NaN   \n",
       "\n",
       "                             event_uuid  kind wifi trans_id  \\\n",
       "0                                   NaN   NaN  NaN      NaN   \n",
       "1                                   NaN   NaN  NaN      NaN   \n",
       "2  0bfa9b4c-e07a-4522-b32d-138e3165ac98  Open  NaN      NaN   \n",
       "3                                   NaN   NaN  NaN      NaN   \n",
       "4  8f235a8c-41bf-4399-b33d-c41577c949b0  Open  NaN      NaN   \n",
       "\n",
       "            ip_address  device_language  \n",
       "0  5529284367937637301              NaN  \n",
       "1  6098022721363533304              NaN  \n",
       "2  4636407223847323867     3.301378e+18  \n",
       "3  4636407223847323867              NaN  \n",
       "4   685400811232710215     3.301378e+18  "
      ]
     },
     "execution_count": 18,
     "metadata": {},
     "output_type": "execute_result"
    }
   ],
   "source": [
    "installs.head()"
   ]
  },
  {
   "cell_type": "code",
   "execution_count": 39,
   "metadata": {},
   "outputs": [],
   "source": [
    "# events.head()"
   ]
  },
  {
   "cell_type": "code",
   "execution_count": 21,
   "metadata": {},
   "outputs": [],
   "source": [
    "# events['application_id'].value_counts()"
   ]
  },
  {
   "cell_type": "code",
   "execution_count": 42,
   "metadata": {},
   "outputs": [],
   "source": [
    "ins_even = pd.merge(installs, events, on='ref_hash', how='inner')"
   ]
  },
  {
   "cell_type": "code",
   "execution_count": 54,
   "metadata": {},
   "outputs": [],
   "source": [
    "ins_even.drop('kind_x', axis=1, inplace=True)\n",
    "ins_even.drop('session_user_agent_x', axis=1, inplace=True)\n",
    "ins_even.drop('wifi_x', axis=1, inplace=True)\n",
    "ins_even.drop('wifi_y', axis=1, inplace=True)"
   ]
  },
  {
   "cell_type": "code",
   "execution_count": 55,
   "metadata": {},
   "outputs": [
    {
     "name": "stdout",
     "output_type": "stream",
     "text": [
      "created MEJOR NO\n",
      "application_id_x MEJOR NO\n",
      "ref_type_x\n",
      "1891515180541284343    36116\n",
      "1494519392962156891    17041\n",
      "Name: ref_type_x, dtype: int64\n",
      "ref_hash MEJOR NO\n",
      "attributed_x\n",
      "False    53157\n",
      "Name: attributed_x, dtype: int64\n",
      "implicit\n",
      "False    38866\n",
      "True     14291\n",
      "Name: implicit, dtype: int64\n",
      "device_countrycode_x\n",
      "6333597102633388268    36732\n",
      "2970470518450881158    16425\n",
      "Name: device_countrycode_x, dtype: int64\n",
      "device_brand_x MEJOR NO\n",
      "device_model_x MEJOR NO\n",
      "user_agent_x MEJOR NO\n",
      "event_uuid_x MEJOR NO\n",
      "trans_id_x\n",
      "{hash}    1850\n",
      "Name: trans_id_x, dtype: int64\n",
      "ip_address_x MEJOR NO\n",
      "device_language_x MEJOR NO\n",
      "date MEJOR NO\n",
      "event_id MEJOR NO\n",
      "ref_type_y\n",
      "1891515180541284343    36116\n",
      "1494519392962156891    17041\n",
      "Name: ref_type_y, dtype: int64\n",
      "application_id_y MEJOR NO\n",
      "attributed_y\n",
      "False    53048\n",
      "True       109\n",
      "Name: attributed_y, dtype: int64\n",
      "device_countrycode_y\n",
      "6333597102633388268    53157\n",
      "Name: device_countrycode_y, dtype: int64\n",
      "device_os_version MEJOR NO\n",
      "device_brand_y MEJOR NO\n",
      "device_model_y MEJOR NO\n",
      "device_city MEJOR NO\n",
      "session_user_agent_y\n",
      "3.819516e+18    35849\n",
      "7.164321e+18    16570\n",
      "1.160952e+18      274\n",
      "4.525727e+18      105\n",
      "2.793062e+18       74\n",
      "2.955494e+18       63\n",
      "7.512089e+18       32\n",
      "7.738334e+18       28\n",
      "8.784238e+18       24\n",
      "6.368947e+18        7\n",
      "6.261934e+18        7\n",
      "5.254247e+18        5\n",
      "3.831619e+18        3\n",
      "8.916759e+18        2\n",
      "2.915423e+18        1\n",
      "Name: session_user_agent_y, dtype: int64\n",
      "trans_id_y\n",
      "{hash}    21\n",
      "Name: trans_id_y, dtype: int64\n",
      "user_agent_y MEJOR NO\n",
      "event_uuid_y MEJOR NO\n",
      "carrier MEJOR NO\n",
      "kind_y MEJOR NO\n",
      "device_os\n",
      "7.531669e+18    8740\n",
      "6.941825e+18    7830\n",
      "2.748831e+18      25\n",
      "5.916187e+18       7\n",
      "Name: device_os, dtype: int64\n",
      "connection_type\n",
      "Cable/DSL    7612\n",
      "Cellular     4256\n",
      "Name: connection_type, dtype: int64\n",
      "ip_address_y MEJOR NO\n",
      "device_language_y MEJOR NO\n"
     ]
    }
   ],
   "source": [
    "for colum in ins_even.columns:\n",
    "    x =  ins_even[colum].value_counts()\n",
    "    if len(x) <= 20:\n",
    "        print(colum)\n",
    "        print(x)\n",
    "    else: \n",
    "        print(colum, 'MEJOR NO')"
   ]
  },
  {
   "cell_type": "code",
   "execution_count": 9,
   "metadata": {},
   "outputs": [
    {
     "data": {
      "text/plain": [
       "True     3409\n",
       "False       3\n",
       "Name: trans_id, dtype: int64"
      ]
     },
     "execution_count": 9,
     "metadata": {},
     "output_type": "execute_result"
    }
   ],
   "source": [
    "installs['trans_id'].isin(events['trans_id']).value_counts()"
   ]
  },
  {
   "cell_type": "code",
   "execution_count": 40,
   "metadata": {},
   "outputs": [
    {
     "data": {
      "text/plain": [
       "created               False\n",
       "application_id        False\n",
       "ref_type               True\n",
       "ref_hash              False\n",
       "attributed             True\n",
       "implicit              False\n",
       "device_countrycode     True\n",
       "device_brand           True\n",
       "device_model           True\n",
       "session_user_agent    False\n",
       "user_agent            False\n",
       "event_uuid            False\n",
       "kind                  False\n",
       "wifi                   True\n",
       "trans_id              False\n",
       "ip_address             True\n",
       "device_language        True\n",
       "dtype: bool"
      ]
     },
     "execution_count": 40,
     "metadata": {},
     "output_type": "execute_result"
    }
   ],
   "source": [
    "installs.isin(events).any()"
   ]
  },
  {
   "cell_type": "code",
   "execution_count": 5,
   "metadata": {},
   "outputs": [
    {
     "data": {
      "text/plain": [
       "{'application_id',\n",
       " 'attributed',\n",
       " 'device_brand',\n",
       " 'device_countrycode',\n",
       " 'device_language',\n",
       " 'device_model',\n",
       " 'event_uuid',\n",
       " 'ip_address',\n",
       " 'kind',\n",
       " 'ref_hash',\n",
       " 'ref_type',\n",
       " 'session_user_agent',\n",
       " 'trans_id',\n",
       " 'user_agent',\n",
       " 'wifi'}"
      ]
     },
     "execution_count": 5,
     "metadata": {},
     "output_type": "execute_result"
    }
   ],
   "source": [
    "set(installs.columns).intersection(set(events.columns))"
   ]
  },
  {
   "cell_type": "code",
   "execution_count": 30,
   "metadata": {},
   "outputs": [],
   "source": [
    "# isin1 = events['application_id'].dropna().isin(installs['application_id'].dropna())\n",
    "# df1 = isin1.loc[isin1 == True]\n",
    "# print(len(df1))\n",
    "# isin2 = installs['application_id'].dropna().isin(events['application_id'].dropna())\n",
    "# df2 = isin2.loc[isin2 == True]\n",
    "# print(len(df2))\n",
    "# s2 = events.iloc[df1.keys()]['application_id'].value_counts().reset_index()\n",
    "# s2.columns = ['application_id', 'app_event']\n",
    "# s1 = installs.iloc[df2.keys()]['application_id'].value_counts().reset_index()\n",
    "# s1.columns = ['application_id', 'app_install']\n",
    "# ins_even = pd.merge(s1, s2, on='application_id', how='inner')"
   ]
  },
  {
   "cell_type": "code",
   "execution_count": 29,
   "metadata": {},
   "outputs": [],
   "source": [
    "# sns.jointplot(\"app_event\", \"app_install\", data=ins_even)\n",
    "# sns.relplot(x=\"app_install\", y=\"app_event\", data=ins_even);\n",
    "# ins_even.plot(kind='scatter', x='app_install',y='app_event', loglog=True)\n",
    "# ins_even.head()\n",
    "# ins_even.plot.bar(stacked=True);"
   ]
  },
  {
   "cell_type": "code",
   "execution_count": null,
   "metadata": {},
   "outputs": [],
   "source": []
  },
  {
   "cell_type": "code",
   "execution_count": 268,
   "metadata": {},
   "outputs": [],
   "source": [
    "ins_even['mean'] = ins_even.mean(axis=1)"
   ]
  },
  {
   "cell_type": "code",
   "execution_count": 25,
   "metadata": {},
   "outputs": [],
   "source": [
    "# isin1 = events['ip_address'].dropna().isin(installs['ip_address'].dropna())\n",
    "# df1 = isin1.loc[isin1 == True]\n",
    "# print(len(df1))\n",
    "# isin2 = installs['ip_address'].dropna().isin(events['ip_address'].dropna())\n",
    "# df2 = isin2.loc[isin2 == True]\n",
    "# print(len(df2))\n",
    "# s2 = events.iloc[df1.keys()]['ip_address'].value_counts().reset_index()\n",
    "# s2.columns = ['ip_address', 'ip_event']\n",
    "# s1 = installs.iloc[df2.keys()]['ip_address'].value_counts().reset_index()\n",
    "# s1.columns = ['ip_address', 'ip_install']\n",
    "# ins_even2 = pd.merge(s1, s2, on='ip_address', how='inner')"
   ]
  },
  {
   "cell_type": "code",
   "execution_count": 21,
   "metadata": {},
   "outputs": [],
   "source": [
    "# isin1 = events['device_brand'].dropna().isin(installs['device_brand'].dropna())\n",
    "# df1 = isin1.loc[isin1 == True]\n",
    "# print(len(df1))\n",
    "# isin2 = installs['device_brand'].dropna().isin(events['device_brand'].dropna())\n",
    "# df2 = isin2.loc[isin2 == True]\n",
    "# print(len(df2))\n",
    "# s2 = events.iloc[df1.keys()]['device_brand'].value_counts().reset_index()\n",
    "# s2.columns = ['device_brand', 'device_event']\n",
    "# s1 = installs.iloc[df2.keys()]['device_brand'].value_counts().reset_index()\n",
    "# s1.columns = ['device_brand', 'device_install']\n",
    "# ins_even3 = pd.merge(s1, s2, on='device_brand', how='inner')"
   ]
  },
  {
   "cell_type": "code",
   "execution_count": 10,
   "metadata": {},
   "outputs": [],
   "source": [
    "auctions['day'] = pd.DatetimeIndex(auctions['date']).day;\n",
    "auctions['hour'] = pd.DatetimeIndex(auctions['date']).hour;"
   ]
  },
  {
   "cell_type": "code",
   "execution_count": 26,
   "metadata": {},
   "outputs": [],
   "source": [
    "ins_even = pd.merge(installs, events, on='ref_hash', how='inner')"
   ]
  },
  {
   "cell_type": "code",
   "execution_count": 14,
   "metadata": {},
   "outputs": [
    {
     "data": {
      "text/plain": [
       "Text(69.0, 0.5, 'Hora')"
      ]
     },
     "execution_count": 14,
     "metadata": {},
     "output_type": "execute_result"
    },
    {
     "data": {
      "image/png": "[encoded data removed]",
      "text/plain": [
       "<Figure size 720x720 with 2 Axes>"
      ]
     },
     "metadata": {
      "needs_background": "light"
     },
     "output_type": "display_data"
    }
   ],
   "source": [
    "day_hours = auctions.groupby(['hour', 'day'])['day'].count().unstack()\n",
    "day_hours = day_hours.fillna(0)\n",
    "plt.figure(figsize=(10, 10))\n",
    "heap_map = sns.heatmap(day_hours, cbar=True, cmap=\"Blues\")\n",
    "heap_map.set_title(\"Cantidad de subastas por dia y hora\", fontsize=18)\n",
    "heap_map.set_xlabel(\"Dia\", fontsize=14)\n",
    "heap_map.set_ylabel(\"Hora\", fontsize=14)"
   ]
  },
  {
   "cell_type": "code",
   "execution_count": 23,
   "metadata": {},
   "outputs": [
    {
     "data": {
      "text/plain": [
       "Text(69.0, 0.5, 'Hora')"
      ]
     },
     "execution_count": 23,
     "metadata": {},
     "output_type": "execute_result"
    },
    {
     "data": {
      "image/png": "[encoded data removed]",
      "text/plain": [
       "<Figure size 720x720 with 2 Axes>"
      ]
     },
     "metadata": {
      "needs_background": "light"
     },
     "output_type": "display_data"
    }
   ],
   "source": [
    "events['day'] = pd.DatetimeIndex(events['date']).day;\n",
    "events['hour'] = pd.DatetimeIndex(events['date']).hour;\n",
    "day_hours = events.groupby(['hour', 'day'])['day'].count().unstack()\n",
    "day_hours = day_hours.fillna(0)\n",
    "plt.figure(figsize=(10, 10))\n",
    "heap_map = sns.heatmap(day_hours, cbar=True, cmap=\"Blues\")\n",
    "heap_map.set_title(\"Cantidad de events por dia y hora\", fontsize=18)\n",
    "heap_map.set_xlabel(\"Dia\", fontsize=14)\n",
    "heap_map.set_ylabel(\"Hora\", fontsize=14)"
   ]
  },
  {
   "cell_type": "code",
   "execution_count": 26,
   "metadata": {},
   "outputs": [
    {
     "data": {
      "text/plain": [
       "Text(69.0, 0.5, 'Hora')"
      ]
     },
     "execution_count": 26,
     "metadata": {},
     "output_type": "execute_result"
    },
    {
     "data": {
      "image/png": "[encoded data removed]",
      "text/plain": [
       "<Figure size 720x720 with 2 Axes>"
      ]
     },
     "metadata": {
      "needs_background": "light"
     },
     "output_type": "display_data"
    }
   ],
   "source": [
    "clicks['day'] = pd.DatetimeIndex(clicks['created']).day;\n",
    "clicks['hour'] = pd.DatetimeIndex(clicks['created']).hour;\n",
    "day_hours = clicks.groupby(['hour', 'day'])['day'].count().unstack()\n",
    "day_hours = day_hours.fillna(0)\n",
    "plt.figure(figsize=(10, 10))\n",
    "heap_map = sns.heatmap(day_hours, cbar=True, cmap=\"Blues\")\n",
    "heap_map.set_title(\"Cantidad de clicks por dia y hora\", fontsize=18)\n",
    "heap_map.set_xlabel(\"Dia\", fontsize=14)\n",
    "heap_map.set_ylabel(\"Hora\", fontsize=14)"
   ]
  },
  {
   "cell_type": "code",
   "execution_count": 27,
   "metadata": {},
   "outputs": [],
   "source": [
    "ref_hash_install_top = [x for x in installs['ref_hash'].value_counts().head(5).keys()]\n",
    "ref_hash_install = installs.loc[installs['ref_hash'].isin(ref_hash_install_top)]\n",
    "\n",
    "# ref_hash_events_top = [x for x in events['ref_hash'].value_counts().head(5).keys()]\n",
    "# ref_hash_events = events.loc[events['ref_hash'].isin(ref_hash_events_top)]\n",
    "\n",
    "ref_hash_clicks_top = [x for x in clicks['ref_hash'].value_counts().head(5).keys()]\n",
    "ref_hash_clicks = clicks.loc[clicks['ref_hash'].isin(ref_hash_clicks_top)]"
   ]
  },
  {
   "cell_type": "code",
   "execution_count": 29,
   "metadata": {},
   "outputs": [],
   "source": [
    "ins_click = pd.merge(ref_hash_install, ref_hash_clicks, on='ref_hash', how='inner')"
   ]
  },
  {
   "cell_type": "code",
   "execution_count": 33,
   "metadata": {},
   "outputs": [],
   "source": [
    "# sns.jointplot(\"ref_hash\", \"created_x\", data=ins_click)"
   ]
  },
  {
   "cell_type": "code",
   "execution_count": null,
   "metadata": {},
   "outputs": [],
   "source": [
    "sns.jointplot(x=\"total_bill\", y=\"tip\", data=tips, kind=\"reg\");"
   ]
  },
  {
   "cell_type": "code",
   "execution_count": 13,
   "metadata": {},
   "outputs": [],
   "source": [
    "# isin1 = auctions['source_id'].isin(clicks['source_id'])\n",
    "# df1 = isin1.loc[isin1 == True]\n",
    "# print(len(df1))\n",
    "# isin2 = clicks['source_id'].isin(auctions['source_id'])\n",
    "# df2 = isin2.loc[isin2 == True]\n",
    "# print(len(df2))\n",
    "# s2 = auctions.iloc[df1.keys()]['source_id'].value_counts().reset_index()\n",
    "# s2.columns = ['source', 'app_auctions']\n",
    "# s1 = clicks.iloc[df2.keys()]['source_id'].value_counts().reset_index()\n",
    "# s1.columns = ['source', 'app_clicks']\n",
    "# ins_even = pd.merge(s1, s2, on='source', how='inner')\n",
    "# print(ins_even)\n",
    "# plot.figure(f)\n",
    "# ins_even.plot.bar()"
   ]
  },
  {
   "cell_type": "code",
   "execution_count": 25,
   "metadata": {},
   "outputs": [],
   "source": [
    "# df1 = [x for x in auctions['source_id'].value_counts().head(4).keys()]\n",
    "# df2 = [x for x in clicks['source_id'].value_counts().head(4).keys()]\n",
    "# print(df1, df2)\n",
    "# dff1 = auctions.loc[auctions['source_id'].isin(df1)]\n",
    "# dff2 = clicks.loc[clicks['source_id'].isin(df2)]\n",
    "# dfff1 = dff1.groupby('source_id')['date'].count()\n",
    "# dfff2 = dff2.groupby('source_id')['created'].count()\n",
    "# print(dfff1, dfff2)\n",
    "# ins_even = pd.merge(dfff1, dfff2, on='source_id', how='inner')\n",
    "# fig, ax = plt.subplots()\n",
    "# plt.figure(figsize=(20, 10))\n",
    "\n",
    "# ins_even.plot(ax=ax, kind='bar')\n",
    "# plt.yscale('log')\n",
    "# plt.show()"
   ]
  },
  {
   "cell_type": "code",
   "execution_count": 26,
   "metadata": {},
   "outputs": [
    {
     "name": "stdout",
     "output_type": "stream",
     "text": [
      "26351\n",
      "3412\n",
      "19571319\n"
     ]
    }
   ],
   "source": [
    "print(len(clicks['ref_hash']))\n",
    "print(len(installs['ref_hash']))\n",
    "print(len(auctions))"
   ]
  },
  {
   "cell_type": "code",
   "execution_count": 12,
   "metadata": {},
   "outputs": [
    {
     "data": {
      "image/png": "[encoded data removed]",
      "text/plain": [
       "<Figure size 576x360 with 2 Axes>"
      ]
     },
     "metadata": {
      "needs_background": "light"
     },
     "output_type": "display_data"
    }
   ],
   "source": [
    "auctions['day'] = pd.DatetimeIndex(auctions['date']).day;\n",
    "auctions['hour'] = pd.DatetimeIndex(auctions['date']).hour;\n",
    "# top_device = [x for x in installs['device_model'].value_counts().head(10).keys()]\n",
    "# top_group = installs.loc[installs['device_model'].isin(top_device)]\n",
    "\n",
    "top_device1 = [x for x in auctions['source_id'].value_counts().head(5).keys()]\n",
    "top_group1 = auctions.loc[auctions['source_id'].isin(top_device1)]\n",
    "day_hours = top_group1.groupby([ 'source_id', 'hour'])['hour'].count().unstack()\n",
    "day_hours\n",
    "# day_hours = day_hours.fillna(0)\n",
    "plt.figure(figsize=(8, 5))\n",
    "heap_map = sns.heatmap(day_hours, cbar=True, cmap=\"Blues\")"
   ]
  },
  {
   "cell_type": "code",
   "execution_count": 11,
   "metadata": {},
   "outputs": [
    {
     "data": {
      "image/png": "[encoded data removed]",
      "text/plain": [
       "<Figure size 576x360 with 2 Axes>"
      ]
     },
     "metadata": {
      "needs_background": "light"
     },
     "output_type": "display_data"
    }
   ],
   "source": [
    "# top_device = [x for x in installs['device_model'].value_counts().head(10).keys()]\n",
    "# top_group = installs.loc[installs['device_model'].isin(top_device)]\n",
    "\n",
    "top_device1 = [x for x in auctions['device_id'].value_counts().head(10).keys()]\n",
    "top_group1 = auctions.loc[auctions['device_id'].isin(top_device1)]\n",
    "day_hours = top_group1.groupby([ 'device_id', 'hour'])['hour'].count().unstack()\n",
    "day_hours\n",
    "# day_hours = day_hours.fillna(0)\n",
    "plt.figure(figsize=(8, 5))\n",
    "heap_map = sns.heatmap(day_hours, cbar=True, cmap=\"Blues\")"
   ]
  },
  {
   "cell_type": "code",
   "execution_count": 21,
   "metadata": {},
   "outputs": [
    {
     "name": "stdout",
     "output_type": "stream",
     "text": [
      "application_id          54      57      113     125     149\n",
      "ref_hash                                                   \n",
      "244029859389272148      NaN     NaN  2240.0     NaN     NaN\n",
      "1706781657278990931     NaN     NaN     NaN  2300.0     NaN\n",
      "5034957474698180142     NaN     NaN  1513.0     NaN  1168.0\n",
      "5724169280369284055     NaN     NaN  1096.0     NaN  1428.0\n",
      "7298478026707033340  2819.0     NaN     NaN     NaN     NaN\n",
      "7526135353349769077     NaN  2079.0     NaN     NaN     NaN\n",
      "7823950631004872496     NaN     NaN  1217.0     NaN  1696.0\n"
     ]
    }
   ],
   "source": [
    "top1 = [x for x in events['ref_hash'].value_counts().head(7).keys()]\n",
    "top_group1 = events.loc[events['ref_hash'].isin(top1)]\n",
    "\n",
    "top2 = [x for x in top_group1['application_id'].value_counts().head(5).keys()]\n",
    "top_group2 = top_group1.loc[top_group1['application_id'].isin(top2)]\n",
    "\n",
    "g = top_group2.groupby([ 'ref_hash', 'application_id']).count()['date'].unstack()\n",
    "print(g)\n",
    "# g.plot.hist(bins=12, alpha=0.5)\n",
    "# plt.figure(figsize=(8, 8))\n",
    "# heap_map = sns.heatmap(g, cbar=True, cmap=\"Blues\")\n",
    "# heap_map.set_title(\"\", fontsize=18)\n",
    "# heap_map.set_xlabel(\"\", fontsize=14)\n",
    "# heap_map.set_ylabel(\"\", fontsize=14)"
   ]
  }
 ],
 "metadata": {
  "kernelspec": {
   "display_name": "Python 3",
   "language": "python",
   "name": "python3"
  },
  "language_info": {
   "codemirror_mode": {
    "name": "ipython",
    "version": 3
   },
   "file_extension": ".py",
   "mimetype": "text/x-python",
   "name": "python",
   "nbconvert_exporter": "python",
   "pygments_lexer": "ipython3",
   "version": "3.6.7"
  }
 },
 "nbformat": 4,
 "nbformat_minor": 2
}
