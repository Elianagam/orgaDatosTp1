{
 "cells": [
  {
   "cell_type": "code",
   "execution_count": 1,
   "metadata": {},
   "outputs": [],
   "source": [
    "import pandas as pd\n",
    "import numpy as np"
   ]
  },
  {
   "cell_type": "code",
   "execution_count": 14,
   "metadata": {},
   "outputs": [
    {
     "data": {
      "text/html": [
       "<div>\n",
       "<style scoped>\n",
       "    .dataframe tbody tr th:only-of-type {\n",
       "        vertical-align: middle;\n",
       "    }\n",
       "\n",
       "    .dataframe tbody tr th {\n",
       "        vertical-align: top;\n",
       "    }\n",
       "\n",
       "    .dataframe thead th {\n",
       "        text-align: right;\n",
       "    }\n",
       "</style>\n",
       "<table border=\"1\" class=\"dataframe\">\n",
       "  <thead>\n",
       "    <tr style=\"text-align: right;\">\n",
       "      <th></th>\n",
       "      <th>country</th>\n",
       "      <th>date</th>\n",
       "      <th>device_id</th>\n",
       "      <th>platform</th>\n",
       "      <th>ref_type_id</th>\n",
       "      <th>source_id</th>\n",
       "    </tr>\n",
       "  </thead>\n",
       "  <tbody>\n",
       "    <tr>\n",
       "      <th>0</th>\n",
       "      <td>6333597102633388268</td>\n",
       "      <td>2019-03-11 14:18:33.290763</td>\n",
       "      <td>6059599345986491085</td>\n",
       "      <td>1</td>\n",
       "      <td>1</td>\n",
       "      <td>0</td>\n",
       "    </tr>\n",
       "    <tr>\n",
       "      <th>1</th>\n",
       "      <td>6333597102633388268</td>\n",
       "      <td>2019-03-11 14:18:34.440157</td>\n",
       "      <td>1115994996230693426</td>\n",
       "      <td>1</td>\n",
       "      <td>1</td>\n",
       "      <td>0</td>\n",
       "    </tr>\n",
       "    <tr>\n",
       "      <th>2</th>\n",
       "      <td>6333597102633388268</td>\n",
       "      <td>2019-03-11 14:18:35.862360</td>\n",
       "      <td>7463856250762200923</td>\n",
       "      <td>1</td>\n",
       "      <td>1</td>\n",
       "      <td>0</td>\n",
       "    </tr>\n",
       "    <tr>\n",
       "      <th>3</th>\n",
       "      <td>6333597102633388268</td>\n",
       "      <td>2019-03-11 14:18:36.167163</td>\n",
       "      <td>7829815350267792040</td>\n",
       "      <td>1</td>\n",
       "      <td>1</td>\n",
       "      <td>0</td>\n",
       "    </tr>\n",
       "    <tr>\n",
       "      <th>4</th>\n",
       "      <td>6333597102633388268</td>\n",
       "      <td>2019-03-11 14:18:37.728590</td>\n",
       "      <td>1448534231953777480</td>\n",
       "      <td>1</td>\n",
       "      <td>1</td>\n",
       "      <td>0</td>\n",
       "    </tr>\n",
       "  </tbody>\n",
       "</table>\n",
       "</div>"
      ],
      "text/plain": [
       "               country                       date            device_id  \\\n",
       "0  6333597102633388268 2019-03-11 14:18:33.290763  6059599345986491085   \n",
       "1  6333597102633388268 2019-03-11 14:18:34.440157  1115994996230693426   \n",
       "2  6333597102633388268 2019-03-11 14:18:35.862360  7463856250762200923   \n",
       "3  6333597102633388268 2019-03-11 14:18:36.167163  7829815350267792040   \n",
       "4  6333597102633388268 2019-03-11 14:18:37.728590  1448534231953777480   \n",
       "\n",
       "   platform  ref_type_id  source_id  \n",
       "0         1            1          0  \n",
       "1         1            1          0  \n",
       "2         1            1          0  \n",
       "3         1            1          0  \n",
       "4         1            1          0  "
      ]
     },
     "execution_count": 14,
     "metadata": {},
     "output_type": "execute_result"
    }
   ],
   "source": [
    "auctions = pd.read_csv('data/train_auctions.csv.gzip', \\\n",
    "                       dtype={'auction_type_id': 'float64', 'country': 'int64', 'date': 'str', \\\n",
    "                              'devise_id': 'int64', 'platform': np.int8, 'ref_type_id': np.int8, \\\n",
    "                              'source_id': np.int8}, parse_dates= ['date'])\n",
    "auctions.drop('auction_type_id', axis=1, inplace=True)\n",
    "auctions.head()\n",
    "# pasar el dtype porque es pesadisimo!!!!!"
   ]
  },
  {
   "cell_type": "code",
   "execution_count": 6,
   "metadata": {},
   "outputs": [
    {
     "data": {
      "text/plain": [
       "19571319"
      ]
     },
     "execution_count": 6,
     "metadata": {},
     "output_type": "execute_result"
    }
   ],
   "source": [
    "len(auctions)"
   ]
  },
  {
   "cell_type": "code",
   "execution_count": 7,
   "metadata": {},
   "outputs": [],
   "source": [
    "#auctions.memory_usage(deep=True)"
   ]
  },
  {
   "cell_type": "code",
   "execution_count": 16,
   "metadata": {},
   "outputs": [
    {
     "data": {
      "text/plain": [
       "country                 int64\n",
       "date           datetime64[ns]\n",
       "device_id               int64\n",
       "platform                 int8\n",
       "ref_type_id              int8\n",
       "source_id                int8\n",
       "dtype: object"
      ]
     },
     "execution_count": 16,
     "metadata": {},
     "output_type": "execute_result"
    }
   ],
   "source": [
    "auctions.dtypes"
   ]
  },
  {
   "cell_type": "code",
   "execution_count": 12,
   "metadata": {},
   "outputs": [
    {
     "data": {
      "text/plain": [
       "1    15541825\n",
       "2     4029494\n",
       "Name: platform, dtype: int64"
      ]
     },
     "execution_count": 12,
     "metadata": {},
     "output_type": "execute_result"
    }
   ],
   "source": [
    "auctions['platform'].value_counts()"
   ]
  },
  {
   "cell_type": "code",
   "execution_count": 13,
   "metadata": {},
   "outputs": [
    {
     "data": {
      "text/plain": [
       "0    13354597\n",
       "1     4016739\n",
       "5     1466494\n",
       "2      582083\n",
       "6      151406\n",
       "Name: source_id, dtype: int64"
      ]
     },
     "execution_count": 13,
     "metadata": {},
     "output_type": "execute_result"
    }
   ],
   "source": [
    "auctions['source_id'].value_counts()"
   ]
  },
  {
   "cell_type": "code",
   "execution_count": 17,
   "metadata": {},
   "outputs": [
    {
     "data": {
      "text/plain": [
       "6333597102633388268    19571319\n",
       "Name: country, dtype: int64"
      ]
     },
     "execution_count": 17,
     "metadata": {},
     "output_type": "execute_result"
    }
   ],
   "source": [
    "auctions['country'].value_counts()"
   ]
  },
  {
   "cell_type": "code",
   "execution_count": 18,
   "metadata": {},
   "outputs": [
    {
     "data": {
      "text/plain": [
       "633139769114048761     27762\n",
       "7202276635029175071    23055\n",
       "7298861376107043945    18188\n",
       "6302840482782120473    16400\n",
       "5376802567578262905    16367\n",
       "8963711959081981780    14362\n",
       "795159065504552200     12275\n",
       "6841615430383729819    12077\n",
       "5384039226444052914    11632\n",
       "3198179064438296471    11565\n",
       "519658456951133298     10541\n",
       "2435544514359302887    10274\n",
       "8751190726444323885    10256\n",
       "1835469468095030098    10121\n",
       "1800317677967270083    10036\n",
       "9027154272484048876     9958\n",
       "7574657722181550308     9767\n",
       "5051610571898428259     9642\n",
       "320899491737875154      9388\n",
       "8292793494956750501     9315\n",
       "201759600719985554      9158\n",
       "8021195662481548645     9128\n",
       "7650408579713341483     9020\n",
       "6392567838173461255     8994\n",
       "1478017482044456084     8839\n",
       "6203407103275384250     8823\n",
       "68016455690089173       8809\n",
       "8496718680483076445     8682\n",
       "8491787427844905567     8513\n",
       "4834359787191717922     8495\n",
       "                       ...  \n",
       "5751956180575781757        1\n",
       "2048572451559832028        1\n",
       "3744576664345883432        1\n",
       "7367086705606121699        1\n",
       "646535409008459333         1\n",
       "6770910701982113580        1\n",
       "2863959931991583508        1\n",
       "2696817569245344530        1\n",
       "7553430075553844653        1\n",
       "4617307111815896778        1\n",
       "5240339451295485635        1\n",
       "4692566548344272637        1\n",
       "35674910428474471          1\n",
       "3159093650487986533        1\n",
       "1942683830003570264        1\n",
       "8019294471594894593        1\n",
       "6869424683092918051        1\n",
       "959426849812803471         1\n",
       "1944088880283346077        1\n",
       "6622057180348619453        1\n",
       "3652020858507657809        1\n",
       "6021685018865299736        1\n",
       "6725662693426834602        1\n",
       "6936985002156508492        1\n",
       "8787642868763157961        1\n",
       "6586001901497243197        1\n",
       "4903599056466380772        1\n",
       "9101372426762671929        1\n",
       "4378253870857185347        1\n",
       "5221298118515168096        1\n",
       "Name: device_id, Length: 206977, dtype: int64"
      ]
     },
     "execution_count": 18,
     "metadata": {},
     "output_type": "execute_result"
    }
   ],
   "source": [
    "auctions['device_id'].value_counts()"
   ]
  }
 ],
 "metadata": {
  "kernelspec": {
   "display_name": "Python 3",
   "language": "python",
   "name": "python3"
  },
  "language_info": {
   "codemirror_mode": {
    "name": "ipython",
    "version": 3
   },
   "file_extension": ".py",
   "mimetype": "text/x-python",
   "name": "python",
   "nbconvert_exporter": "python",
   "pygments_lexer": "ipython3",
   "version": "3.6.7"
  }
 },
 "nbformat": 4,
 "nbformat_minor": 2
}
