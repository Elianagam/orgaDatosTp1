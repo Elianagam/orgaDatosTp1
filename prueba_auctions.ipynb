{
 "cells": [
  {
   "cell_type": "code",
   "execution_count": 5,
   "metadata": {},
   "outputs": [],
   "source": [
    "import pandas as pd\n",
    "import numpy as np"
   ]
  },
  {
   "cell_type": "code",
   "execution_count": 71,
   "metadata": {},
   "outputs": [],
   "source": [
    "auctions = pd.read_csv('train_auctions.csv.gzip')"
   ]
  },
  {
   "cell_type": "code",
   "execution_count": 48,
   "metadata": {},
   "outputs": [
    {
     "data": {
      "text/html": [
       "<div>\n",
       "<style scoped>\n",
       "    .dataframe tbody tr th:only-of-type {\n",
       "        vertical-align: middle;\n",
       "    }\n",
       "\n",
       "    .dataframe tbody tr th {\n",
       "        vertical-align: top;\n",
       "    }\n",
       "\n",
       "    .dataframe thead th {\n",
       "        text-align: right;\n",
       "    }\n",
       "</style>\n",
       "<table border=\"1\" class=\"dataframe\">\n",
       "  <thead>\n",
       "    <tr style=\"text-align: right;\">\n",
       "      <th></th>\n",
       "      <th>0</th>\n",
       "      <th>1</th>\n",
       "      <th>2</th>\n",
       "      <th>3</th>\n",
       "      <th>4</th>\n",
       "    </tr>\n",
       "  </thead>\n",
       "  <tbody>\n",
       "    <tr>\n",
       "      <th>created</th>\n",
       "      <td>2019-03-13 01:43:33.445</td>\n",
       "      <td>2019-03-13 04:58:35.078</td>\n",
       "      <td>2019-03-13 04:20:57.666</td>\n",
       "      <td>2019-03-13 04:20:57.698</td>\n",
       "      <td>2019-03-10 22:24:56.684</td>\n",
       "    </tr>\n",
       "    <tr>\n",
       "      <th>application_id</th>\n",
       "      <td>0</td>\n",
       "      <td>0</td>\n",
       "      <td>0</td>\n",
       "      <td>0</td>\n",
       "      <td>0</td>\n",
       "    </tr>\n",
       "    <tr>\n",
       "      <th>ref_type</th>\n",
       "      <td>1891515180541284343</td>\n",
       "      <td>1891515180541284343</td>\n",
       "      <td>1891515180541284343</td>\n",
       "      <td>1891515180541284343</td>\n",
       "      <td>1891515180541284343</td>\n",
       "    </tr>\n",
       "    <tr>\n",
       "      <th>ref_hash</th>\n",
       "      <td>8464844987297247076</td>\n",
       "      <td>3250564871270161533</td>\n",
       "      <td>7953318831018100268</td>\n",
       "      <td>7953318831018100268</td>\n",
       "      <td>8355110941557237501</td>\n",
       "    </tr>\n",
       "    <tr>\n",
       "      <th>click_hash</th>\n",
       "      <td>NaN</td>\n",
       "      <td>NaN</td>\n",
       "      <td>NaN</td>\n",
       "      <td>NaN</td>\n",
       "      <td>NaN</td>\n",
       "    </tr>\n",
       "    <tr>\n",
       "      <th>attributed</th>\n",
       "      <td>False</td>\n",
       "      <td>False</td>\n",
       "      <td>False</td>\n",
       "      <td>False</td>\n",
       "      <td>False</td>\n",
       "    </tr>\n",
       "    <tr>\n",
       "      <th>implicit</th>\n",
       "      <td>False</td>\n",
       "      <td>False</td>\n",
       "      <td>True</td>\n",
       "      <td>False</td>\n",
       "      <td>True</td>\n",
       "    </tr>\n",
       "    <tr>\n",
       "      <th>device_countrycode</th>\n",
       "      <td>6333597102633388268</td>\n",
       "      <td>6333597102633388268</td>\n",
       "      <td>6333597102633388268</td>\n",
       "      <td>6333597102633388268</td>\n",
       "      <td>6333597102633388268</td>\n",
       "    </tr>\n",
       "    <tr>\n",
       "      <th>device_brand</th>\n",
       "      <td>3.08306e+17</td>\n",
       "      <td>3.08306e+17</td>\n",
       "      <td>5.13799e+17</td>\n",
       "      <td>5.13799e+17</td>\n",
       "      <td>1.08337e+18</td>\n",
       "    </tr>\n",
       "    <tr>\n",
       "      <th>device_model</th>\n",
       "      <td>4.44525e+18</td>\n",
       "      <td>4.44525e+18</td>\n",
       "      <td>6.02654e+18</td>\n",
       "      <td>6.02654e+18</td>\n",
       "      <td>7.87661e+18</td>\n",
       "    </tr>\n",
       "    <tr>\n",
       "      <th>session_user_agent</th>\n",
       "      <td>NaN</td>\n",
       "      <td>NaN</td>\n",
       "      <td>HasOffers Mobile AppTracking v1.0</td>\n",
       "      <td>NaN</td>\n",
       "      <td>HasOffers Mobile AppTracking v1.0</td>\n",
       "    </tr>\n",
       "    <tr>\n",
       "      <th>user_agent</th>\n",
       "      <td>NaN</td>\n",
       "      <td>NaN</td>\n",
       "      <td>NaN</td>\n",
       "      <td>NaN</td>\n",
       "      <td>NaN</td>\n",
       "    </tr>\n",
       "    <tr>\n",
       "      <th>event_uuid</th>\n",
       "      <td>NaN</td>\n",
       "      <td>NaN</td>\n",
       "      <td>0bfa9b4c-e07a-4522-b32d-138e3165ac98</td>\n",
       "      <td>NaN</td>\n",
       "      <td>8f235a8c-41bf-4399-b33d-c41577c949b0</td>\n",
       "    </tr>\n",
       "    <tr>\n",
       "      <th>kind</th>\n",
       "      <td>NaN</td>\n",
       "      <td>NaN</td>\n",
       "      <td>Open</td>\n",
       "      <td>NaN</td>\n",
       "      <td>Open</td>\n",
       "    </tr>\n",
       "    <tr>\n",
       "      <th>wifi</th>\n",
       "      <td>NaN</td>\n",
       "      <td>NaN</td>\n",
       "      <td>NaN</td>\n",
       "      <td>NaN</td>\n",
       "      <td>NaN</td>\n",
       "    </tr>\n",
       "    <tr>\n",
       "      <th>trans_id</th>\n",
       "      <td>NaN</td>\n",
       "      <td>NaN</td>\n",
       "      <td>NaN</td>\n",
       "      <td>NaN</td>\n",
       "      <td>NaN</td>\n",
       "    </tr>\n",
       "    <tr>\n",
       "      <th>ip_address</th>\n",
       "      <td>5529284367937637301</td>\n",
       "      <td>6098022721363533304</td>\n",
       "      <td>4636407223847323867</td>\n",
       "      <td>4636407223847323867</td>\n",
       "      <td>685400811232710215</td>\n",
       "    </tr>\n",
       "    <tr>\n",
       "      <th>device_language</th>\n",
       "      <td>NaN</td>\n",
       "      <td>NaN</td>\n",
       "      <td>3.30138e+18</td>\n",
       "      <td>NaN</td>\n",
       "      <td>3.30138e+18</td>\n",
       "    </tr>\n",
       "  </tbody>\n",
       "</table>\n",
       "</div>"
      ],
      "text/plain": [
       "                                          0                        1  \\\n",
       "created             2019-03-13 01:43:33.445  2019-03-13 04:58:35.078   \n",
       "application_id                            0                        0   \n",
       "ref_type                1891515180541284343      1891515180541284343   \n",
       "ref_hash                8464844987297247076      3250564871270161533   \n",
       "click_hash                              NaN                      NaN   \n",
       "attributed                            False                    False   \n",
       "implicit                              False                    False   \n",
       "device_countrycode      6333597102633388268      6333597102633388268   \n",
       "device_brand                    3.08306e+17              3.08306e+17   \n",
       "device_model                    4.44525e+18              4.44525e+18   \n",
       "session_user_agent                      NaN                      NaN   \n",
       "user_agent                              NaN                      NaN   \n",
       "event_uuid                              NaN                      NaN   \n",
       "kind                                    NaN                      NaN   \n",
       "wifi                                    NaN                      NaN   \n",
       "trans_id                                NaN                      NaN   \n",
       "ip_address              5529284367937637301      6098022721363533304   \n",
       "device_language                         NaN                      NaN   \n",
       "\n",
       "                                                       2  \\\n",
       "created                          2019-03-13 04:20:57.666   \n",
       "application_id                                         0   \n",
       "ref_type                             1891515180541284343   \n",
       "ref_hash                             7953318831018100268   \n",
       "click_hash                                           NaN   \n",
       "attributed                                         False   \n",
       "implicit                                            True   \n",
       "device_countrycode                   6333597102633388268   \n",
       "device_brand                                 5.13799e+17   \n",
       "device_model                                 6.02654e+18   \n",
       "session_user_agent     HasOffers Mobile AppTracking v1.0   \n",
       "user_agent                                           NaN   \n",
       "event_uuid          0bfa9b4c-e07a-4522-b32d-138e3165ac98   \n",
       "kind                                                Open   \n",
       "wifi                                                 NaN   \n",
       "trans_id                                             NaN   \n",
       "ip_address                           4636407223847323867   \n",
       "device_language                              3.30138e+18   \n",
       "\n",
       "                                          3  \\\n",
       "created             2019-03-13 04:20:57.698   \n",
       "application_id                            0   \n",
       "ref_type                1891515180541284343   \n",
       "ref_hash                7953318831018100268   \n",
       "click_hash                              NaN   \n",
       "attributed                            False   \n",
       "implicit                              False   \n",
       "device_countrycode      6333597102633388268   \n",
       "device_brand                    5.13799e+17   \n",
       "device_model                    6.02654e+18   \n",
       "session_user_agent                      NaN   \n",
       "user_agent                              NaN   \n",
       "event_uuid                              NaN   \n",
       "kind                                    NaN   \n",
       "wifi                                    NaN   \n",
       "trans_id                                NaN   \n",
       "ip_address              4636407223847323867   \n",
       "device_language                         NaN   \n",
       "\n",
       "                                                       4  \n",
       "created                          2019-03-10 22:24:56.684  \n",
       "application_id                                         0  \n",
       "ref_type                             1891515180541284343  \n",
       "ref_hash                             8355110941557237501  \n",
       "click_hash                                           NaN  \n",
       "attributed                                         False  \n",
       "implicit                                            True  \n",
       "device_countrycode                   6333597102633388268  \n",
       "device_brand                                 1.08337e+18  \n",
       "device_model                                 7.87661e+18  \n",
       "session_user_agent     HasOffers Mobile AppTracking v1.0  \n",
       "user_agent                                           NaN  \n",
       "event_uuid          8f235a8c-41bf-4399-b33d-c41577c949b0  \n",
       "kind                                                Open  \n",
       "wifi                                                 NaN  \n",
       "trans_id                                             NaN  \n",
       "ip_address                            685400811232710215  \n",
       "device_language                              3.30138e+18  "
      ]
     },
     "execution_count": 48,
     "metadata": {},
     "output_type": "execute_result"
    }
   ],
   "source": [
    "auctions.head().T"
   ]
  },
  {
   "cell_type": "code",
   "execution_count": 5,
   "metadata": {},
   "outputs": [
    {
     "data": {
      "text/plain": [
       "created                object\n",
       "application_id          int64\n",
       "ref_type                int64\n",
       "ref_hash                int64\n",
       "click_hash            float64\n",
       "attributed               bool\n",
       "implicit                 bool\n",
       "device_countrycode      int64\n",
       "device_brand          float64\n",
       "device_model          float64\n",
       "session_user_agent     object\n",
       "user_agent             object\n",
       "event_uuid             object\n",
       "kind                   object\n",
       "wifi                   object\n",
       "trans_id               object\n",
       "ip_address              int64\n",
       "device_language       float64\n",
       "dtype: object"
      ]
     },
     "execution_count": 5,
     "metadata": {},
     "output_type": "execute_result"
    }
   ],
   "source": [
    "auctions.dtypes"
   ]
  },
  {
   "cell_type": "code",
   "execution_count": 8,
   "metadata": {},
   "outputs": [
    {
     "data": {
      "text/plain": [
       "3412"
      ]
     },
     "execution_count": 8,
     "metadata": {},
     "output_type": "execute_result"
    }
   ],
   "source": [
    "len(auctions)"
   ]
  },
  {
   "cell_type": "code",
   "execution_count": 1,
   "metadata": {},
   "outputs": [],
   "source": [
    "#auctions.describe()"
   ]
  },
  {
   "cell_type": "code",
   "execution_count": 13,
   "metadata": {},
   "outputs": [],
   "source": [
    "#auctions.memory_usage(deep=True)"
   ]
  },
  {
   "cell_type": "code",
   "execution_count": 10,
   "metadata": {},
   "outputs": [
    {
     "data": {
      "text/plain": [
       "61416"
      ]
     },
     "execution_count": 10,
     "metadata": {},
     "output_type": "execute_result"
    }
   ],
   "source": [
    "auctions.size"
   ]
  },
  {
   "cell_type": "code",
   "execution_count": 12,
   "metadata": {},
   "outputs": [
    {
     "data": {
      "text/plain": [
       "created                  0\n",
       "application_id           0\n",
       "ref_type                 0\n",
       "ref_hash                 0\n",
       "click_hash            3412\n",
       "attributed               0\n",
       "implicit                 0\n",
       "device_countrycode       0\n",
       "device_brand          2365\n",
       "device_model             1\n",
       "session_user_agent      48\n",
       "user_agent            1683\n",
       "event_uuid            2547\n",
       "kind                  2547\n",
       "wifi                  1683\n",
       "trans_id              3406\n",
       "ip_address               0\n",
       "device_language         34\n",
       "dtype: int64"
      ]
     },
     "execution_count": 12,
     "metadata": {},
     "output_type": "execute_result"
    }
   ],
   "source": [
    "auctions.isnull().sum()"
   ]
  },
  {
   "cell_type": "code",
   "execution_count": 14,
   "metadata": {},
   "outputs": [
    {
     "data": {
      "text/plain": [
       "3412"
      ]
     },
     "execution_count": 14,
     "metadata": {},
     "output_type": "execute_result"
    }
   ],
   "source": [
    "auctions['created'].count()"
   ]
  },
  {
   "cell_type": "code",
   "execution_count": 19,
   "metadata": {},
   "outputs": [
    {
     "data": {
      "text/plain": [
       "3.301378e+18    1484\n",
       "9.028383e+18     714\n",
       "4.621024e+18     632\n",
       "6.977049e+18     238\n",
       "4.077062e+17      70\n",
       "1.526421e+18      56\n",
       "4.060930e+18      48\n",
       "2.822843e+17      39\n",
       "6.035180e+18      24\n",
       "1.193279e+18      21\n",
       "6.535228e+18      10\n",
       "1.101539e+17       9\n",
       "3.177265e+18       5\n",
       "3.695787e+17       5\n",
       "3.095856e+18       4\n",
       "6.569908e+18       2\n",
       "5.846217e+18       2\n",
       "7.774316e+18       2\n",
       "4.594650e+18       2\n",
       "6.782349e+18       1\n",
       "5.061642e+18       1\n",
       "1.686906e+18       1\n",
       "5.794427e+17       1\n",
       "2.488366e+18       1\n",
       "3.544544e+18       1\n",
       "3.074904e+18       1\n",
       "2.061937e+18       1\n",
       "4.073835e+18       1\n",
       "6.846873e+18       1\n",
       "7.045130e+18       1\n",
       "Name: device_language, dtype: int64"
      ]
     },
     "execution_count": 19,
     "metadata": {},
     "output_type": "execute_result"
    }
   ],
   "source": [
    "# device_languaje tiene algunos grandes grupos\n",
    "auctions['device_language'].value_counts()"
   ]
  },
  {
   "cell_type": "code",
   "execution_count": 18,
   "metadata": {},
   "outputs": [
    {
     "data": {
      "text/plain": [
       "3.083059e+17    472\n",
       "2.208835e+18    185\n",
       "2.523246e+18    116\n",
       "5.951325e+18     72\n",
       "2.987569e+18     40\n",
       "3.812621e+18     37\n",
       "5.137992e+17     34\n",
       "6.538562e+18     26\n",
       "3.228516e+18      9\n",
       "1.083369e+18      9\n",
       "4.371308e+18      7\n",
       "3.093166e+18      5\n",
       "2.262848e+18      5\n",
       "4.994101e+18      4\n",
       "3.849490e+18      4\n",
       "8.285870e+18      3\n",
       "3.742387e+18      3\n",
       "5.645692e+18      3\n",
       "8.230045e+17      3\n",
       "6.111647e+18      3\n",
       "9.169527e+18      1\n",
       "5.588755e+18      1\n",
       "3.172231e+18      1\n",
       "5.189983e+18      1\n",
       "3.624089e+18      1\n",
       "7.855186e+18      1\n",
       "2.748831e+18      1\n",
       "Name: device_brand, dtype: int64"
      ]
     },
     "execution_count": 18,
     "metadata": {},
     "output_type": "execute_result"
    }
   ],
   "source": [
    "# device_brand tiene algunos grandes grupos\n",
    "auctions['device_brand'].value_counts()"
   ]
  },
  {
   "cell_type": "code",
   "execution_count": 17,
   "metadata": {},
   "outputs": [
    {
     "data": {
      "text/plain": [
       "1891515180541284343    2080\n",
       "1494519392962156891    1332\n",
       "Name: ref_type, dtype: int64"
      ]
     },
     "execution_count": 17,
     "metadata": {},
     "output_type": "execute_result"
    }
   ],
   "source": [
    "auctions['ref_type'].value_counts()"
   ]
  },
  {
   "cell_type": "code",
   "execution_count": 42,
   "metadata": {},
   "outputs": [
    {
     "data": {
      "text/html": [
       "<div>\n",
       "<style scoped>\n",
       "    .dataframe tbody tr th:only-of-type {\n",
       "        vertical-align: middle;\n",
       "    }\n",
       "\n",
       "    .dataframe tbody tr th {\n",
       "        vertical-align: top;\n",
       "    }\n",
       "\n",
       "    .dataframe thead th {\n",
       "        text-align: right;\n",
       "    }\n",
       "</style>\n",
       "<table border=\"1\" class=\"dataframe\">\n",
       "  <thead>\n",
       "    <tr style=\"text-align: right;\">\n",
       "      <th></th>\n",
       "      <th>created</th>\n",
       "      <th>application_id</th>\n",
       "      <th>ref_type</th>\n",
       "      <th>ref_hash</th>\n",
       "      <th>click_hash</th>\n",
       "      <th>attributed</th>\n",
       "      <th>implicit</th>\n",
       "      <th>device_countrycode</th>\n",
       "      <th>device_brand</th>\n",
       "      <th>device_model</th>\n",
       "      <th>session_user_agent</th>\n",
       "      <th>user_agent</th>\n",
       "      <th>event_uuid</th>\n",
       "      <th>kind</th>\n",
       "      <th>wifi</th>\n",
       "      <th>trans_id</th>\n",
       "      <th>ip_address</th>\n",
       "      <th>device_language</th>\n",
       "    </tr>\n",
       "  </thead>\n",
       "  <tbody>\n",
       "    <tr>\n",
       "      <th>2157</th>\n",
       "      <td>2019-03-09 16:08:19.919</td>\n",
       "      <td>30</td>\n",
       "      <td>1494519392962156891</td>\n",
       "      <td>4364935818432173881</td>\n",
       "      <td>NaN</td>\n",
       "      <td>False</td>\n",
       "      <td>True</td>\n",
       "      <td>6333597102633388268</td>\n",
       "      <td>NaN</td>\n",
       "      <td>NaN</td>\n",
       "      <td>HasOffers Mobile AppTracking v1.0</td>\n",
       "      <td>NaN</td>\n",
       "      <td>78082c4c-0fe1-4fc7-a718-4eba1d943b9c</td>\n",
       "      <td>Open</td>\n",
       "      <td>NaN</td>\n",
       "      <td>NaN</td>\n",
       "      <td>2208800741316080623</td>\n",
       "      <td>NaN</td>\n",
       "    </tr>\n",
       "  </tbody>\n",
       "</table>\n",
       "</div>"
      ],
      "text/plain": [
       "                      created  application_id             ref_type  \\\n",
       "2157  2019-03-09 16:08:19.919              30  1494519392962156891   \n",
       "\n",
       "                 ref_hash  click_hash  attributed  implicit  \\\n",
       "2157  4364935818432173881         NaN       False      True   \n",
       "\n",
       "       device_countrycode  device_brand  device_model  \\\n",
       "2157  6333597102633388268           NaN           NaN   \n",
       "\n",
       "                     session_user_agent user_agent  \\\n",
       "2157  HasOffers Mobile AppTracking v1.0        NaN   \n",
       "\n",
       "                                event_uuid  kind wifi trans_id  \\\n",
       "2157  78082c4c-0fe1-4fc7-a718-4eba1d943b9c  Open  NaN      NaN   \n",
       "\n",
       "               ip_address  device_language  \n",
       "2157  2208800741316080623              NaN  "
      ]
     },
     "execution_count": 42,
     "metadata": {},
     "output_type": "execute_result"
    }
   ],
   "source": [
    "auctions.loc[auctions['device_model'].isnull()]"
   ]
  },
  {
   "cell_type": "code",
   "execution_count": 55,
   "metadata": {},
   "outputs": [],
   "source": [
    "#auctions['device_model'].value_counts()"
   ]
  },
  {
   "cell_type": "code",
   "execution_count": 17,
   "metadata": {},
   "outputs": [],
   "source": [
    "# Tabla de valores unicos en device_languaje\n",
    "#auctions.loc[auctions['device_language'].isnull()]"
   ]
  },
  {
   "cell_type": "code",
   "execution_count": 51,
   "metadata": {},
   "outputs": [
    {
     "data": {
      "text/plain": [
       "count             3364\n",
       "unique              12\n",
       "top       http-kit/2.0\n",
       "freq              1729\n",
       "Name: session_user_agent, dtype: object"
      ]
     },
     "execution_count": 51,
     "metadata": {},
     "output_type": "execute_result"
    }
   ],
   "source": [
    "#auctions.loc[auctions['session_user_agent'].isnull()]\n",
    "auctions['session_user_agent'].describe()"
   ]
  },
  {
   "cell_type": "code",
   "execution_count": 16,
   "metadata": {},
   "outputs": [
    {
     "data": {
      "text/plain": [
       "http-kit/2.0                                                                                                                                                                                                                                                                  1729\n",
       "adjust.com                                                                                                                                                                                                                                                                    1592\n",
       "HasOffers Mobile AppTracking v1.0                                                                                                                                                                                                                                               22\n",
       "Mozilla/5.0 (iPhone; CPU iPhone OS 12_1_4 like Mac OS X) AppleWebKit/605.1.15 (KHTML, like Gecko) Version/12.0 Mobile/15E148 Safari/604.1                                                                                                                                       10\n",
       "Mozilla/5.0 (iPhone; CPU iPhone OS 12_1 like Mac OS X) AppleWebKit/605.1.15 (KHTML, like Gecko) CriOS/72.0.3626.101 Mobile/15E148 Safari/605.1                                                                                                                                   3\n",
       "Mozilla/5.0 (iPhone; CPU iPhone OS 12_1_2 like Mac OS X) AppleWebKit/605.1.15 (KHTML, like Gecko) Version/12.0 Mobile/15E148 Safari/604.1                                                                                                                                        2\n",
       "Mozilla/5.0 (iPhone; CPU iPhone OS 11_4_1 like Mac OS X) AppleWebKit/605.1.15 (KHTML, like Gecko) Version/11.0 Mobile/15E148 Safari/604.1                                                                                                                                        1\n",
       "Mozilla/5.0 (iPhone; CPU iPhone OS 12_1 like Mac OS X) AppleWebKit/605.1.15 (KHTML, like Gecko) GSA/68.0.234683655 Mobile/15E148 Safari/605.1                                                                                                                                    1\n",
       "Mozilla/5.0 (iPad; CPU OS 12_1_4 like Mac OS X) AppleWebKit/605.1.15 (KHTML, like Gecko) Version/12.0 Mobile/15E148 Safari/604.1                                                                                                                                                 1\n",
       "Mozilla/5.0 (iPhone; CPU iPhone OS 11_2_6 like Mac OS X) AppleWebKit/604.5.6 (KHTML, like Gecko) Version/11.0 Mobile/15D100 Safari/604.1                                                                                                                                         1\n",
       "Mozilla/5.0 (iPhone; CPU iPhone OS 12_1_2 like Mac OS X) AppleWebKit/605.1.15 (KHTML, like Gecko) Mobile/16C101 [FBAN/FBIOS;FBAV/208.0.0.48.103;FBBV/141927594;FBDV/iPhone9,3;FBMD/iPhone;FBSN/iOS;FBSV/12.1.2;FBSS/2;FBCR/O2;FBID/phone;FBLC/en_GB;FBOP/5;FBRV/143280066]       1\n",
       "Mozilla/5.0 (Linux; Android 6.0; ALE-L23) AppleWebKit/537.36 (KHTML, like Gecko) Chrome/72.0.3626.105 Mobile Safari/537.36                                                                                                                                                       1\n",
       "Name: session_user_agent, dtype: int64"
      ]
     },
     "execution_count": 16,
     "metadata": {},
     "output_type": "execute_result"
    }
   ],
   "source": [
    "# Muchos valores repetidos y muy pocos unicos o con grupos chicos\n",
    "auctions['session_user_agent'].value_counts()"
   ]
  },
  {
   "cell_type": "code",
   "execution_count": 25,
   "metadata": {},
   "outputs": [
    {
     "data": {
      "text/plain": [
       "7     947\n",
       "9     731\n",
       "10    389\n",
       "16    362\n",
       "8     328\n",
       "2     174\n",
       "29     97\n",
       "20     95\n",
       "6      35\n",
       "1      34\n",
       "26     28\n",
       "34     28\n",
       "15     20\n",
       "0      18\n",
       "3      17\n",
       "28     17\n",
       "12     15\n",
       "18     14\n",
       "24     13\n",
       "17     13\n",
       "14     13\n",
       "21      7\n",
       "5       3\n",
       "13      3\n",
       "33      2\n",
       "30      2\n",
       "19      2\n",
       "32      2\n",
       "36      1\n",
       "4       1\n",
       "23      1\n",
       "Name: application_id, dtype: int64"
      ]
     },
     "execution_count": 25,
     "metadata": {},
     "output_type": "execute_result"
    }
   ],
   "source": [
    "# grupos grandes, se puede pasar a un tipo diferente a int64 para que no ocupe tanta memoria\n",
    "auctions['application_id'].value_counts()"
   ]
  },
  {
   "cell_type": "code",
   "execution_count": 47,
   "metadata": {},
   "outputs": [],
   "source": [
    "# Cambio el tipo de datos a uno mas chico ya que los valores van del 0 al 36\n",
    "auctions['application_id'] = auctions['application_id'].astype(np.int8)"
   ]
  },
  {
   "cell_type": "code",
   "execution_count": 27,
   "metadata": {},
   "outputs": [
    {
     "data": {
      "text/plain": [
       "1891515180541284343    2080\n",
       "1494519392962156891    1332\n",
       "Name: ref_type, dtype: int64"
      ]
     },
     "execution_count": 27,
     "metadata": {},
     "output_type": "execute_result"
    }
   ],
   "source": [
    "# son solo 2 grupos!!\n",
    "auctions['ref_type'].value_counts()"
   ]
  },
  {
   "cell_type": "code",
   "execution_count": 29,
   "metadata": {},
   "outputs": [
    {
     "data": {
      "text/plain": [
       "False    3412\n",
       "Name: attributed, dtype: int64"
      ]
     },
     "execution_count": 29,
     "metadata": {},
     "output_type": "execute_result"
    }
   ],
   "source": [
    "auctions['attributed'].value_counts()\n",
    "# Son todos falsos"
   ]
  },
  {
   "cell_type": "code",
   "execution_count": 30,
   "metadata": {},
   "outputs": [
    {
     "data": {
      "text/plain": [
       "False    2547\n",
       "True      865\n",
       "Name: implicit, dtype: int64"
      ]
     },
     "execution_count": 30,
     "metadata": {},
     "output_type": "execute_result"
    }
   ],
   "source": [
    "auctions['implicit'].value_counts()"
   ]
  },
  {
   "cell_type": "code",
   "execution_count": 32,
   "metadata": {},
   "outputs": [
    {
     "data": {
      "text/plain": [
       "{hash}                                  3\n",
       "44aeb6df-8db4-4b3f-ac67-0a802d479c86    1\n",
       "89bda305-bff1-4c22-ae23-1a237eac0002    1\n",
       "22380348598                             1\n",
       "Name: trans_id, dtype: int64"
      ]
     },
     "execution_count": 32,
     "metadata": {},
     "output_type": "execute_result"
    }
   ],
   "source": [
    "auctions['trans_id'].value_counts()"
   ]
  },
  {
   "cell_type": "code",
   "execution_count": 38,
   "metadata": {},
   "outputs": [
    {
     "data": {
      "text/html": [
       "<div>\n",
       "<style scoped>\n",
       "    .dataframe tbody tr th:only-of-type {\n",
       "        vertical-align: middle;\n",
       "    }\n",
       "\n",
       "    .dataframe tbody tr th {\n",
       "        vertical-align: top;\n",
       "    }\n",
       "\n",
       "    .dataframe thead th {\n",
       "        text-align: right;\n",
       "    }\n",
       "</style>\n",
       "<table border=\"1\" class=\"dataframe\">\n",
       "  <thead>\n",
       "    <tr style=\"text-align: right;\">\n",
       "      <th></th>\n",
       "      <th>created</th>\n",
       "      <th>application_id</th>\n",
       "      <th>ref_type</th>\n",
       "      <th>ref_hash</th>\n",
       "      <th>click_hash</th>\n",
       "      <th>attributed</th>\n",
       "      <th>implicit</th>\n",
       "      <th>device_countrycode</th>\n",
       "      <th>device_brand</th>\n",
       "      <th>device_model</th>\n",
       "      <th>session_user_agent</th>\n",
       "      <th>user_agent</th>\n",
       "      <th>event_uuid</th>\n",
       "      <th>kind</th>\n",
       "      <th>wifi</th>\n",
       "      <th>trans_id</th>\n",
       "      <th>ip_address</th>\n",
       "      <th>device_language</th>\n",
       "    </tr>\n",
       "  </thead>\n",
       "  <tbody>\n",
       "    <tr>\n",
       "      <th>2234</th>\n",
       "      <td>2019-03-09 19:48:10.457</td>\n",
       "      <td>16</td>\n",
       "      <td>1891515180541284343</td>\n",
       "      <td>6173899971792625142</td>\n",
       "      <td>NaN</td>\n",
       "      <td>False</td>\n",
       "      <td>False</td>\n",
       "      <td>6333597102633388268</td>\n",
       "      <td>2.208835e+18</td>\n",
       "      <td>9.109466e+18</td>\n",
       "      <td>http-kit/2.0</td>\n",
       "      <td>Dalvik/2.1.0 (Linux; U; Android 7.1.1; Moto G ...</td>\n",
       "      <td>NaN</td>\n",
       "      <td>NaN</td>\n",
       "      <td>True</td>\n",
       "      <td>{hash}</td>\n",
       "      <td>6586849487961128061</td>\n",
       "      <td>9.028383e+18</td>\n",
       "    </tr>\n",
       "    <tr>\n",
       "      <th>3249</th>\n",
       "      <td>2019-03-12 13:00:45.072</td>\n",
       "      <td>16</td>\n",
       "      <td>1891515180541284343</td>\n",
       "      <td>6808608047290129862</td>\n",
       "      <td>NaN</td>\n",
       "      <td>False</td>\n",
       "      <td>False</td>\n",
       "      <td>6333597102633388268</td>\n",
       "      <td>2.208835e+18</td>\n",
       "      <td>8.716277e+18</td>\n",
       "      <td>http-kit/2.0</td>\n",
       "      <td>Dalvik/2.1.0 (Linux; U; Android 7.0; Moto G (4...</td>\n",
       "      <td>NaN</td>\n",
       "      <td>NaN</td>\n",
       "      <td>True</td>\n",
       "      <td>{hash}</td>\n",
       "      <td>6799929828891198374</td>\n",
       "      <td>9.028383e+18</td>\n",
       "    </tr>\n",
       "    <tr>\n",
       "      <th>3267</th>\n",
       "      <td>2019-03-12 22:27:58.098</td>\n",
       "      <td>16</td>\n",
       "      <td>1891515180541284343</td>\n",
       "      <td>5517347051664000025</td>\n",
       "      <td>NaN</td>\n",
       "      <td>False</td>\n",
       "      <td>False</td>\n",
       "      <td>6333597102633388268</td>\n",
       "      <td>3.083059e+17</td>\n",
       "      <td>2.066431e+17</td>\n",
       "      <td>http-kit/2.0</td>\n",
       "      <td>Dalvik/2.1.0 (Linux; U; Android 8.0.0; SM-G570...</td>\n",
       "      <td>NaN</td>\n",
       "      <td>NaN</td>\n",
       "      <td>True</td>\n",
       "      <td>{hash}</td>\n",
       "      <td>3162368506662488065</td>\n",
       "      <td>9.028383e+18</td>\n",
       "    </tr>\n",
       "    <tr>\n",
       "      <th>3380</th>\n",
       "      <td>2019-03-06 17:01:26.123</td>\n",
       "      <td>1</td>\n",
       "      <td>1494519392962156891</td>\n",
       "      <td>5634738659911451938</td>\n",
       "      <td>NaN</td>\n",
       "      <td>False</td>\n",
       "      <td>False</td>\n",
       "      <td>6333597102633388268</td>\n",
       "      <td>5.951325e+18</td>\n",
       "      <td>8.354574e+18</td>\n",
       "      <td>Mozilla/5.0 (iPhone; CPU iPhone OS 12_1 like M...</td>\n",
       "      <td>NaN</td>\n",
       "      <td>NaN</td>\n",
       "      <td>NaN</td>\n",
       "      <td>NaN</td>\n",
       "      <td>44aeb6df-8db4-4b3f-ac67-0a802d479c86</td>\n",
       "      <td>5145638343291847724</td>\n",
       "      <td>4.621024e+18</td>\n",
       "    </tr>\n",
       "    <tr>\n",
       "      <th>3409</th>\n",
       "      <td>2019-03-05 11:03:58.537</td>\n",
       "      <td>19</td>\n",
       "      <td>1494519392962156891</td>\n",
       "      <td>8280469812012804019</td>\n",
       "      <td>NaN</td>\n",
       "      <td>False</td>\n",
       "      <td>False</td>\n",
       "      <td>6333597102633388268</td>\n",
       "      <td>5.951325e+18</td>\n",
       "      <td>4.349816e+18</td>\n",
       "      <td>Mozilla/5.0 (iPhone; CPU iPhone OS 12_1_4 like...</td>\n",
       "      <td>NaN</td>\n",
       "      <td>NaN</td>\n",
       "      <td>NaN</td>\n",
       "      <td>NaN</td>\n",
       "      <td>89bda305-bff1-4c22-ae23-1a237eac0002</td>\n",
       "      <td>543629953276043235</td>\n",
       "      <td>4.621024e+18</td>\n",
       "    </tr>\n",
       "    <tr>\n",
       "      <th>3410</th>\n",
       "      <td>2019-03-07 13:42:47.814</td>\n",
       "      <td>19</td>\n",
       "      <td>1494519392962156891</td>\n",
       "      <td>1530864130516519187</td>\n",
       "      <td>NaN</td>\n",
       "      <td>False</td>\n",
       "      <td>False</td>\n",
       "      <td>6333597102633388268</td>\n",
       "      <td>5.951325e+18</td>\n",
       "      <td>1.764701e+18</td>\n",
       "      <td>Mozilla/5.0 (iPhone; CPU iPhone OS 12_1_2 like...</td>\n",
       "      <td>NaN</td>\n",
       "      <td>NaN</td>\n",
       "      <td>NaN</td>\n",
       "      <td>NaN</td>\n",
       "      <td>22380348598</td>\n",
       "      <td>5929364725345188154</td>\n",
       "      <td>1.526421e+18</td>\n",
       "    </tr>\n",
       "  </tbody>\n",
       "</table>\n",
       "</div>"
      ],
      "text/plain": [
       "                      created  application_id             ref_type  \\\n",
       "2234  2019-03-09 19:48:10.457              16  1891515180541284343   \n",
       "3249  2019-03-12 13:00:45.072              16  1891515180541284343   \n",
       "3267  2019-03-12 22:27:58.098              16  1891515180541284343   \n",
       "3380  2019-03-06 17:01:26.123               1  1494519392962156891   \n",
       "3409  2019-03-05 11:03:58.537              19  1494519392962156891   \n",
       "3410  2019-03-07 13:42:47.814              19  1494519392962156891   \n",
       "\n",
       "                 ref_hash  click_hash  attributed  implicit  \\\n",
       "2234  6173899971792625142         NaN       False     False   \n",
       "3249  6808608047290129862         NaN       False     False   \n",
       "3267  5517347051664000025         NaN       False     False   \n",
       "3380  5634738659911451938         NaN       False     False   \n",
       "3409  8280469812012804019         NaN       False     False   \n",
       "3410  1530864130516519187         NaN       False     False   \n",
       "\n",
       "       device_countrycode  device_brand  device_model  \\\n",
       "2234  6333597102633388268  2.208835e+18  9.109466e+18   \n",
       "3249  6333597102633388268  2.208835e+18  8.716277e+18   \n",
       "3267  6333597102633388268  3.083059e+17  2.066431e+17   \n",
       "3380  6333597102633388268  5.951325e+18  8.354574e+18   \n",
       "3409  6333597102633388268  5.951325e+18  4.349816e+18   \n",
       "3410  6333597102633388268  5.951325e+18  1.764701e+18   \n",
       "\n",
       "                                     session_user_agent  \\\n",
       "2234                                       http-kit/2.0   \n",
       "3249                                       http-kit/2.0   \n",
       "3267                                       http-kit/2.0   \n",
       "3380  Mozilla/5.0 (iPhone; CPU iPhone OS 12_1 like M...   \n",
       "3409  Mozilla/5.0 (iPhone; CPU iPhone OS 12_1_4 like...   \n",
       "3410  Mozilla/5.0 (iPhone; CPU iPhone OS 12_1_2 like...   \n",
       "\n",
       "                                             user_agent event_uuid kind  wifi  \\\n",
       "2234  Dalvik/2.1.0 (Linux; U; Android 7.1.1; Moto G ...        NaN  NaN  True   \n",
       "3249  Dalvik/2.1.0 (Linux; U; Android 7.0; Moto G (4...        NaN  NaN  True   \n",
       "3267  Dalvik/2.1.0 (Linux; U; Android 8.0.0; SM-G570...        NaN  NaN  True   \n",
       "3380                                                NaN        NaN  NaN   NaN   \n",
       "3409                                                NaN        NaN  NaN   NaN   \n",
       "3410                                                NaN        NaN  NaN   NaN   \n",
       "\n",
       "                                  trans_id           ip_address  \\\n",
       "2234                                {hash}  6586849487961128061   \n",
       "3249                                {hash}  6799929828891198374   \n",
       "3267                                {hash}  3162368506662488065   \n",
       "3380  44aeb6df-8db4-4b3f-ac67-0a802d479c86  5145638343291847724   \n",
       "3409  89bda305-bff1-4c22-ae23-1a237eac0002   543629953276043235   \n",
       "3410                           22380348598  5929364725345188154   \n",
       "\n",
       "      device_language  \n",
       "2234     9.028383e+18  \n",
       "3249     9.028383e+18  \n",
       "3267     9.028383e+18  \n",
       "3380     4.621024e+18  \n",
       "3409     4.621024e+18  \n",
       "3410     1.526421e+18  "
      ]
     },
     "execution_count": 38,
     "metadata": {},
     "output_type": "execute_result"
    }
   ],
   "source": [
    "# los 6 valores no nulos, que significa {hash}\n",
    "auctions.loc[auctions['trans_id'].notnull()]"
   ]
  },
  {
   "cell_type": "code",
   "execution_count": 43,
   "metadata": {},
   "outputs": [
    {
     "data": {
      "text/plain": [
       "created                  0\n",
       "application_id           0\n",
       "ref_type                 0\n",
       "ref_hash                 0\n",
       "click_hash            3412\n",
       "attributed               0\n",
       "implicit                 0\n",
       "device_countrycode       0\n",
       "device_brand          2365\n",
       "device_model             1\n",
       "session_user_agent      48\n",
       "user_agent            1683\n",
       "event_uuid            2547\n",
       "kind                  2547\n",
       "wifi                  1683\n",
       "trans_id              3406\n",
       "ip_address               0\n",
       "device_language         34\n",
       "dtype: int64"
      ]
     },
     "execution_count": 43,
     "metadata": {},
     "output_type": "execute_result"
    }
   ],
   "source": [
    "auctions.isnull().sum()"
   ]
  },
  {
   "cell_type": "code",
   "execution_count": 45,
   "metadata": {},
   "outputs": [
    {
     "data": {
      "text/plain": [
       "af_app_opened                 428\n",
       "app_open                      212\n",
       "EVENT_Homepage                 70\n",
       "open                           36\n",
       "EVENT_OPEN_APP                 33\n",
       "Open                           22\n",
       "login_success                  17\n",
       "account_summary_first_step     13\n",
       "EVENT_HOMEPAGE                  6\n",
       "EVENT_LISTINGVIEW_FLIGHT        6\n",
       "deeplink                        5\n",
       "reattribution                   4\n",
       "registration                    3\n",
       "payment method add              3\n",
       "journey first drop off          2\n",
       "af_list_view                    1\n",
       "install                         1\n",
       "EVENT_PROMO                     1\n",
       "journey reserved                1\n",
       "journey drop off                1\n",
       "Name: kind, dtype: int64"
      ]
     },
     "execution_count": 45,
     "metadata": {},
     "output_type": "execute_result"
    }
   ],
   "source": [
    "auctions['kind'].value_counts() # esto es lo interesante"
   ]
  },
  {
   "cell_type": "code",
   "execution_count": 91,
   "metadata": {},
   "outputs": [],
   "source": [
    "# Los eventos los describo todos en mayusculas\n",
    "auctions.loc[auctions['kind'] == 'event_homepage'] = 'EVENT_HOMEPAGE'"
   ]
  },
  {
   "cell_type": "code",
   "execution_count": 92,
   "metadata": {},
   "outputs": [],
   "source": [
    "auctions.loc[auctions['kind'] == 'Open'] = 'open'"
   ]
  },
  {
   "cell_type": "code",
   "execution_count": 41,
   "metadata": {},
   "outputs": [
    {
     "data": {
      "text/plain": [
       "6333597102633388268    1820\n",
       "2970470518450881158    1592\n",
       "Name: device_countrycode, dtype: int64"
      ]
     },
     "execution_count": 41,
     "metadata": {},
     "output_type": "execute_result"
    }
   ],
   "source": [
    "auctions['device_countrycode'].value_counts() # solo 2 paises"
   ]
  },
  {
   "cell_type": "code",
   "execution_count": 82,
   "metadata": {},
   "outputs": [],
   "source": [
    "#auctions['created'].str[:19] # si lo asigno a la columna me limpia los datos"
   ]
  },
  {
   "cell_type": "code",
   "execution_count": 84,
   "metadata": {},
   "outputs": [
    {
     "data": {
      "text/plain": [
       "0   2019-03-13 01:43:33\n",
       "1   2019-03-13 04:58:35\n",
       "2   2019-03-13 04:20:57\n",
       "3   2019-03-13 04:20:57\n",
       "4   2019-03-10 22:24:56\n",
       "Name: created, dtype: datetime64[ns]"
      ]
     },
     "execution_count": 84,
     "metadata": {},
     "output_type": "execute_result"
    }
   ],
   "source": [
    "pd.to_datetime(auctions['created'].str[:19], format='%Y-%m-%d %H:%M:%S').head()"
   ]
  }
 ],
 "metadata": {
  "kernelspec": {
   "display_name": "Python 3",
   "language": "python",
   "name": "python3"
  },
  "language_info": {
   "codemirror_mode": {
    "name": "ipython",
    "version": 3
   },
   "file_extension": ".py",
   "mimetype": "text/x-python",
   "name": "python",
   "nbconvert_exporter": "python",
   "pygments_lexer": "ipython3",
   "version": "3.6.7"
  }
 },
 "nbformat": 4,
 "nbformat_minor": 2
}
