{
 "cells": [
  {
   "cell_type": "code",
   "execution_count": 7,
   "metadata": {},
   "outputs": [],
   "source": [
    "import pandas as pd\n",
    "import numpy as np"
   ]
  },
  {
   "cell_type": "code",
   "execution_count": 8,
   "metadata": {},
   "outputs": [],
   "source": [
    "dtype_list = {'trans_id':object, 'wifi':object, 'connection_type':object}\n",
    "events = pd.read_csv('data/train_events.csv.gzip', dtype=dtype_list, parse_dates= ['date'])"
   ]
  },
  {
   "cell_type": "code",
   "execution_count": 21,
   "metadata": {},
   "outputs": [
    {
     "data": {
      "text/html": [
       "<div>\n",
       "<style scoped>\n",
       "    .dataframe tbody tr th:only-of-type {\n",
       "        vertical-align: middle;\n",
       "    }\n",
       "\n",
       "    .dataframe tbody tr th {\n",
       "        vertical-align: top;\n",
       "    }\n",
       "\n",
       "    .dataframe thead th {\n",
       "        text-align: right;\n",
       "    }\n",
       "</style>\n",
       "<table border=\"1\" class=\"dataframe\">\n",
       "  <thead>\n",
       "    <tr style=\"text-align: right;\">\n",
       "      <th></th>\n",
       "      <th>0</th>\n",
       "      <th>1</th>\n",
       "      <th>2</th>\n",
       "      <th>3</th>\n",
       "      <th>4</th>\n",
       "    </tr>\n",
       "  </thead>\n",
       "  <tbody>\n",
       "    <tr>\n",
       "      <th>date</th>\n",
       "      <td>2019-03-05 00:09:36.966000</td>\n",
       "      <td>2019-03-05 00:09:38.920000</td>\n",
       "      <td>2019-03-05 00:09:26.195000</td>\n",
       "      <td>2019-03-05 00:09:31.107000</td>\n",
       "      <td>2019-03-09 21:00:36.585000</td>\n",
       "    </tr>\n",
       "    <tr>\n",
       "      <th>event_id</th>\n",
       "      <td>0</td>\n",
       "      <td>1</td>\n",
       "      <td>0</td>\n",
       "      <td>2</td>\n",
       "      <td>3</td>\n",
       "    </tr>\n",
       "    <tr>\n",
       "      <th>ref_type</th>\n",
       "      <td>1891515180541284343</td>\n",
       "      <td>1891515180541284343</td>\n",
       "      <td>1891515180541284343</td>\n",
       "      <td>1891515180541284343</td>\n",
       "      <td>1891515180541284343</td>\n",
       "    </tr>\n",
       "    <tr>\n",
       "      <th>ref_hash</th>\n",
       "      <td>2688759737656491380</td>\n",
       "      <td>2688759737656491380</td>\n",
       "      <td>2688759737656491380</td>\n",
       "      <td>2688759737656491380</td>\n",
       "      <td>2635154697734164782</td>\n",
       "    </tr>\n",
       "    <tr>\n",
       "      <th>application_id</th>\n",
       "      <td>38</td>\n",
       "      <td>38</td>\n",
       "      <td>38</td>\n",
       "      <td>38</td>\n",
       "      <td>38</td>\n",
       "    </tr>\n",
       "    <tr>\n",
       "      <th>attributed</th>\n",
       "      <td>False</td>\n",
       "      <td>False</td>\n",
       "      <td>False</td>\n",
       "      <td>False</td>\n",
       "      <td>False</td>\n",
       "    </tr>\n",
       "    <tr>\n",
       "      <th>device_countrycode</th>\n",
       "      <td>6333597102633388268</td>\n",
       "      <td>6333597102633388268</td>\n",
       "      <td>6333597102633388268</td>\n",
       "      <td>6333597102633388268</td>\n",
       "      <td>6333597102633388268</td>\n",
       "    </tr>\n",
       "    <tr>\n",
       "      <th>device_os_version</th>\n",
       "      <td>5.9087e+17</td>\n",
       "      <td>5.9087e+17</td>\n",
       "      <td>5.9087e+17</td>\n",
       "      <td>5.9087e+17</td>\n",
       "      <td>7.39184e+18</td>\n",
       "    </tr>\n",
       "    <tr>\n",
       "      <th>device_brand</th>\n",
       "      <td>NaN</td>\n",
       "      <td>NaN</td>\n",
       "      <td>NaN</td>\n",
       "      <td>NaN</td>\n",
       "      <td>NaN</td>\n",
       "    </tr>\n",
       "    <tr>\n",
       "      <th>device_model</th>\n",
       "      <td>5.99012e+18</td>\n",
       "      <td>5.99012e+18</td>\n",
       "      <td>5.99012e+18</td>\n",
       "      <td>5.99012e+18</td>\n",
       "      <td>5.9609e+18</td>\n",
       "    </tr>\n",
       "    <tr>\n",
       "      <th>device_city</th>\n",
       "      <td>3.25822e+18</td>\n",
       "      <td>3.25822e+18</td>\n",
       "      <td>3.25822e+18</td>\n",
       "      <td>2.55178e+18</td>\n",
       "      <td>6.95933e+18</td>\n",
       "    </tr>\n",
       "    <tr>\n",
       "      <th>session_user_agent</th>\n",
       "      <td>7.16432e+18</td>\n",
       "      <td>7.16432e+18</td>\n",
       "      <td>7.16432e+18</td>\n",
       "      <td>7.16432e+18</td>\n",
       "      <td>7.16432e+18</td>\n",
       "    </tr>\n",
       "    <tr>\n",
       "      <th>trans_id</th>\n",
       "      <td>NaN</td>\n",
       "      <td>NaN</td>\n",
       "      <td>NaN</td>\n",
       "      <td>NaN</td>\n",
       "      <td>NaN</td>\n",
       "    </tr>\n",
       "    <tr>\n",
       "      <th>user_agent</th>\n",
       "      <td>NaN</td>\n",
       "      <td>NaN</td>\n",
       "      <td>NaN</td>\n",
       "      <td>NaN</td>\n",
       "      <td>NaN</td>\n",
       "    </tr>\n",
       "    <tr>\n",
       "      <th>carrier</th>\n",
       "      <td>2.24816e+17</td>\n",
       "      <td>2.24816e+17</td>\n",
       "      <td>2.24816e+17</td>\n",
       "      <td>2.24816e+17</td>\n",
       "      <td>2.24816e+17</td>\n",
       "    </tr>\n",
       "    <tr>\n",
       "      <th>kind</th>\n",
       "      <td>5.51662e+18</td>\n",
       "      <td>9.97766e+17</td>\n",
       "      <td>5.51662e+18</td>\n",
       "      <td>8.56115e+18</td>\n",
       "      <td>8.7319e+17</td>\n",
       "    </tr>\n",
       "    <tr>\n",
       "      <th>device_os</th>\n",
       "      <td>7.53167e+18</td>\n",
       "      <td>7.53167e+18</td>\n",
       "      <td>7.53167e+18</td>\n",
       "      <td>7.53167e+18</td>\n",
       "      <td>7.53167e+18</td>\n",
       "    </tr>\n",
       "    <tr>\n",
       "      <th>wifi</th>\n",
       "      <td>NaN</td>\n",
       "      <td>NaN</td>\n",
       "      <td>NaN</td>\n",
       "      <td>NaN</td>\n",
       "      <td>NaN</td>\n",
       "    </tr>\n",
       "    <tr>\n",
       "      <th>connection_type</th>\n",
       "      <td>Cable/DSL</td>\n",
       "      <td>Cable/DSL</td>\n",
       "      <td>Cable/DSL</td>\n",
       "      <td>Cable/DSL</td>\n",
       "      <td>Cable/DSL</td>\n",
       "    </tr>\n",
       "    <tr>\n",
       "      <th>ip_address</th>\n",
       "      <td>7858558567428669000</td>\n",
       "      <td>7858558567428669000</td>\n",
       "      <td>7858558567428669000</td>\n",
       "      <td>6324037615828123965</td>\n",
       "      <td>2894495631302821483</td>\n",
       "    </tr>\n",
       "    <tr>\n",
       "      <th>device_language</th>\n",
       "      <td>4.07706e+17</td>\n",
       "      <td>4.07706e+17</td>\n",
       "      <td>4.07706e+17</td>\n",
       "      <td>4.07706e+17</td>\n",
       "      <td>3.30138e+18</td>\n",
       "    </tr>\n",
       "  </tbody>\n",
       "</table>\n",
       "</div>"
      ],
      "text/plain": [
       "                                             0                           1  \\\n",
       "date                2019-03-05 00:09:36.966000  2019-03-05 00:09:38.920000   \n",
       "event_id                                     0                           1   \n",
       "ref_type                   1891515180541284343         1891515180541284343   \n",
       "ref_hash                   2688759737656491380         2688759737656491380   \n",
       "application_id                              38                          38   \n",
       "attributed                               False                       False   \n",
       "device_countrycode         6333597102633388268         6333597102633388268   \n",
       "device_os_version                   5.9087e+17                  5.9087e+17   \n",
       "device_brand                               NaN                         NaN   \n",
       "device_model                       5.99012e+18                 5.99012e+18   \n",
       "device_city                        3.25822e+18                 3.25822e+18   \n",
       "session_user_agent                 7.16432e+18                 7.16432e+18   \n",
       "trans_id                                   NaN                         NaN   \n",
       "user_agent                                 NaN                         NaN   \n",
       "carrier                            2.24816e+17                 2.24816e+17   \n",
       "kind                               5.51662e+18                 9.97766e+17   \n",
       "device_os                          7.53167e+18                 7.53167e+18   \n",
       "wifi                                       NaN                         NaN   \n",
       "connection_type                      Cable/DSL                   Cable/DSL   \n",
       "ip_address                 7858558567428669000         7858558567428669000   \n",
       "device_language                    4.07706e+17                 4.07706e+17   \n",
       "\n",
       "                                             2                           3  \\\n",
       "date                2019-03-05 00:09:26.195000  2019-03-05 00:09:31.107000   \n",
       "event_id                                     0                           2   \n",
       "ref_type                   1891515180541284343         1891515180541284343   \n",
       "ref_hash                   2688759737656491380         2688759737656491380   \n",
       "application_id                              38                          38   \n",
       "attributed                               False                       False   \n",
       "device_countrycode         6333597102633388268         6333597102633388268   \n",
       "device_os_version                   5.9087e+17                  5.9087e+17   \n",
       "device_brand                               NaN                         NaN   \n",
       "device_model                       5.99012e+18                 5.99012e+18   \n",
       "device_city                        3.25822e+18                 2.55178e+18   \n",
       "session_user_agent                 7.16432e+18                 7.16432e+18   \n",
       "trans_id                                   NaN                         NaN   \n",
       "user_agent                                 NaN                         NaN   \n",
       "carrier                            2.24816e+17                 2.24816e+17   \n",
       "kind                               5.51662e+18                 8.56115e+18   \n",
       "device_os                          7.53167e+18                 7.53167e+18   \n",
       "wifi                                       NaN                         NaN   \n",
       "connection_type                      Cable/DSL                   Cable/DSL   \n",
       "ip_address                 7858558567428669000         6324037615828123965   \n",
       "device_language                    4.07706e+17                 4.07706e+17   \n",
       "\n",
       "                                             4  \n",
       "date                2019-03-09 21:00:36.585000  \n",
       "event_id                                     3  \n",
       "ref_type                   1891515180541284343  \n",
       "ref_hash                   2635154697734164782  \n",
       "application_id                              38  \n",
       "attributed                               False  \n",
       "device_countrycode         6333597102633388268  \n",
       "device_os_version                  7.39184e+18  \n",
       "device_brand                               NaN  \n",
       "device_model                        5.9609e+18  \n",
       "device_city                        6.95933e+18  \n",
       "session_user_agent                 7.16432e+18  \n",
       "trans_id                                   NaN  \n",
       "user_agent                                 NaN  \n",
       "carrier                            2.24816e+17  \n",
       "kind                                8.7319e+17  \n",
       "device_os                          7.53167e+18  \n",
       "wifi                                       NaN  \n",
       "connection_type                      Cable/DSL  \n",
       "ip_address                 2894495631302821483  \n",
       "device_language                    3.30138e+18  "
      ]
     },
     "execution_count": 21,
     "metadata": {},
     "output_type": "execute_result"
    }
   ],
   "source": [
    "events.head().T"
   ]
  },
  {
   "cell_type": "code",
   "execution_count": 22,
   "metadata": {},
   "outputs": [
    {
     "data": {
      "text/plain": [
       "2494423"
      ]
     },
     "execution_count": 22,
     "metadata": {},
     "output_type": "execute_result"
    }
   ],
   "source": [
    "len(events)"
   ]
  },
  {
   "cell_type": "code",
   "execution_count": 91,
   "metadata": {},
   "outputs": [
    {
     "data": {
      "text/plain": [
       "Index                       80\n",
       "date                  19955384\n",
       "event_id               4988846\n",
       "ref_type               2494519\n",
       "ref_hash              19955384\n",
       "application_id         4988846\n",
       "attributed             2494423\n",
       "device_countrycode     2494511\n",
       "device_os_version     19955384\n",
       "device_brand          19955384\n",
       "device_model          19955384\n",
       "device_city           19955384\n",
       "session_user_agent    19955384\n",
       "trans_id               2496310\n",
       "user_agent            19955384\n",
       "carrier               19955384\n",
       "kind                  19955384\n",
       "device_os              2494615\n",
       "wifi                   2494423\n",
       "connection_type        2494700\n",
       "ip_address            19955384\n",
       "device_language       19955384\n",
       "dtype: int64"
      ]
     },
     "execution_count": 91,
     "metadata": {},
     "output_type": "execute_result"
    }
   ],
   "source": [
    "events.memory_usage(deep=True)"
   ]
  },
  {
   "cell_type": "code",
   "execution_count": 90,
   "metadata": {},
   "outputs": [
    {
     "data": {
      "text/plain": [
       "date                  datetime64[ns]\n",
       "event_id                       int16\n",
       "ref_type                    category\n",
       "ref_hash                       int64\n",
       "application_id                 int16\n",
       "attributed                      bool\n",
       "device_countrycode          category\n",
       "device_os_version            float64\n",
       "device_brand                 float64\n",
       "device_model                 float64\n",
       "device_city                  float64\n",
       "session_user_agent           float64\n",
       "trans_id                    category\n",
       "user_agent                   float64\n",
       "carrier                      float64\n",
       "kind                         float64\n",
       "device_os                   category\n",
       "wifi                            bool\n",
       "connection_type             category\n",
       "ip_address                     int64\n",
       "device_language              float64\n",
       "dtype: object"
      ]
     },
     "execution_count": 90,
     "metadata": {},
     "output_type": "execute_result"
    }
   ],
   "source": [
    "events.dtypes"
   ]
  },
  {
   "cell_type": "code",
   "execution_count": 67,
   "metadata": {},
   "outputs": [
    {
     "data": {
      "text/plain": [
       "date                        0\n",
       "event_id                    0\n",
       "ref_type                    0\n",
       "ref_hash                    0\n",
       "application_id              0\n",
       "attributed                  0\n",
       "device_countrycode          0\n",
       "device_os_version     1472357\n",
       "device_brand          1329460\n",
       "device_model            87967\n",
       "device_city           1879725\n",
       "session_user_agent      11786\n",
       "trans_id              2494341\n",
       "user_agent            1102896\n",
       "carrier               1877989\n",
       "kind                     5099\n",
       "device_os             1836756\n",
       "wifi                        0\n",
       "connection_type       1881960\n",
       "ip_address                  0\n",
       "device_language         87819\n",
       "dtype: int64"
      ]
     },
     "execution_count": 67,
     "metadata": {},
     "output_type": "execute_result"
    }
   ],
   "source": [
    "events.isnull().sum()"
   ]
  },
  {
   "cell_type": "code",
   "execution_count": null,
   "metadata": {},
   "outputs": [],
   "source": [
    "events['event_uuid'].value_counts()"
   ]
  },
  {
   "cell_type": "code",
   "execution_count": null,
   "metadata": {},
   "outputs": [],
   "source": [
    "events['event_uuid'].describe()"
   ]
  },
  {
   "cell_type": "code",
   "execution_count": 20,
   "metadata": {},
   "outputs": [],
   "source": [
    "del events['event_uuid']"
   ]
  },
  {
   "cell_type": "code",
   "execution_count": 25,
   "metadata": {},
   "outputs": [
    {
     "data": {
      "text/plain": [
       "true     930902\n",
       "false    447970\n",
       "Name: wifi, dtype: int64"
      ]
     },
     "execution_count": 25,
     "metadata": {},
     "output_type": "execute_result"
    }
   ],
   "source": [
    "events['wifi'].value_counts()"
   ]
  },
  {
   "cell_type": "code",
   "execution_count": 29,
   "metadata": {},
   "outputs": [],
   "source": [
    "events['wifi'] = (events['wifi'] == 'true')"
   ]
  },
  {
   "cell_type": "code",
   "execution_count": 32,
   "metadata": {},
   "outputs": [
    {
     "data": {
      "text/plain": [
       "Cable/DSL    331948\n",
       "Cellular     280511\n",
       "Corporate         4\n",
       "Name: connection_type, dtype: int64"
      ]
     },
     "execution_count": 32,
     "metadata": {},
     "output_type": "execute_result"
    }
   ],
   "source": [
    "events['connection_type'].value_counts()"
   ]
  },
  {
   "cell_type": "code",
   "execution_count": 33,
   "metadata": {},
   "outputs": [],
   "source": [
    "events['connection_type'] = events['connection_type'].astype('category')"
   ]
  },
  {
   "cell_type": "code",
   "execution_count": 37,
   "metadata": {},
   "outputs": [
    {
     "data": {
      "text/plain": [
       "{hash}                                                                                                           33\n",
       "0                                                                                                                16\n",
       "103430dcab4b60eb4f                                                                                                9\n",
       "433f38e2c758468ab632dcab7281d4be_Y2NhPTEwLzI1LzIwMTggMTA6Mjk6MjUgUE0mb2ZmZXJJZD0zMzQ1NjQ0NiZhZmZJZD0yMjMyNzUx     7\n",
       "210a4c5786d249c78bb30237abcac890_Y2NhPTQvMjEvMjAxOCA1OjI2OjM3IFBNJm9mZmVySWQ9MzM0NTY0NDYmYWZmSWQ9MTY2MTgxNQ==     6\n",
       "0941bb7b-866f-4d5a-9b85-63e77b27d562                                                                              2\n",
       "77ca31a9-b0e0-4884-8de8-c2ee74f1cc32                                                                              2\n",
       "1901171053a509cd7317f2c6                                                                                          2\n",
       "58ee68fa77874f8785ecbe8cf74e14de_Y2NhPTQvMjUvMjAxOCA5OjI5OjE4IFBNJm9mZmVySWQ9MzM0NTY4ODkmYWZmSWQ9MjIzMzAzOQ==     1\n",
       "57d62969                                                                                                          1\n",
       "73f1hsvh52g4soo                                                                                                   1\n",
       "1500439142mb23318419296                                                                                           1\n",
       "57ff03c8                                                                                                          1\n",
       "Name: trans_id, dtype: int64"
      ]
     },
     "execution_count": 37,
     "metadata": {},
     "output_type": "execute_result"
    }
   ],
   "source": [
    "events['trans_id'].value_counts()"
   ]
  },
  {
   "cell_type": "code",
   "execution_count": 38,
   "metadata": {},
   "outputs": [],
   "source": [
    "events['trans_id'] = events['trans_id'].astype('category')"
   ]
  },
  {
   "cell_type": "code",
   "execution_count": null,
   "metadata": {},
   "outputs": [],
   "source": [
    "events['event_id'].value_counts()"
   ]
  },
  {
   "cell_type": "code",
   "execution_count": 41,
   "metadata": {},
   "outputs": [
    {
     "data": {
      "text/plain": [
       "count    2.494423e+06\n",
       "mean     9.970445e+01\n",
       "std      1.070903e+02\n",
       "min      0.000000e+00\n",
       "25%      2.200000e+01\n",
       "50%      3.100000e+01\n",
       "75%      1.610000e+02\n",
       "max      7.120000e+02\n",
       "Name: event_id, dtype: float64"
      ]
     },
     "execution_count": 41,
     "metadata": {},
     "output_type": "execute_result"
    }
   ],
   "source": [
    "events['event_id'].describe()"
   ]
  },
  {
   "cell_type": "code",
   "execution_count": 49,
   "metadata": {},
   "outputs": [],
   "source": [
    "events['event_id'] = events['event_id'].astype(np.int16)"
   ]
  },
  {
   "cell_type": "code",
   "execution_count": 51,
   "metadata": {},
   "outputs": [
    {
     "data": {
      "text/plain": [
       "1891515180541284343    1882743\n",
       "1494519392962156891     611680\n",
       "Name: ref_type, dtype: int64"
      ]
     },
     "execution_count": 51,
     "metadata": {},
     "output_type": "execute_result"
    }
   ],
   "source": [
    "events['ref_type'].value_counts()"
   ]
  },
  {
   "cell_type": "code",
   "execution_count": 54,
   "metadata": {},
   "outputs": [],
   "source": [
    "events['ref_type'] = events['ref_type'].astype('category')"
   ]
  },
  {
   "cell_type": "code",
   "execution_count": 61,
   "metadata": {},
   "outputs": [
    {
     "data": {
      "text/plain": [
       "count    2.494423e+06\n",
       "mean     4.641486e+18\n",
       "std      2.660724e+18\n",
       "min      1.633675e+14\n",
       "25%      2.326142e+18\n",
       "50%      4.688964e+18\n",
       "75%      6.927594e+18\n",
       "max      9.223316e+18\n",
       "Name: ref_hash, dtype: float64"
      ]
     },
     "execution_count": 61,
     "metadata": {},
     "output_type": "execute_result"
    }
   ],
   "source": [
    "events['ref_hash'].describe()"
   ]
  },
  {
   "cell_type": "code",
   "execution_count": 63,
   "metadata": {},
   "outputs": [
    {
     "data": {
      "text/plain": [
       "count    2.494423e+06\n",
       "mean     9.910934e+01\n",
       "std      5.780986e+01\n",
       "min      0.000000e+00\n",
       "25%      6.300000e+01\n",
       "50%      6.600000e+01\n",
       "75%      1.450000e+02\n",
       "max      3.220000e+02\n",
       "Name: application_id, dtype: float64"
      ]
     },
     "execution_count": 63,
     "metadata": {},
     "output_type": "execute_result"
    }
   ],
   "source": [
    "events['application_id'].describe()"
   ]
  },
  {
   "cell_type": "code",
   "execution_count": 64,
   "metadata": {},
   "outputs": [],
   "source": [
    "events['application_id'] = events['application_id'].astype(np.int16)"
   ]
  },
  {
   "cell_type": "code",
   "execution_count": 68,
   "metadata": {},
   "outputs": [
    {
     "data": {
      "text/plain": [
       "6333597102633388268    2494423\n",
       "Name: device_countrycode, dtype: int64"
      ]
     },
     "execution_count": 68,
     "metadata": {},
     "output_type": "execute_result"
    }
   ],
   "source": [
    "events['device_countrycode'].value_counts()"
   ]
  },
  {
   "cell_type": "code",
   "execution_count": 69,
   "metadata": {},
   "outputs": [],
   "source": [
    "events['device_countrycode'] = events['device_countrycode'].astype('category')"
   ]
  },
  {
   "cell_type": "code",
   "execution_count": 88,
   "metadata": {},
   "outputs": [
    {
     "data": {
      "text/plain": [
       "7.531669e+18    389811\n",
       "6.941825e+18    260861\n",
       "2.748831e+18      6110\n",
       "5.916187e+18       885\n",
       "Name: device_os, dtype: int64"
      ]
     },
     "execution_count": 88,
     "metadata": {},
     "output_type": "execute_result"
    }
   ],
   "source": [
    "events['device_os'].value_counts()"
   ]
  },
  {
   "cell_type": "code",
   "execution_count": 89,
   "metadata": {},
   "outputs": [],
   "source": [
    "events['device_os'] = events['device_os'].astype('category')"
   ]
  },
  {
   "cell_type": "code",
   "execution_count": 93,
   "metadata": {},
   "outputs": [
    {
     "data": {
      "text/plain": [
       "count    2.494423e+06\n",
       "mean     4.620786e+18\n",
       "std      2.672746e+18\n",
       "min      5.287755e+12\n",
       "25%      2.333410e+18\n",
       "50%      4.541498e+18\n",
       "75%      7.044307e+18\n",
       "max      9.223367e+18\n",
       "Name: ip_address, dtype: float64"
      ]
     },
     "execution_count": 93,
     "metadata": {},
     "output_type": "execute_result"
    }
   ],
   "source": [
    "events['ip_address'].describe()"
   ]
  }
 ],
 "metadata": {
  "kernelspec": {
   "display_name": "Python 3",
   "language": "python",
   "name": "python3"
  },
  "language_info": {
   "codemirror_mode": {
    "name": "ipython",
    "version": 3
   },
   "file_extension": ".py",
   "mimetype": "text/x-python",
   "name": "python",
   "nbconvert_exporter": "python",
   "pygments_lexer": "ipython3",
   "version": "3.7.3"
  }
 },
 "nbformat": 4,
 "nbformat_minor": 2
}
