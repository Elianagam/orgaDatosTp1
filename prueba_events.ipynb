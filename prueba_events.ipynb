{
 "cells": [
  {
   "cell_type": "code",
   "execution_count": 1,
   "metadata": {},
   "outputs": [],
   "source": [
    "import pandas as pd\n",
    "import numpy as np\n",
    "import matplotlib.pyplot as plt\n",
    "import seaborn as sns"
   ]
  },
  {
   "cell_type": "code",
   "execution_count": 2,
   "metadata": {},
   "outputs": [],
   "source": [
    "dtype_list = {'event_id':np.int16, 'ref_type':'category', 'aplication_id':np.int16, 'atributed':bool, 'device_countrycode':'category',\\\n",
    "              'trans_id':'category', 'device_os':'category', 'wifi':object, 'connection_type':'category'}\n",
    "events = pd.read_csv('data/train_events.csv.gzip', dtype=dtype_list, parse_dates= ['date'])"
   ]
  },
  {
   "cell_type": "code",
   "execution_count": 3,
   "metadata": {},
   "outputs": [],
   "source": [
    "events['wifi'] = (events['wifi'] == 'true')"
   ]
  },
  {
   "cell_type": "code",
   "execution_count": 4,
   "metadata": {},
   "outputs": [
    {
     "data": {
      "text/plain": [
       "'6333597102633388268'"
      ]
     },
     "execution_count": 4,
     "metadata": {},
     "output_type": "execute_result"
    }
   ],
   "source": [
    "device_countrycode = events['device_countrycode'].unique()[0]\n",
    "device_countrycode"
   ]
  },
  {
   "cell_type": "code",
   "execution_count": 5,
   "metadata": {},
   "outputs": [],
   "source": [
    "del events['device_countrycode']"
   ]
  },
  {
   "cell_type": "code",
   "execution_count": 6,
   "metadata": {},
   "outputs": [],
   "source": [
    "del events['event_uuid']"
   ]
  },
  {
   "cell_type": "code",
   "execution_count": 7,
   "metadata": {},
   "outputs": [
    {
     "data": {
      "text/plain": [
       "2494423"
      ]
     },
     "execution_count": 7,
     "metadata": {},
     "output_type": "execute_result"
    }
   ],
   "source": [
    "len(events)"
   ]
  },
  {
   "cell_type": "code",
   "execution_count": 8,
   "metadata": {},
   "outputs": [
    {
     "data": {
      "text/html": [
       "<div>\n",
       "<style scoped>\n",
       "    .dataframe tbody tr th:only-of-type {\n",
       "        vertical-align: middle;\n",
       "    }\n",
       "\n",
       "    .dataframe tbody tr th {\n",
       "        vertical-align: top;\n",
       "    }\n",
       "\n",
       "    .dataframe thead th {\n",
       "        text-align: right;\n",
       "    }\n",
       "</style>\n",
       "<table border=\"1\" class=\"dataframe\">\n",
       "  <thead>\n",
       "    <tr style=\"text-align: right;\">\n",
       "      <th></th>\n",
       "      <th>0</th>\n",
       "      <th>1</th>\n",
       "      <th>2</th>\n",
       "      <th>3</th>\n",
       "      <th>4</th>\n",
       "    </tr>\n",
       "  </thead>\n",
       "  <tbody>\n",
       "    <tr>\n",
       "      <th>date</th>\n",
       "      <td>2019-03-05 00:09:36.966000</td>\n",
       "      <td>2019-03-05 00:09:38.920000</td>\n",
       "      <td>2019-03-05 00:09:26.195000</td>\n",
       "      <td>2019-03-05 00:09:31.107000</td>\n",
       "      <td>2019-03-09 21:00:36.585000</td>\n",
       "    </tr>\n",
       "    <tr>\n",
       "      <th>event_id</th>\n",
       "      <td>0</td>\n",
       "      <td>1</td>\n",
       "      <td>0</td>\n",
       "      <td>2</td>\n",
       "      <td>3</td>\n",
       "    </tr>\n",
       "    <tr>\n",
       "      <th>ref_type</th>\n",
       "      <td>1891515180541284343</td>\n",
       "      <td>1891515180541284343</td>\n",
       "      <td>1891515180541284343</td>\n",
       "      <td>1891515180541284343</td>\n",
       "      <td>1891515180541284343</td>\n",
       "    </tr>\n",
       "    <tr>\n",
       "      <th>ref_hash</th>\n",
       "      <td>2688759737656491380</td>\n",
       "      <td>2688759737656491380</td>\n",
       "      <td>2688759737656491380</td>\n",
       "      <td>2688759737656491380</td>\n",
       "      <td>2635154697734164782</td>\n",
       "    </tr>\n",
       "    <tr>\n",
       "      <th>application_id</th>\n",
       "      <td>38</td>\n",
       "      <td>38</td>\n",
       "      <td>38</td>\n",
       "      <td>38</td>\n",
       "      <td>38</td>\n",
       "    </tr>\n",
       "    <tr>\n",
       "      <th>attributed</th>\n",
       "      <td>False</td>\n",
       "      <td>False</td>\n",
       "      <td>False</td>\n",
       "      <td>False</td>\n",
       "      <td>False</td>\n",
       "    </tr>\n",
       "    <tr>\n",
       "      <th>device_os_version</th>\n",
       "      <td>5.9087e+17</td>\n",
       "      <td>5.9087e+17</td>\n",
       "      <td>5.9087e+17</td>\n",
       "      <td>5.9087e+17</td>\n",
       "      <td>7.39184e+18</td>\n",
       "    </tr>\n",
       "    <tr>\n",
       "      <th>device_brand</th>\n",
       "      <td>NaN</td>\n",
       "      <td>NaN</td>\n",
       "      <td>NaN</td>\n",
       "      <td>NaN</td>\n",
       "      <td>NaN</td>\n",
       "    </tr>\n",
       "    <tr>\n",
       "      <th>device_model</th>\n",
       "      <td>5.99012e+18</td>\n",
       "      <td>5.99012e+18</td>\n",
       "      <td>5.99012e+18</td>\n",
       "      <td>5.99012e+18</td>\n",
       "      <td>5.9609e+18</td>\n",
       "    </tr>\n",
       "    <tr>\n",
       "      <th>device_city</th>\n",
       "      <td>3.25822e+18</td>\n",
       "      <td>3.25822e+18</td>\n",
       "      <td>3.25822e+18</td>\n",
       "      <td>2.55178e+18</td>\n",
       "      <td>6.95933e+18</td>\n",
       "    </tr>\n",
       "    <tr>\n",
       "      <th>session_user_agent</th>\n",
       "      <td>7.16432e+18</td>\n",
       "      <td>7.16432e+18</td>\n",
       "      <td>7.16432e+18</td>\n",
       "      <td>7.16432e+18</td>\n",
       "      <td>7.16432e+18</td>\n",
       "    </tr>\n",
       "    <tr>\n",
       "      <th>trans_id</th>\n",
       "      <td>NaN</td>\n",
       "      <td>NaN</td>\n",
       "      <td>NaN</td>\n",
       "      <td>NaN</td>\n",
       "      <td>NaN</td>\n",
       "    </tr>\n",
       "    <tr>\n",
       "      <th>user_agent</th>\n",
       "      <td>NaN</td>\n",
       "      <td>NaN</td>\n",
       "      <td>NaN</td>\n",
       "      <td>NaN</td>\n",
       "      <td>NaN</td>\n",
       "    </tr>\n",
       "    <tr>\n",
       "      <th>carrier</th>\n",
       "      <td>2.24816e+17</td>\n",
       "      <td>2.24816e+17</td>\n",
       "      <td>2.24816e+17</td>\n",
       "      <td>2.24816e+17</td>\n",
       "      <td>2.24816e+17</td>\n",
       "    </tr>\n",
       "    <tr>\n",
       "      <th>kind</th>\n",
       "      <td>5.51662e+18</td>\n",
       "      <td>9.97766e+17</td>\n",
       "      <td>5.51662e+18</td>\n",
       "      <td>8.56115e+18</td>\n",
       "      <td>8.7319e+17</td>\n",
       "    </tr>\n",
       "    <tr>\n",
       "      <th>device_os</th>\n",
       "      <td>7.531669329342818e+18</td>\n",
       "      <td>7.531669329342818e+18</td>\n",
       "      <td>7.531669329342818e+18</td>\n",
       "      <td>7.531669329342818e+18</td>\n",
       "      <td>7.531669329342818e+18</td>\n",
       "    </tr>\n",
       "    <tr>\n",
       "      <th>wifi</th>\n",
       "      <td>False</td>\n",
       "      <td>False</td>\n",
       "      <td>False</td>\n",
       "      <td>False</td>\n",
       "      <td>False</td>\n",
       "    </tr>\n",
       "    <tr>\n",
       "      <th>connection_type</th>\n",
       "      <td>Cable/DSL</td>\n",
       "      <td>Cable/DSL</td>\n",
       "      <td>Cable/DSL</td>\n",
       "      <td>Cable/DSL</td>\n",
       "      <td>Cable/DSL</td>\n",
       "    </tr>\n",
       "    <tr>\n",
       "      <th>ip_address</th>\n",
       "      <td>7858558567428669000</td>\n",
       "      <td>7858558567428669000</td>\n",
       "      <td>7858558567428669000</td>\n",
       "      <td>6324037615828123965</td>\n",
       "      <td>2894495631302821483</td>\n",
       "    </tr>\n",
       "    <tr>\n",
       "      <th>device_language</th>\n",
       "      <td>4.07706e+17</td>\n",
       "      <td>4.07706e+17</td>\n",
       "      <td>4.07706e+17</td>\n",
       "      <td>4.07706e+17</td>\n",
       "      <td>3.30138e+18</td>\n",
       "    </tr>\n",
       "  </tbody>\n",
       "</table>\n",
       "</div>"
      ],
      "text/plain": [
       "                                             0                           1  \\\n",
       "date                2019-03-05 00:09:36.966000  2019-03-05 00:09:38.920000   \n",
       "event_id                                     0                           1   \n",
       "ref_type                   1891515180541284343         1891515180541284343   \n",
       "ref_hash                   2688759737656491380         2688759737656491380   \n",
       "application_id                              38                          38   \n",
       "attributed                               False                       False   \n",
       "device_os_version                   5.9087e+17                  5.9087e+17   \n",
       "device_brand                               NaN                         NaN   \n",
       "device_model                       5.99012e+18                 5.99012e+18   \n",
       "device_city                        3.25822e+18                 3.25822e+18   \n",
       "session_user_agent                 7.16432e+18                 7.16432e+18   \n",
       "trans_id                                   NaN                         NaN   \n",
       "user_agent                                 NaN                         NaN   \n",
       "carrier                            2.24816e+17                 2.24816e+17   \n",
       "kind                               5.51662e+18                 9.97766e+17   \n",
       "device_os                7.531669329342818e+18       7.531669329342818e+18   \n",
       "wifi                                     False                       False   \n",
       "connection_type                      Cable/DSL                   Cable/DSL   \n",
       "ip_address                 7858558567428669000         7858558567428669000   \n",
       "device_language                    4.07706e+17                 4.07706e+17   \n",
       "\n",
       "                                             2                           3  \\\n",
       "date                2019-03-05 00:09:26.195000  2019-03-05 00:09:31.107000   \n",
       "event_id                                     0                           2   \n",
       "ref_type                   1891515180541284343         1891515180541284343   \n",
       "ref_hash                   2688759737656491380         2688759737656491380   \n",
       "application_id                              38                          38   \n",
       "attributed                               False                       False   \n",
       "device_os_version                   5.9087e+17                  5.9087e+17   \n",
       "device_brand                               NaN                         NaN   \n",
       "device_model                       5.99012e+18                 5.99012e+18   \n",
       "device_city                        3.25822e+18                 2.55178e+18   \n",
       "session_user_agent                 7.16432e+18                 7.16432e+18   \n",
       "trans_id                                   NaN                         NaN   \n",
       "user_agent                                 NaN                         NaN   \n",
       "carrier                            2.24816e+17                 2.24816e+17   \n",
       "kind                               5.51662e+18                 8.56115e+18   \n",
       "device_os                7.531669329342818e+18       7.531669329342818e+18   \n",
       "wifi                                     False                       False   \n",
       "connection_type                      Cable/DSL                   Cable/DSL   \n",
       "ip_address                 7858558567428669000         6324037615828123965   \n",
       "device_language                    4.07706e+17                 4.07706e+17   \n",
       "\n",
       "                                             4  \n",
       "date                2019-03-09 21:00:36.585000  \n",
       "event_id                                     3  \n",
       "ref_type                   1891515180541284343  \n",
       "ref_hash                   2635154697734164782  \n",
       "application_id                              38  \n",
       "attributed                               False  \n",
       "device_os_version                  7.39184e+18  \n",
       "device_brand                               NaN  \n",
       "device_model                        5.9609e+18  \n",
       "device_city                        6.95933e+18  \n",
       "session_user_agent                 7.16432e+18  \n",
       "trans_id                                   NaN  \n",
       "user_agent                                 NaN  \n",
       "carrier                            2.24816e+17  \n",
       "kind                                8.7319e+17  \n",
       "device_os                7.531669329342818e+18  \n",
       "wifi                                     False  \n",
       "connection_type                      Cable/DSL  \n",
       "ip_address                 2894495631302821483  \n",
       "device_language                    3.30138e+18  "
      ]
     },
     "execution_count": 8,
     "metadata": {},
     "output_type": "execute_result"
    }
   ],
   "source": [
    "events.head().T"
   ]
  },
  {
   "cell_type": "code",
   "execution_count": 9,
   "metadata": {},
   "outputs": [
    {
     "data": {
      "text/plain": [
       "Index                       80\n",
       "date                  19955384\n",
       "event_id               4988846\n",
       "ref_type               2494655\n",
       "ref_hash              19955384\n",
       "application_id        19955384\n",
       "attributed             2494423\n",
       "device_os_version     19955384\n",
       "device_brand          19955384\n",
       "device_model          19955384\n",
       "device_city           19955384\n",
       "session_user_agent    19955384\n",
       "trans_id               2496310\n",
       "user_agent            19955384\n",
       "carrier               19955384\n",
       "kind                  19955384\n",
       "device_os              2494896\n",
       "wifi                   2494423\n",
       "connection_type        2494700\n",
       "ip_address            19955384\n",
       "device_language       19955384\n",
       "dtype: int64"
      ]
     },
     "execution_count": 9,
     "metadata": {},
     "output_type": "execute_result"
    }
   ],
   "source": [
    "events.memory_usage(deep=True)"
   ]
  },
  {
   "cell_type": "code",
   "execution_count": 10,
   "metadata": {},
   "outputs": [
    {
     "data": {
      "text/plain": [
       "date                  datetime64[ns]\n",
       "event_id                       int16\n",
       "ref_type                    category\n",
       "ref_hash                       int64\n",
       "application_id                 int64\n",
       "attributed                      bool\n",
       "device_os_version            float64\n",
       "device_brand                 float64\n",
       "device_model                 float64\n",
       "device_city                  float64\n",
       "session_user_agent           float64\n",
       "trans_id                    category\n",
       "user_agent                   float64\n",
       "carrier                      float64\n",
       "kind                         float64\n",
       "device_os                   category\n",
       "wifi                            bool\n",
       "connection_type             category\n",
       "ip_address                     int64\n",
       "device_language              float64\n",
       "dtype: object"
      ]
     },
     "execution_count": 10,
     "metadata": {},
     "output_type": "execute_result"
    }
   ],
   "source": [
    "events.dtypes"
   ]
  },
  {
   "cell_type": "code",
   "execution_count": 11,
   "metadata": {},
   "outputs": [
    {
     "data": {
      "text/plain": [
       "date                        0\n",
       "event_id                    0\n",
       "ref_type                    0\n",
       "ref_hash                    0\n",
       "application_id              0\n",
       "attributed                  0\n",
       "device_os_version     1472357\n",
       "device_brand          1329460\n",
       "device_model            87967\n",
       "device_city           1879725\n",
       "session_user_agent      11786\n",
       "trans_id              2494341\n",
       "user_agent            1102896\n",
       "carrier               1877989\n",
       "kind                     5099\n",
       "device_os             1836756\n",
       "wifi                        0\n",
       "connection_type       1881960\n",
       "ip_address                  0\n",
       "device_language         87819\n",
       "dtype: int64"
      ]
     },
     "execution_count": 11,
     "metadata": {},
     "output_type": "execute_result"
    }
   ],
   "source": [
    "events.isnull().sum()"
   ]
  },
  {
   "cell_type": "code",
   "execution_count": null,
   "metadata": {},
   "outputs": [],
   "source": [
    "events['event_id'].value_counts()"
   ]
  },
  {
   "cell_type": "code",
   "execution_count": null,
   "metadata": {},
   "outputs": [],
   "source": [
    "events['ref_hash'].value_counts()"
   ]
  },
  {
   "cell_type": "code",
   "execution_count": null,
   "metadata": {},
   "outputs": [],
   "source": [
    "events['application_id'].value_counts()"
   ]
  },
  {
   "cell_type": "code",
   "execution_count": null,
   "metadata": {},
   "outputs": [],
   "source": [
    "events['attributed'].value_counts()"
   ]
  },
  {
   "cell_type": "code",
   "execution_count": null,
   "metadata": {},
   "outputs": [],
   "source": [
    "events['device_os_version'].value_counts()"
   ]
  },
  {
   "cell_type": "code",
   "execution_count": null,
   "metadata": {},
   "outputs": [],
   "source": [
    "events['device_brand'].value_counts()"
   ]
  },
  {
   "cell_type": "code",
   "execution_count": null,
   "metadata": {},
   "outputs": [],
   "source": [
    "events['device_model'].value_counts()"
   ]
  },
  {
   "cell_type": "code",
   "execution_count": null,
   "metadata": {},
   "outputs": [],
   "source": [
    "events['device_city'].value_counts()"
   ]
  },
  {
   "cell_type": "code",
   "execution_count": null,
   "metadata": {},
   "outputs": [],
   "source": [
    "events['session_user_agent'].value_counts()"
   ]
  },
  {
   "cell_type": "code",
   "execution_count": null,
   "metadata": {},
   "outputs": [],
   "source": [
    "events['trans_id'].value_counts()"
   ]
  },
  {
   "cell_type": "code",
   "execution_count": null,
   "metadata": {},
   "outputs": [],
   "source": [
    "events['user_agent'].value_counts()"
   ]
  },
  {
   "cell_type": "code",
   "execution_count": null,
   "metadata": {},
   "outputs": [],
   "source": [
    "events['carrier'].value_counts()"
   ]
  },
  {
   "cell_type": "code",
   "execution_count": null,
   "metadata": {},
   "outputs": [],
   "source": [
    "events['kind'].value_counts()"
   ]
  },
  {
   "cell_type": "code",
   "execution_count": null,
   "metadata": {},
   "outputs": [],
   "source": [
    "events['device_os'].value_counts()"
   ]
  },
  {
   "cell_type": "code",
   "execution_count": null,
   "metadata": {},
   "outputs": [],
   "source": [
    "events['wifi'].value_counts()"
   ]
  },
  {
   "cell_type": "code",
   "execution_count": null,
   "metadata": {},
   "outputs": [],
   "source": [
    "events['connection_type'].value_counts()"
   ]
  },
  {
   "cell_type": "code",
   "execution_count": null,
   "metadata": {},
   "outputs": [],
   "source": [
    "events['device_language'].value_counts()"
   ]
  },
  {
   "cell_type": "code",
   "execution_count": 10,
   "metadata": {},
   "outputs": [
    {
     "data": {
      "text/html": [
       "<div>\n",
       "<style scoped>\n",
       "    .dataframe tbody tr th:only-of-type {\n",
       "        vertical-align: middle;\n",
       "    }\n",
       "\n",
       "    .dataframe tbody tr th {\n",
       "        vertical-align: top;\n",
       "    }\n",
       "\n",
       "    .dataframe thead th {\n",
       "        text-align: right;\n",
       "    }\n",
       "</style>\n",
       "<table border=\"1\" class=\"dataframe\">\n",
       "  <thead>\n",
       "    <tr style=\"text-align: right;\">\n",
       "      <th></th>\n",
       "      <th></th>\n",
       "      <th>date</th>\n",
       "      <th>event_id</th>\n",
       "      <th>ref_type</th>\n",
       "      <th>ref_hash</th>\n",
       "      <th>application_id</th>\n",
       "      <th>attributed</th>\n",
       "      <th>device_os_version</th>\n",
       "      <th>device_brand</th>\n",
       "      <th>device_model</th>\n",
       "      <th>device_city</th>\n",
       "      <th>session_user_agent</th>\n",
       "      <th>trans_id</th>\n",
       "      <th>user_agent</th>\n",
       "      <th>carrier</th>\n",
       "      <th>kind</th>\n",
       "      <th>device_os</th>\n",
       "      <th>ip_address</th>\n",
       "      <th>device_language</th>\n",
       "    </tr>\n",
       "    <tr>\n",
       "      <th>wifi</th>\n",
       "      <th>connection_type</th>\n",
       "      <th></th>\n",
       "      <th></th>\n",
       "      <th></th>\n",
       "      <th></th>\n",
       "      <th></th>\n",
       "      <th></th>\n",
       "      <th></th>\n",
       "      <th></th>\n",
       "      <th></th>\n",
       "      <th></th>\n",
       "      <th></th>\n",
       "      <th></th>\n",
       "      <th></th>\n",
       "      <th></th>\n",
       "      <th></th>\n",
       "      <th></th>\n",
       "      <th></th>\n",
       "      <th></th>\n",
       "    </tr>\n",
       "  </thead>\n",
       "  <tbody>\n",
       "    <tr>\n",
       "      <th rowspan=\"3\" valign=\"top\">False</th>\n",
       "      <th>Cable/DSL</th>\n",
       "      <td>331948.0</td>\n",
       "      <td>331948.0</td>\n",
       "      <td>331948.0</td>\n",
       "      <td>331948.0</td>\n",
       "      <td>331948.0</td>\n",
       "      <td>331948.0</td>\n",
       "      <td>331948.0</td>\n",
       "      <td>0.0</td>\n",
       "      <td>331948.0</td>\n",
       "      <td>330966.0</td>\n",
       "      <td>331409.0</td>\n",
       "      <td>0.0</td>\n",
       "      <td>0.0</td>\n",
       "      <td>331948.0</td>\n",
       "      <td>331409.0</td>\n",
       "      <td>331948.0</td>\n",
       "      <td>331948.0</td>\n",
       "      <td>331948.0</td>\n",
       "    </tr>\n",
       "    <tr>\n",
       "      <th>Cellular</th>\n",
       "      <td>280511.0</td>\n",
       "      <td>280511.0</td>\n",
       "      <td>280511.0</td>\n",
       "      <td>280511.0</td>\n",
       "      <td>280511.0</td>\n",
       "      <td>280511.0</td>\n",
       "      <td>280511.0</td>\n",
       "      <td>0.0</td>\n",
       "      <td>280511.0</td>\n",
       "      <td>280088.0</td>\n",
       "      <td>280351.0</td>\n",
       "      <td>0.0</td>\n",
       "      <td>0.0</td>\n",
       "      <td>280511.0</td>\n",
       "      <td>280351.0</td>\n",
       "      <td>280511.0</td>\n",
       "      <td>280511.0</td>\n",
       "      <td>280511.0</td>\n",
       "    </tr>\n",
       "    <tr>\n",
       "      <th>Corporate</th>\n",
       "      <td>4.0</td>\n",
       "      <td>4.0</td>\n",
       "      <td>4.0</td>\n",
       "      <td>4.0</td>\n",
       "      <td>4.0</td>\n",
       "      <td>4.0</td>\n",
       "      <td>4.0</td>\n",
       "      <td>0.0</td>\n",
       "      <td>4.0</td>\n",
       "      <td>0.0</td>\n",
       "      <td>4.0</td>\n",
       "      <td>0.0</td>\n",
       "      <td>0.0</td>\n",
       "      <td>4.0</td>\n",
       "      <td>4.0</td>\n",
       "      <td>4.0</td>\n",
       "      <td>4.0</td>\n",
       "      <td>4.0</td>\n",
       "    </tr>\n",
       "    <tr>\n",
       "      <th rowspan=\"3\" valign=\"top\">True</th>\n",
       "      <th>Cable/DSL</th>\n",
       "      <td>NaN</td>\n",
       "      <td>NaN</td>\n",
       "      <td>NaN</td>\n",
       "      <td>NaN</td>\n",
       "      <td>NaN</td>\n",
       "      <td>NaN</td>\n",
       "      <td>NaN</td>\n",
       "      <td>NaN</td>\n",
       "      <td>NaN</td>\n",
       "      <td>NaN</td>\n",
       "      <td>NaN</td>\n",
       "      <td>NaN</td>\n",
       "      <td>NaN</td>\n",
       "      <td>NaN</td>\n",
       "      <td>NaN</td>\n",
       "      <td>NaN</td>\n",
       "      <td>NaN</td>\n",
       "      <td>NaN</td>\n",
       "    </tr>\n",
       "    <tr>\n",
       "      <th>Cellular</th>\n",
       "      <td>NaN</td>\n",
       "      <td>NaN</td>\n",
       "      <td>NaN</td>\n",
       "      <td>NaN</td>\n",
       "      <td>NaN</td>\n",
       "      <td>NaN</td>\n",
       "      <td>NaN</td>\n",
       "      <td>NaN</td>\n",
       "      <td>NaN</td>\n",
       "      <td>NaN</td>\n",
       "      <td>NaN</td>\n",
       "      <td>NaN</td>\n",
       "      <td>NaN</td>\n",
       "      <td>NaN</td>\n",
       "      <td>NaN</td>\n",
       "      <td>NaN</td>\n",
       "      <td>NaN</td>\n",
       "      <td>NaN</td>\n",
       "    </tr>\n",
       "    <tr>\n",
       "      <th>Corporate</th>\n",
       "      <td>NaN</td>\n",
       "      <td>NaN</td>\n",
       "      <td>NaN</td>\n",
       "      <td>NaN</td>\n",
       "      <td>NaN</td>\n",
       "      <td>NaN</td>\n",
       "      <td>NaN</td>\n",
       "      <td>NaN</td>\n",
       "      <td>NaN</td>\n",
       "      <td>NaN</td>\n",
       "      <td>NaN</td>\n",
       "      <td>NaN</td>\n",
       "      <td>NaN</td>\n",
       "      <td>NaN</td>\n",
       "      <td>NaN</td>\n",
       "      <td>NaN</td>\n",
       "      <td>NaN</td>\n",
       "      <td>NaN</td>\n",
       "    </tr>\n",
       "  </tbody>\n",
       "</table>\n",
       "</div>"
      ],
      "text/plain": [
       "                           date  event_id  ref_type  ref_hash  application_id  \\\n",
       "wifi  connection_type                                                           \n",
       "False Cable/DSL        331948.0  331948.0  331948.0  331948.0        331948.0   \n",
       "      Cellular         280511.0  280511.0  280511.0  280511.0        280511.0   \n",
       "      Corporate             4.0       4.0       4.0       4.0             4.0   \n",
       "True  Cable/DSL             NaN       NaN       NaN       NaN             NaN   \n",
       "      Cellular              NaN       NaN       NaN       NaN             NaN   \n",
       "      Corporate             NaN       NaN       NaN       NaN             NaN   \n",
       "\n",
       "                       attributed  device_os_version  device_brand  \\\n",
       "wifi  connection_type                                                \n",
       "False Cable/DSL          331948.0           331948.0           0.0   \n",
       "      Cellular           280511.0           280511.0           0.0   \n",
       "      Corporate               4.0                4.0           0.0   \n",
       "True  Cable/DSL               NaN                NaN           NaN   \n",
       "      Cellular                NaN                NaN           NaN   \n",
       "      Corporate               NaN                NaN           NaN   \n",
       "\n",
       "                       device_model  device_city  session_user_agent  \\\n",
       "wifi  connection_type                                                  \n",
       "False Cable/DSL            331948.0     330966.0            331409.0   \n",
       "      Cellular             280511.0     280088.0            280351.0   \n",
       "      Corporate                 4.0          0.0                 4.0   \n",
       "True  Cable/DSL                 NaN          NaN                 NaN   \n",
       "      Cellular                  NaN          NaN                 NaN   \n",
       "      Corporate                 NaN          NaN                 NaN   \n",
       "\n",
       "                       trans_id  user_agent   carrier      kind  device_os  \\\n",
       "wifi  connection_type                                                        \n",
       "False Cable/DSL             0.0         0.0  331948.0  331409.0   331948.0   \n",
       "      Cellular              0.0         0.0  280511.0  280351.0   280511.0   \n",
       "      Corporate             0.0         0.0       4.0       4.0        4.0   \n",
       "True  Cable/DSL             NaN         NaN       NaN       NaN        NaN   \n",
       "      Cellular              NaN         NaN       NaN       NaN        NaN   \n",
       "      Corporate             NaN         NaN       NaN       NaN        NaN   \n",
       "\n",
       "                       ip_address  device_language  \n",
       "wifi  connection_type                               \n",
       "False Cable/DSL          331948.0         331948.0  \n",
       "      Cellular           280511.0         280511.0  \n",
       "      Corporate               4.0              4.0  \n",
       "True  Cable/DSL               NaN              NaN  \n",
       "      Cellular                NaN              NaN  \n",
       "      Corporate               NaN              NaN  "
      ]
     },
     "execution_count": 10,
     "metadata": {},
     "output_type": "execute_result"
    }
   ],
   "source": [
    "events.groupby(['wifi', 'connection_type']).agg('count')"
   ]
  },
  {
   "cell_type": "code",
   "execution_count": null,
   "metadata": {},
   "outputs": [],
   "source": [
    "events_city_app = (events.loc[:,['device_city', 'application_id']])\n",
    "\n",
    "graph_citty_app_events = sns.countplot (x=events_city_app['device_city'], data = events_city_app, hue = events_city_app['application_id'])\n",
    "\n",
    "#events_city_app.insert(loc = 2, column = 'cant', value = 1)\n",
    "#events_city_app = events_city_app.groupby(['device_city', 'application_id']).agg('sum')\n",
    "#events_city_app = events_city_app['cant'].nlargest(25)\n",
    "#graph_citty_app_events = events_city_app.unstack(1).plot.bar(figsize = (20,10))\n",
    "\n",
    "graph_citty_app_events.set_title(\"Los 25 mayores eventos realizados por tipo de aplicacion por ciudad\")\n",
    "graph_citty_app_events.set_ylabel(\"cantidad de eventos\")\n",
    "graph_citty_app_events.set_xlabel(\"Id de aplicación en cada ciudad\")"
   ]
  },
  {
   "cell_type": "code",
   "execution_count": null,
   "metadata": {},
   "outputs": [],
   "source": [
    "events_ref_type_attributed = events.loc[:,['wifi', 'attributed', 'event_id']]\n",
    "events_ref_type_attributed = events_ref_type_attributed.groupby(['wifi', 'attributed']).agg('count')\n",
    "events_ref_type_attributed = events_ref_type_attributed.unstack(1)\n",
    "events_ref_type_attributed.plot.bar(figsize = (10,20))"
   ]
  },
  {
   "cell_type": "code",
   "execution_count": null,
   "metadata": {},
   "outputs": [],
   "source": [
    "events_atributed_ref_type = events.loc[events['attributed'] == True, ['ref_type']]\n",
    "\n",
    "graph_attributed_events = sns.countplot(x = events_atributed_ref_type['ref_type'], data = events_atributed_ref_type)\n",
    "\n",
    "graph_attributed_events.set_title(\"Eventos atribuidos a Jampp de Google y Apple\")\n",
    "graph_attributed_events.set_ylabel(\"cantidad de eventos\")\n",
    "graph_attributed_events.set_xlabel(\"Tipo de publicidad\")"
   ]
  },
  {
   "cell_type": "code",
   "execution_count": 20,
   "metadata": {},
   "outputs": [
    {
     "data": {
      "text/plain": [
       "Wednesday    569772\n",
       "Tuesday      537214\n",
       "Sunday       293091\n",
       "Saturday     286221\n",
       "Friday       285535\n",
       "Monday       268884\n",
       "Thursday     253706\n",
       "Name: weekday, dtype: int64"
      ]
     },
     "execution_count": 20,
     "metadata": {},
     "output_type": "execute_result"
    }
   ],
   "source": [
    "events['weekday'] = events['date'].dt.weekday\n",
    "weekdays = {0:'Monday', 1:'Tuesday', 2:'Wednesday', 3:'Thursday', 4:'Friday', 5:'Saturday', 6:'Sunday'}\n",
    "events['weekday'].replace(weekdays, inplace = True)\n",
    "events['weekday'].value_counts()"
   ]
  },
  {
   "cell_type": "code",
   "execution_count": 25,
   "metadata": {},
   "outputs": [
    {
     "data": {
      "text/plain": [
       "0     181072\n",
       "23    175714\n",
       "1     159288\n",
       "22    154274\n",
       "21    142695\n",
       "16    140399\n",
       "17    135168\n",
       "15    134192\n",
       "2     133891\n",
       "20    133759\n",
       "18    127056\n",
       "19    126855\n",
       "3     102469\n",
       "14    101452\n",
       "13     89836\n",
       "12     86290\n",
       "11     82888\n",
       "4      69027\n",
       "10     58244\n",
       "5      46961\n",
       "9      32899\n",
       "6      32295\n",
       "8      24076\n",
       "7      23623\n",
       "Name: hour, dtype: int64"
      ]
     },
     "execution_count": 25,
     "metadata": {},
     "output_type": "execute_result"
    }
   ],
   "source": [
    "events['hour'] = events['date'].dt.hour\n",
    "events['hour'].value_counts()\n"
   ]
  },
  {
   "cell_type": "code",
   "execution_count": 121,
   "metadata": {},
   "outputs": [
    {
     "data": {
      "text/plain": [
       "Text(0.5, 0, 'Hora')"
      ]
     },
     "execution_count": 121,
     "metadata": {},
     "output_type": "execute_result"
    },
    {
     "data": {
      "image/png": "[encoded data removed]",
      "text/plain": [
       "<Figure size 432x288 with 1 Axes>"
      ]
     },
     "metadata": {
      "needs_background": "light"
     },
     "output_type": "display_data"
    }
   ],
   "source": [
    "event_for_hour = events.loc[:,['hour', 'event_id']]\n",
    "graph = sns.distplot (event_for_hour['hour'], kde=False, rug=False, label =\"Cantidad de eventos por hora\")\n",
    "\n",
    "graph.set_title(\"Cantidad de eventos por hora\")\n",
    "graph.set_ylabel(\"Cantidad de eventos\")\n",
    "graph.set_xlabel(\"Hora\")\n",
    "\n"
   ]
  },
  {
   "cell_type": "code",
   "execution_count": 28,
   "metadata": {},
   "outputs": [
    {
     "ename": "NameError",
     "evalue": "name 'pl' is not defined",
     "output_type": "error",
     "traceback": [
      "\u001b[1;31m---------------------------------------------------------------------------\u001b[0m",
      "\u001b[1;31mNameError\u001b[0m                                 Traceback (most recent call last)",
      "\u001b[1;32m<ipython-input-28-24056845c3f0>\u001b[0m in \u001b[0;36m<module>\u001b[1;34m\u001b[0m\n\u001b[1;32m----> 1\u001b[1;33m \u001b[0mpl\u001b[0m\u001b[1;33m.\u001b[0m\u001b[0msubplot\u001b[0m\u001b[1;33m(\u001b[0m\u001b[1;36m2\u001b[0m\u001b[1;33m,\u001b[0m \u001b[1;36m2\u001b[0m\u001b[1;33m,\u001b[0m \u001b[1;36m1\u001b[0m\u001b[1;33m)\u001b[0m\u001b[1;33m\u001b[0m\u001b[1;33m\u001b[0m\u001b[0m\n\u001b[0m\u001b[0;32m      2\u001b[0m \u001b[0mpl\u001b[0m\u001b[1;33m.\u001b[0m\u001b[0msubplot\u001b[0m\u001b[1;33m(\u001b[0m\u001b[1;36m2\u001b[0m\u001b[1;33m,\u001b[0m \u001b[1;36m2\u001b[0m\u001b[1;33m,\u001b[0m \u001b[1;36m3\u001b[0m\u001b[1;33m)\u001b[0m\u001b[1;33m\u001b[0m\u001b[1;33m\u001b[0m\u001b[0m\n",
      "\u001b[1;31mNameError\u001b[0m: name 'pl' is not defined"
     ]
    }
   ],
   "source": [
    "pl.subplot(2, 2, 1)\n",
    "pl.subplot(2, 2, 3)"
   ]
  }
 ],
 "metadata": {
  "kernelspec": {
   "display_name": "Python 3",
   "language": "python",
   "name": "python3"
  },
  "language_info": {
   "codemirror_mode": {
    "name": "ipython",
    "version": 3
   },
   "file_extension": ".py",
   "mimetype": "text/x-python",
   "name": "python",
   "nbconvert_exporter": "python",
   "pygments_lexer": "ipython3",
   "version": "3.7.3"
  }
 },
 "nbformat": 4,
 "nbformat_minor": 2
}
