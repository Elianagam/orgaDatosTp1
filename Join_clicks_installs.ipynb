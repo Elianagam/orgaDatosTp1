{
 "cells": [
  {
   "cell_type": "code",
   "execution_count": 40,
   "metadata": {},
   "outputs": [],
   "source": [
    "import pandas as pd\n",
    "import numpy as np\n",
    "import matplotlib.pyplot as plt\n",
    "import seaborn as sns\n",
    "%matplotlib inline\n",
    "from pandas import DataFrame\n",
    "from itertools import cycle, islice\n",
    "from matplotlib.colors import ListedColormap"
   ]
  },
  {
   "cell_type": "code",
   "execution_count": 41,
   "metadata": {},
   "outputs": [],
   "source": [
    "dtypes_dict = {'advertiser_id':'category', 'action_id': np.float64, 'source_id': np.int8, \\\n",
    "                'country_code': np.int64, 'latitude': np.float64, 'longitude': np.float64, 'wifi_connection': bool, \\\n",
    "                'carrier_id': np.float16, 'os_minor': np.float32, 'os_major': np.float32, 'agent_device': np.float64, \\\n",
    "                'specs_brand': 'category', 'brand': np.float16, 'timeToClick': np.float64, 'touchX': np.float16, \\\n",
    "                'touchY': np.float16, 'ref_type': 'category', 'ref_hash': np.int64}\n",
    "\n",
    "clicks = pd.read_csv('data/train_clicks.csv.gzip', dtype=dtypes_dict)\n",
    "\n",
    "dtypes_dict = {'created':'str', 'application_id': 'category', 'ref_type': 'category', 'device_brand': np.float32, \\\n",
    "                'device_countrycode': 'category', 'device_languaje': 'category'}\n",
    "\n",
    "installs = pd.read_csv('data/train_installs.csv.gzip', dtype=dtypes_dict)\n",
    "installs.drop('click_hash', axis=1, inplace=True) # Elimino esta columna por tener todos Nan\n",
    "#installs.drop('trans_id', axis=1, inplace=True) #solo 6 columnas con datos y no son revelantes\n",
    "#installs['created'] = pd.to_datetime(installs['created'], format='%Y-%m-%d %H:%M:%S')"
   ]
  },
  {
   "cell_type": "code",
   "execution_count": 4,
   "metadata": {},
   "outputs": [
    {
     "data": {
      "text/html": [
       "<div>\n",
       "<style scoped>\n",
       "    .dataframe tbody tr th:only-of-type {\n",
       "        vertical-align: middle;\n",
       "    }\n",
       "\n",
       "    .dataframe tbody tr th {\n",
       "        vertical-align: top;\n",
       "    }\n",
       "\n",
       "    .dataframe thead th {\n",
       "        text-align: right;\n",
       "    }\n",
       "</style>\n",
       "<table border=\"1\" class=\"dataframe\">\n",
       "  <thead>\n",
       "    <tr style=\"text-align: right;\">\n",
       "      <th></th>\n",
       "      <th>advertiser_id</th>\n",
       "      <th>action_id</th>\n",
       "      <th>source_id</th>\n",
       "      <th>created</th>\n",
       "      <th>country_code</th>\n",
       "      <th>latitude</th>\n",
       "      <th>longitude</th>\n",
       "      <th>wifi_connection</th>\n",
       "      <th>carrier_id</th>\n",
       "      <th>trans_id_x</th>\n",
       "      <th>...</th>\n",
       "      <th>device_brand</th>\n",
       "      <th>device_model</th>\n",
       "      <th>session_user_agent</th>\n",
       "      <th>user_agent</th>\n",
       "      <th>event_uuid</th>\n",
       "      <th>kind</th>\n",
       "      <th>wifi</th>\n",
       "      <th>trans_id_y</th>\n",
       "      <th>ip_address</th>\n",
       "      <th>device_language</th>\n",
       "    </tr>\n",
       "  </thead>\n",
       "  <tbody>\n",
       "  </tbody>\n",
       "</table>\n",
       "<p>0 rows × 36 columns</p>\n",
       "</div>"
      ],
      "text/plain": [
       "Empty DataFrame\n",
       "Columns: [advertiser_id, action_id, source_id, created, country_code, latitude, longitude, wifi_connection, carrier_id, trans_id_x, os_minor, agent_device, os_major, specs_brand, brand, timeToClick, touchX, touchY, ref_type_x, ref_hash_x, application_id, ref_type_y, ref_hash_y, attributed, implicit, device_countrycode, device_brand, device_model, session_user_agent, user_agent, event_uuid, kind, wifi, trans_id_y, ip_address, device_language]\n",
       "Index: []\n",
       "\n",
       "[0 rows x 36 columns]"
      ]
     },
     "execution_count": 4,
     "metadata": {},
     "output_type": "execute_result"
    }
   ],
   "source": [
    "pd.merge(clicks, installs, on='created', how='inner')"
   ]
  },
  {
   "cell_type": "code",
   "execution_count": 26,
   "metadata": {},
   "outputs": [
    {
     "data": {
      "text/html": [
       "<div>\n",
       "<style scoped>\n",
       "    .dataframe tbody tr th:only-of-type {\n",
       "        vertical-align: middle;\n",
       "    }\n",
       "\n",
       "    .dataframe tbody tr th {\n",
       "        vertical-align: top;\n",
       "    }\n",
       "\n",
       "    .dataframe thead th {\n",
       "        text-align: right;\n",
       "    }\n",
       "</style>\n",
       "<table border=\"1\" class=\"dataframe\">\n",
       "  <thead>\n",
       "    <tr style=\"text-align: right;\">\n",
       "      <th></th>\n",
       "      <th>advertiser_id</th>\n",
       "      <th>action_id</th>\n",
       "      <th>source_id</th>\n",
       "      <th>created_x</th>\n",
       "      <th>country_code</th>\n",
       "      <th>latitude</th>\n",
       "      <th>longitude</th>\n",
       "      <th>wifi_connection</th>\n",
       "      <th>carrier_id</th>\n",
       "      <th>trans_id</th>\n",
       "      <th>...</th>\n",
       "      <th>device_countrycode</th>\n",
       "      <th>device_brand</th>\n",
       "      <th>device_model</th>\n",
       "      <th>session_user_agent</th>\n",
       "      <th>user_agent</th>\n",
       "      <th>event_uuid</th>\n",
       "      <th>kind</th>\n",
       "      <th>wifi</th>\n",
       "      <th>ip_address</th>\n",
       "      <th>device_language</th>\n",
       "    </tr>\n",
       "  </thead>\n",
       "  <tbody>\n",
       "  </tbody>\n",
       "</table>\n",
       "<p>0 rows × 36 columns</p>\n",
       "</div>"
      ],
      "text/plain": [
       "Empty DataFrame\n",
       "Columns: [advertiser_id, action_id, source_id, created_x, country_code, latitude, longitude, wifi_connection, carrier_id, trans_id, os_minor, agent_device, os_major, specs_brand, brand, timeToClick, touchX, touchY, ref_type_x, ref_hash_x, created_y, application_id, ref_type_y, ref_hash_y, attributed, implicit, device_countrycode, device_brand, device_model, session_user_agent, user_agent, event_uuid, kind, wifi, ip_address, device_language]\n",
       "Index: []\n",
       "\n",
       "[0 rows x 36 columns]"
      ]
     },
     "execution_count": 26,
     "metadata": {},
     "output_type": "execute_result"
    }
   ],
   "source": [
    "pd.merge(clicks, installs, on='trans_id', how='inner')"
   ]
  },
  {
   "cell_type": "code",
   "execution_count": 42,
   "metadata": {
    "scrolled": true
   },
   "outputs": [
    {
     "data": {
      "text/html": [
       "<div>\n",
       "<style scoped>\n",
       "    .dataframe tbody tr th:only-of-type {\n",
       "        vertical-align: middle;\n",
       "    }\n",
       "\n",
       "    .dataframe tbody tr th {\n",
       "        vertical-align: top;\n",
       "    }\n",
       "\n",
       "    .dataframe thead th {\n",
       "        text-align: right;\n",
       "    }\n",
       "</style>\n",
       "<table border=\"1\" class=\"dataframe\">\n",
       "  <thead>\n",
       "    <tr style=\"text-align: right;\">\n",
       "      <th></th>\n",
       "      <th>advertiser_id</th>\n",
       "      <th>action_id</th>\n",
       "      <th>source_id</th>\n",
       "      <th>created_x</th>\n",
       "      <th>country_code</th>\n",
       "      <th>latitude</th>\n",
       "      <th>longitude</th>\n",
       "      <th>wifi_connection</th>\n",
       "      <th>carrier_id</th>\n",
       "      <th>trans_id_x</th>\n",
       "      <th>...</th>\n",
       "      <th>device_brand</th>\n",
       "      <th>device_model</th>\n",
       "      <th>session_user_agent</th>\n",
       "      <th>user_agent</th>\n",
       "      <th>event_uuid</th>\n",
       "      <th>kind</th>\n",
       "      <th>wifi</th>\n",
       "      <th>trans_id_y</th>\n",
       "      <th>ip_address</th>\n",
       "      <th>device_language</th>\n",
       "    </tr>\n",
       "  </thead>\n",
       "  <tbody>\n",
       "    <tr>\n",
       "      <th>0</th>\n",
       "      <td>3</td>\n",
       "      <td>NaN</td>\n",
       "      <td>0</td>\n",
       "      <td>2019-03-09T01:05:04.020Z</td>\n",
       "      <td>6333597102633388268</td>\n",
       "      <td>1.205689</td>\n",
       "      <td>1.070234</td>\n",
       "      <td>False</td>\n",
       "      <td>12.0</td>\n",
       "      <td>JuPIceEiBa-Z7nAmhCDmuszkzDqFdrA</td>\n",
       "      <td>...</td>\n",
       "      <td>NaN</td>\n",
       "      <td>6.882415e+18</td>\n",
       "      <td>adjust.com</td>\n",
       "      <td>NaN</td>\n",
       "      <td>NaN</td>\n",
       "      <td>NaN</td>\n",
       "      <td>NaN</td>\n",
       "      <td>NaN</td>\n",
       "      <td>2700825596283553676</td>\n",
       "      <td>3.301378e+18</td>\n",
       "    </tr>\n",
       "    <tr>\n",
       "      <th>1</th>\n",
       "      <td>3</td>\n",
       "      <td>NaN</td>\n",
       "      <td>0</td>\n",
       "      <td>2019-03-11T13:16:59.223Z</td>\n",
       "      <td>6333597102633388268</td>\n",
       "      <td>1.205689</td>\n",
       "      <td>1.070234</td>\n",
       "      <td>False</td>\n",
       "      <td>4.0</td>\n",
       "      <td>_Ulg5L_2n9uhQTTilN2rY4CMEic1juc</td>\n",
       "      <td>...</td>\n",
       "      <td>NaN</td>\n",
       "      <td>6.882415e+18</td>\n",
       "      <td>adjust.com</td>\n",
       "      <td>NaN</td>\n",
       "      <td>NaN</td>\n",
       "      <td>NaN</td>\n",
       "      <td>NaN</td>\n",
       "      <td>NaN</td>\n",
       "      <td>4175259317777181190</td>\n",
       "      <td>3.301378e+18</td>\n",
       "    </tr>\n",
       "    <tr>\n",
       "      <th>2</th>\n",
       "      <td>3</td>\n",
       "      <td>NaN</td>\n",
       "      <td>0</td>\n",
       "      <td>2019-03-12T02:14:06.129Z</td>\n",
       "      <td>6333597102633388268</td>\n",
       "      <td>1.205689</td>\n",
       "      <td>1.070234</td>\n",
       "      <td>False</td>\n",
       "      <td>4.0</td>\n",
       "      <td>dQJ6-J13KLFI71XtFa2XEi3DHMZooB4</td>\n",
       "      <td>...</td>\n",
       "      <td>NaN</td>\n",
       "      <td>6.882415e+18</td>\n",
       "      <td>adjust.com</td>\n",
       "      <td>NaN</td>\n",
       "      <td>NaN</td>\n",
       "      <td>NaN</td>\n",
       "      <td>NaN</td>\n",
       "      <td>NaN</td>\n",
       "      <td>4175259317777181190</td>\n",
       "      <td>3.301378e+18</td>\n",
       "    </tr>\n",
       "    <tr>\n",
       "      <th>3</th>\n",
       "      <td>3</td>\n",
       "      <td>NaN</td>\n",
       "      <td>0</td>\n",
       "      <td>2019-03-11T13:59:56.718Z</td>\n",
       "      <td>6333597102633388268</td>\n",
       "      <td>1.205689</td>\n",
       "      <td>1.070234</td>\n",
       "      <td>False</td>\n",
       "      <td>3.0</td>\n",
       "      <td>mQJ5Le4WZlIqCK_DPT0SwGY0Q-jfZWY</td>\n",
       "      <td>...</td>\n",
       "      <td>NaN</td>\n",
       "      <td>1.990627e+18</td>\n",
       "      <td>adjust.com</td>\n",
       "      <td>NaN</td>\n",
       "      <td>NaN</td>\n",
       "      <td>NaN</td>\n",
       "      <td>NaN</td>\n",
       "      <td>NaN</td>\n",
       "      <td>3934343467960245099</td>\n",
       "      <td>3.301378e+18</td>\n",
       "    </tr>\n",
       "    <tr>\n",
       "      <th>4</th>\n",
       "      <td>3</td>\n",
       "      <td>NaN</td>\n",
       "      <td>1</td>\n",
       "      <td>2019-03-10T10:29:19.742Z</td>\n",
       "      <td>6333597102633388268</td>\n",
       "      <td>1.205689</td>\n",
       "      <td>1.070234</td>\n",
       "      <td>False</td>\n",
       "      <td>10.0</td>\n",
       "      <td>_wsKmSaUcdl3PqHeSEGXz4cSW9K0ltY</td>\n",
       "      <td>...</td>\n",
       "      <td>NaN</td>\n",
       "      <td>6.882415e+18</td>\n",
       "      <td>adjust.com</td>\n",
       "      <td>NaN</td>\n",
       "      <td>NaN</td>\n",
       "      <td>NaN</td>\n",
       "      <td>NaN</td>\n",
       "      <td>NaN</td>\n",
       "      <td>8945813689569211960</td>\n",
       "      <td>3.301378e+18</td>\n",
       "    </tr>\n",
       "  </tbody>\n",
       "</table>\n",
       "<p>5 rows × 36 columns</p>\n",
       "</div>"
      ],
      "text/plain": [
       "  advertiser_id  action_id  source_id                 created_x  \\\n",
       "0             3        NaN          0  2019-03-09T01:05:04.020Z   \n",
       "1             3        NaN          0  2019-03-11T13:16:59.223Z   \n",
       "2             3        NaN          0  2019-03-12T02:14:06.129Z   \n",
       "3             3        NaN          0  2019-03-11T13:59:56.718Z   \n",
       "4             3        NaN          1  2019-03-10T10:29:19.742Z   \n",
       "\n",
       "          country_code  latitude  longitude  wifi_connection  carrier_id  \\\n",
       "0  6333597102633388268  1.205689   1.070234            False        12.0   \n",
       "1  6333597102633388268  1.205689   1.070234            False         4.0   \n",
       "2  6333597102633388268  1.205689   1.070234            False         4.0   \n",
       "3  6333597102633388268  1.205689   1.070234            False         3.0   \n",
       "4  6333597102633388268  1.205689   1.070234            False        10.0   \n",
       "\n",
       "                        trans_id_x  ...  device_brand  device_model  \\\n",
       "0  JuPIceEiBa-Z7nAmhCDmuszkzDqFdrA  ...           NaN  6.882415e+18   \n",
       "1  _Ulg5L_2n9uhQTTilN2rY4CMEic1juc  ...           NaN  6.882415e+18   \n",
       "2  dQJ6-J13KLFI71XtFa2XEi3DHMZooB4  ...           NaN  6.882415e+18   \n",
       "3  mQJ5Le4WZlIqCK_DPT0SwGY0Q-jfZWY  ...           NaN  1.990627e+18   \n",
       "4  _wsKmSaUcdl3PqHeSEGXz4cSW9K0ltY  ...           NaN  6.882415e+18   \n",
       "\n",
       "   session_user_agent user_agent  event_uuid  kind  wifi  trans_id_y  \\\n",
       "0          adjust.com        NaN         NaN   NaN   NaN         NaN   \n",
       "1          adjust.com        NaN         NaN   NaN   NaN         NaN   \n",
       "2          adjust.com        NaN         NaN   NaN   NaN         NaN   \n",
       "3          adjust.com        NaN         NaN   NaN   NaN         NaN   \n",
       "4          adjust.com        NaN         NaN   NaN   NaN         NaN   \n",
       "\n",
       "            ip_address  device_language  \n",
       "0  2700825596283553676     3.301378e+18  \n",
       "1  4175259317777181190     3.301378e+18  \n",
       "2  4175259317777181190     3.301378e+18  \n",
       "3  3934343467960245099     3.301378e+18  \n",
       "4  8945813689569211960     3.301378e+18  \n",
       "\n",
       "[5 rows x 36 columns]"
      ]
     },
     "execution_count": 42,
     "metadata": {},
     "output_type": "execute_result"
    }
   ],
   "source": [
    "g=pd.merge(clicks, installs, on='ref_hash', how='inner')\n",
    "g.head()"
   ]
  },
  {
   "cell_type": "code",
   "execution_count": 43,
   "metadata": {},
   "outputs": [
    {
     "data": {
      "text/plain": [
       "advertiser_id          0\n",
       "action_id             11\n",
       "source_id              0\n",
       "created_x              0\n",
       "country_code           0\n",
       "latitude               0\n",
       "longitude              0\n",
       "wifi_connection        0\n",
       "carrier_id             0\n",
       "trans_id_x             0\n",
       "os_minor               0\n",
       "agent_device           5\n",
       "os_major               0\n",
       "specs_brand            0\n",
       "brand                 11\n",
       "timeToClick            2\n",
       "touchX                 2\n",
       "touchY                 2\n",
       "ref_type_x             0\n",
       "ref_hash               0\n",
       "created_y              0\n",
       "application_id         0\n",
       "ref_type_y             0\n",
       "attributed             0\n",
       "implicit               0\n",
       "device_countrycode     0\n",
       "device_brand          11\n",
       "device_model           0\n",
       "session_user_agent     0\n",
       "user_agent            11\n",
       "event_uuid            10\n",
       "kind                  10\n",
       "wifi                  11\n",
       "trans_id_y            11\n",
       "ip_address             0\n",
       "device_language        0\n",
       "dtype: int64"
      ]
     },
     "execution_count": 43,
     "metadata": {},
     "output_type": "execute_result"
    }
   ],
   "source": [
    "g.isnull().sum()"
   ]
  },
  {
   "cell_type": "code",
   "execution_count": 44,
   "metadata": {},
   "outputs": [
    {
     "data": {
      "text/plain": [
       "11"
      ]
     },
     "execution_count": 44,
     "metadata": {},
     "output_type": "execute_result"
    }
   ],
   "source": [
    "#Sólo 11 dispositivos clickearon e instalaron\n",
    "len(g)"
   ]
  },
  {
   "cell_type": "code",
   "execution_count": 3,
   "metadata": {},
   "outputs": [],
   "source": [
    "#pd.merge(clicks, installs, left_on='wifi_connection', right_on='wifi', how='inner').T"
   ]
  },
  {
   "cell_type": "code",
   "execution_count": 4,
   "metadata": {},
   "outputs": [
    {
     "data": {
      "text/html": [
       "<div>\n",
       "<style scoped>\n",
       "    .dataframe tbody tr th:only-of-type {\n",
       "        vertical-align: middle;\n",
       "    }\n",
       "\n",
       "    .dataframe tbody tr th {\n",
       "        vertical-align: top;\n",
       "    }\n",
       "\n",
       "    .dataframe thead th {\n",
       "        text-align: right;\n",
       "    }\n",
       "</style>\n",
       "<table border=\"1\" class=\"dataframe\">\n",
       "  <thead>\n",
       "    <tr style=\"text-align: right;\">\n",
       "      <th></th>\n",
       "      <th>advertiser_id</th>\n",
       "      <th>action_id</th>\n",
       "      <th>source_id</th>\n",
       "      <th>created_x</th>\n",
       "      <th>country_code</th>\n",
       "      <th>latitude</th>\n",
       "      <th>longitude</th>\n",
       "      <th>wifi_connection</th>\n",
       "      <th>carrier_id</th>\n",
       "      <th>trans_id_x</th>\n",
       "      <th>...</th>\n",
       "      <th>device_brand</th>\n",
       "      <th>device_model</th>\n",
       "      <th>session_user_agent</th>\n",
       "      <th>user_agent</th>\n",
       "      <th>event_uuid</th>\n",
       "      <th>kind</th>\n",
       "      <th>wifi</th>\n",
       "      <th>trans_id_y</th>\n",
       "      <th>ip_address</th>\n",
       "      <th>device_language</th>\n",
       "    </tr>\n",
       "  </thead>\n",
       "  <tbody>\n",
       "  </tbody>\n",
       "</table>\n",
       "<p>0 rows × 37 columns</p>\n",
       "</div>"
      ],
      "text/plain": [
       "Empty DataFrame\n",
       "Columns: [advertiser_id, action_id, source_id, created_x, country_code, latitude, longitude, wifi_connection, carrier_id, trans_id_x, os_minor, agent_device, os_major, specs_brand, brand, timeToClick, touchX, touchY, ref_type_x, ref_hash_x, created_y, application_id, ref_type_y, ref_hash_y, attributed, implicit, device_countrycode, device_brand, device_model, session_user_agent, user_agent, event_uuid, kind, wifi, trans_id_y, ip_address, device_language]\n",
       "Index: []\n",
       "\n",
       "[0 rows x 37 columns]"
      ]
     },
     "execution_count": 4,
     "metadata": {},
     "output_type": "execute_result"
    }
   ],
   "source": [
    "pd.merge(clicks, installs, left_on='country_code', right_on='device_countrycode', how='inner')"
   ]
  },
  {
   "cell_type": "code",
   "execution_count": 1,
   "metadata": {},
   "outputs": [],
   "source": [
    "#pd.merge(clicks, installs, left_on='brand', right_on='device_brand', how='inner')"
   ]
  },
  {
   "cell_type": "code",
   "execution_count": 45,
   "metadata": {},
   "outputs": [],
   "source": [
    "g['created_x'] = pd.to_datetime(g['created_x'], format='%Y-%m-%d %H:%M:%S')\n",
    "g['created_y'] = pd.to_datetime(g['created_y'], format='%Y-%m-%d %H:%M:%S')"
   ]
  },
  {
   "cell_type": "code",
   "execution_count": 60,
   "metadata": {},
   "outputs": [
    {
     "data": {
      "text/plain": [
       "0    2019-03-06 10:27:43.604\n",
       "1    2019-03-08 14:10:39.335\n",
       "2    2019-03-08 14:10:39.335\n",
       "3    2019-03-06 03:30:01.796\n",
       "4    2019-03-10 08:30:15.346\n",
       "5    2019-03-08 00:30:02.714\n",
       "6    2019-03-11 09:38:31.388\n",
       "7    2019-03-06 21:33:40.647\n",
       "8    2019-03-06 21:33:40.647\n",
       "9    2019-03-06 21:33:40.647\n",
       "10   2019-03-06 21:33:40.647\n",
       "Name: created_y, dtype: datetime64[ns]"
      ]
     },
     "execution_count": 60,
     "metadata": {},
     "output_type": "execute_result"
    }
   ],
   "source": [
    "g['created_y']"
   ]
  },
  {
   "cell_type": "code",
   "execution_count": 46,
   "metadata": {},
   "outputs": [
    {
     "data": {
      "text/plain": [
       "0    2019-03-09 01:05:04.020000+00:00\n",
       "1    2019-03-11 13:16:59.223000+00:00\n",
       "2    2019-03-12 02:14:06.129000+00:00\n",
       "3    2019-03-11 13:59:56.718000+00:00\n",
       "4    2019-03-10 10:29:19.742000+00:00\n",
       "5    2019-03-10 11:39:33.727000+00:00\n",
       "6    2019-03-13 02:30:21.888000+00:00\n",
       "7    2019-03-13 19:44:45.440000+00:00\n",
       "8    2019-03-13 15:46:16.686000+00:00\n",
       "9    2019-03-13 00:20:51.518000+00:00\n",
       "10   2019-03-13 00:24:42.253000+00:00\n",
       "Name: created_x, dtype: datetime64[ns, UTC]"
      ]
     },
     "execution_count": 46,
     "metadata": {},
     "output_type": "execute_result"
    }
   ],
   "source": [
    "g['created_x']"
   ]
  },
  {
   "cell_type": "code",
   "execution_count": 87,
   "metadata": {},
   "outputs": [
    {
     "data": {
      "text/plain": [
       "4   2019-03-10 08:30:15.346\n",
       "6   2019-03-11 09:38:31.388\n",
       "Name: created_y, dtype: datetime64[ns]"
      ]
     },
     "execution_count": 87,
     "metadata": {},
     "output_type": "execute_result"
    }
   ],
   "source": [
    "y=g['created_y'].iloc[pd.DatetimeIndex(g['created_y']).day.isin({9, 10, 11, 12, 13})]\n",
    "y"
   ]
  },
  {
   "cell_type": "code",
   "execution_count": 88,
   "metadata": {},
   "outputs": [
    {
     "data": {
      "text/plain": [
       "1   2019-03-11 13:16:59.223000+00:00\n",
       "3   2019-03-11 13:59:56.718000+00:00\n",
       "4   2019-03-10 10:29:19.742000+00:00\n",
       "5   2019-03-10 11:39:33.727000+00:00\n",
       "Name: created_x, dtype: datetime64[ns, UTC]"
      ]
     },
     "execution_count": 88,
     "metadata": {},
     "output_type": "execute_result"
    }
   ],
   "source": [
    "#vemos que las horas en las que se realizaron los clicks son posteriores a las de la instalación, por lo cual esto\n",
    "#nos indica que no se realizaron clicks que terminaron en instalación por parte de un mismo dispositivo\n",
    "x=g['created_x'].iloc[pd.DatetimeIndex(g['created_x']).day.isin({10, 11})]\n",
    "x"
   ]
  }
 ],
 "metadata": {
  "kernelspec": {
   "display_name": "Python 3",
   "language": "python",
   "name": "python3"
  },
  "language_info": {
   "codemirror_mode": {
    "name": "ipython",
    "version": 3
   },
   "file_extension": ".py",
   "mimetype": "text/x-python",
   "name": "python",
   "nbconvert_exporter": "python",
   "pygments_lexer": "ipython3",
   "version": "3.5.2"
  }
 },
 "nbformat": 4,
 "nbformat_minor": 2
}
