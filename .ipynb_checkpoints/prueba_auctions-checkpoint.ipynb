{
 "cells": [
  {
   "cell_type": "code",
   "execution_count": 1,
   "metadata": {},
   "outputs": [],
   "source": [
    "import pandas as pd\n",
    "import numpy as np\n",
    "import matplotlib.pyplot as plt\n",
    "import seaborn as sns"
   ]
  },
  {
   "cell_type": "code",
   "execution_count": null,
   "metadata": {},
   "outputs": [],
   "source": [
    "auctions = pd.read_csv(\"data/auctions.csv.gzip\", parse_dates=['date'])\n",
    "auctions.head()"
   ]
  },
  {
   "cell_type": "code",
   "execution_count": null,
   "metadata": {},
   "outputs": [],
   "source": [
    "#reduciendo el dataset\n",
    "#auctions = auctions.iloc[0:200000]"
   ]
  },
  {
   "cell_type": "code",
   "execution_count": null,
   "metadata": {},
   "outputs": [],
   "source": [
    "auctions.memory_usage()"
   ]
  },
  {
   "cell_type": "code",
   "execution_count": null,
   "metadata": {},
   "outputs": [],
   "source": [
    "auctions.dtypes"
   ]
  },
  {
   "cell_type": "code",
   "execution_count": null,
   "metadata": {},
   "outputs": [],
   "source": [
    "auctions.count()"
   ]
  },
  {
   "cell_type": "code",
   "execution_count": null,
   "metadata": {},
   "outputs": [],
   "source": [
    "auctions = auctions.drop('auction_type_id', axis=1)"
   ]
  },
  {
   "cell_type": "code",
   "execution_count": null,
   "metadata": {},
   "outputs": [],
   "source": [
    "auctions.describe()"
   ]
  },
  {
   "cell_type": "code",
   "execution_count": null,
   "metadata": {},
   "outputs": [],
   "source": [
    "auctions_corr = auctions.corr().abs().round(3)\n",
    "plt.figure(figsize=(6, 6))\n",
    "sns.heatmap(auctions_corr, annot=True);"
   ]
  },
  {
   "cell_type": "code",
   "execution_count": null,
   "metadata": {},
   "outputs": [],
   "source": [
    "auctions['country'].value_counts()"
   ]
  },
  {
   "cell_type": "code",
   "execution_count": null,
   "metadata": {},
   "outputs": [],
   "source": [
    "auctions['platform'].value_counts()"
   ]
  },
  {
   "cell_type": "code",
   "execution_count": null,
   "metadata": {},
   "outputs": [],
   "source": [
    "auctions['ref_type_id'].value_counts()"
   ]
  },
  {
   "cell_type": "code",
   "execution_count": null,
   "metadata": {},
   "outputs": [],
   "source": [
    "auctions['source_id'].value_counts()"
   ]
  },
  {
   "cell_type": "code",
   "execution_count": null,
   "metadata": {},
   "outputs": [],
   "source": [
    "auctions.loc[:,'platform'] = pd.Categorical(auctions['platform'])\n",
    "auctions.loc[:,'ref_type_id'] = pd.Categorical(auctions['ref_type_id'])\n",
    "auctions.loc[:,'source_id'] = pd.Categorical(auctions['source_id'])"
   ]
  },
  {
   "cell_type": "code",
   "execution_count": null,
   "metadata": {},
   "outputs": [],
   "source": [
    "auctions.describe()"
   ]
  },
  {
   "cell_type": "code",
   "execution_count": null,
   "metadata": {},
   "outputs": [],
   "source": [
    "auctions.memory_usage()"
   ]
  },
  {
   "cell_type": "code",
   "execution_count": null,
   "metadata": {},
   "outputs": [],
   "source": [
    "gb = auctions.groupby('device_id').size().nlargest(5)"
   ]
  },
  {
   "cell_type": "code",
   "execution_count": null,
   "metadata": {},
   "outputs": [],
   "source": [
    "top_auctions = auctions.loc[auctions['device_id'].isin(gb.keys())]"
   ]
  },
  {
   "cell_type": "code",
   "execution_count": null,
   "metadata": {},
   "outputs": [],
   "source": [
    "top_auctions['date'].max() - top_auctions['date'].min()"
   ]
  },
  {
   "cell_type": "code",
   "execution_count": null,
   "metadata": {},
   "outputs": [],
   "source": [
    "top_auctions.loc[:, 'date'] = top_auctions['date'].dt.date"
   ]
  },
  {
   "cell_type": "code",
   "execution_count": null,
   "metadata": {},
   "outputs": [],
   "source": [
    "top_auctions_ = top_auctions.groupby(['device_id', 'date']).size().to_frame().reset_index()\n",
    "top_auctions_.set_index('device_id')\n",
    "top_auctions_.columns = ['device_id', 'date', 'count']\n",
    "top_auctions_"
   ]
  },
  {
   "cell_type": "code",
   "execution_count": null,
   "metadata": {},
   "outputs": [],
   "source": [
    "fig, ax = plt.subplots()\n",
    "for key, grp in top_auctions_.groupby(['device_id']):\n",
    "    ax = grp.plot(ax=ax, kind='line', x='date', y='count', label=key, figsize=(20,8))\n",
    "plt.title(\"Cantidad de subastas por día por los dispositivos que más subastas realizan\",size=20)\n",
    "ax.set_ylabel('Cantidad de subastas',size=15);\n",
    "ax.set_xlabel('Día',size=15);\n",
    "plt.show()"
   ]
  },
  {
   "cell_type": "code",
   "execution_count": null,
   "metadata": {},
   "outputs": [],
   "source": [
    "auctions['hour'] = auctions['date'].dt.hour"
   ]
  },
  {
   "cell_type": "code",
   "execution_count": null,
   "metadata": {},
   "outputs": [],
   "source": [
    "fig, ax = plt.subplots()\n",
    "auctions.groupby('hour').size().plot(figsize=(10,5))\n",
    "plt.title(\"Cantidad de subastas por hora del día\", size=20)\n",
    "ax.set_ylabel('Cantidad de subastas', size=15);\n",
    "ax.set_xlabel('Hora', size=15);\n",
    "plt.show()"
   ]
  },
  {
   "cell_type": "code",
   "execution_count": null,
   "metadata": {},
   "outputs": [],
   "source": [
    "fig, ax = plt.subplots()\n",
    "gb = auctions.groupby(['platform'])\n",
    "for key, grp in gb:\n",
    "    grp.groupby('hour').size().plot(ax=ax, kind='line', label=key, figsize=(10,5))\n",
    "plt.title(\"Cantidad de subastas por hora del día para cada plataforma\", size=18)\n",
    "plt.legend()\n",
    "ax.set_ylabel('Cantidad de subastas', size=15);\n",
    "ax.set_xlabel('Hora', size=15);\n",
    "plt.show()"
   ]
  }
 ],
 "metadata": {
  "kernelspec": {
   "display_name": "Python 3",
   "language": "python",
   "name": "python3"
  },
  "language_info": {
   "codemirror_mode": {
    "name": "ipython",
    "version": 3
   },
   "file_extension": ".py",
   "mimetype": "text/x-python",
   "name": "python",
   "nbconvert_exporter": "python",
   "pygments_lexer": "ipython3",
   "version": "3.6.4"
  }
 },
 "nbformat": 4,
 "nbformat_minor": 2
}
