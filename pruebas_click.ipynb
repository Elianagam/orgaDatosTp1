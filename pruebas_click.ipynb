{
 "cells": [
  {
   "cell_type": "code",
   "execution_count": 183,
   "metadata": {},
   "outputs": [],
   "source": [
    "import pandas as pd\n",
    "import numpy as np"
   ]
  },
  {
   "cell_type": "code",
   "execution_count": 184,
   "metadata": {},
   "outputs": [],
   "source": [
    "clicks = pd.read_csv('data/train_clicks.csv.gzip')"
   ]
  },
  {
   "cell_type": "code",
   "execution_count": 77,
   "metadata": {
    "scrolled": true
   },
   "outputs": [
    {
     "data": {
      "text/html": [
       "<div>\n",
       "<style scoped>\n",
       "    .dataframe tbody tr th:only-of-type {\n",
       "        vertical-align: middle;\n",
       "    }\n",
       "\n",
       "    .dataframe tbody tr th {\n",
       "        vertical-align: top;\n",
       "    }\n",
       "\n",
       "    .dataframe thead th {\n",
       "        text-align: right;\n",
       "    }\n",
       "</style>\n",
       "<table border=\"1\" class=\"dataframe\">\n",
       "  <thead>\n",
       "    <tr style=\"text-align: right;\">\n",
       "      <th></th>\n",
       "      <th>0</th>\n",
       "      <th>1</th>\n",
       "      <th>2</th>\n",
       "      <th>3</th>\n",
       "      <th>4</th>\n",
       "    </tr>\n",
       "  </thead>\n",
       "  <tbody>\n",
       "    <tr>\n",
       "      <th>advertiser_id</th>\n",
       "      <td>2</td>\n",
       "      <td>0</td>\n",
       "      <td>0</td>\n",
       "      <td>2</td>\n",
       "      <td>2</td>\n",
       "    </tr>\n",
       "    <tr>\n",
       "      <th>action_id</th>\n",
       "      <td>NaN</td>\n",
       "      <td>NaN</td>\n",
       "      <td>NaN</td>\n",
       "      <td>NaN</td>\n",
       "      <td>NaN</td>\n",
       "    </tr>\n",
       "    <tr>\n",
       "      <th>source_id</th>\n",
       "      <td>4</td>\n",
       "      <td>0</td>\n",
       "      <td>0</td>\n",
       "      <td>3</td>\n",
       "      <td>3</td>\n",
       "    </tr>\n",
       "    <tr>\n",
       "      <th>created</th>\n",
       "      <td>2019-03-06T22:42:12.755Z</td>\n",
       "      <td>2019-03-08T10:24:30.641Z</td>\n",
       "      <td>2019-03-08T15:24:16.069Z</td>\n",
       "      <td>2019-03-06T03:08:51.543Z</td>\n",
       "      <td>2019-03-06T03:32:55.570Z</td>\n",
       "    </tr>\n",
       "    <tr>\n",
       "      <th>country_code</th>\n",
       "      <td>6333597102633388268</td>\n",
       "      <td>6333597102633388268</td>\n",
       "      <td>6333597102633388268</td>\n",
       "      <td>6333597102633388268</td>\n",
       "      <td>6333597102633388268</td>\n",
       "    </tr>\n",
       "    <tr>\n",
       "      <th>latitude</th>\n",
       "      <td>1.20569</td>\n",
       "      <td>1.21892</td>\n",
       "      <td>1.20569</td>\n",
       "      <td>1.20569</td>\n",
       "      <td>1.20569</td>\n",
       "    </tr>\n",
       "    <tr>\n",
       "      <th>longitude</th>\n",
       "      <td>1.07023</td>\n",
       "      <td>1.07121</td>\n",
       "      <td>1.07023</td>\n",
       "      <td>1.07023</td>\n",
       "      <td>1.07023</td>\n",
       "    </tr>\n",
       "    <tr>\n",
       "      <th>wifi_connection</th>\n",
       "      <td>False</td>\n",
       "      <td>False</td>\n",
       "      <td>False</td>\n",
       "      <td>False</td>\n",
       "      <td>False</td>\n",
       "    </tr>\n",
       "    <tr>\n",
       "      <th>carrier_id</th>\n",
       "      <td>1</td>\n",
       "      <td>4</td>\n",
       "      <td>6</td>\n",
       "      <td>45</td>\n",
       "      <td>45</td>\n",
       "    </tr>\n",
       "    <tr>\n",
       "      <th>trans_id</th>\n",
       "      <td>iGgClCM9exiHF4K31g94XmvHEBSLKIY</td>\n",
       "      <td>MMHTOJ6qKAOeIH_Eywh1KIcCaxtO9oM</td>\n",
       "      <td>vIrEIdf9izUaWdAri6Ezk7T3nHFvNQU</td>\n",
       "      <td>YaKxxEAs2UmZhSpRfiCO9Zpa82B_AKM</td>\n",
       "      <td>X5XTOcYQovkl6yadYdAD7xioVGU9jiY</td>\n",
       "    </tr>\n",
       "    <tr>\n",
       "      <th>os_minor</th>\n",
       "      <td>6.76814e+18</td>\n",
       "      <td>3.02522e+18</td>\n",
       "      <td>5.97566e+18</td>\n",
       "      <td>6.76814e+18</td>\n",
       "      <td>6.76814e+18</td>\n",
       "    </tr>\n",
       "    <tr>\n",
       "      <th>agent_device</th>\n",
       "      <td>NaN</td>\n",
       "      <td>NaN</td>\n",
       "      <td>NaN</td>\n",
       "      <td>NaN</td>\n",
       "      <td>NaN</td>\n",
       "    </tr>\n",
       "    <tr>\n",
       "      <th>os_major</th>\n",
       "      <td>3.07285e+18</td>\n",
       "      <td>1.77409e+18</td>\n",
       "      <td>3.07285e+18</td>\n",
       "      <td>3.07285e+18</td>\n",
       "      <td>3.07285e+18</td>\n",
       "    </tr>\n",
       "    <tr>\n",
       "      <th>specs_brand</th>\n",
       "      <td>2733035977666442898</td>\n",
       "      <td>392184377613098015</td>\n",
       "      <td>392184377613098015</td>\n",
       "      <td>2733035977666442898</td>\n",
       "      <td>2733035977666442898</td>\n",
       "    </tr>\n",
       "    <tr>\n",
       "      <th>brand</th>\n",
       "      <td>NaN</td>\n",
       "      <td>NaN</td>\n",
       "      <td>NaN</td>\n",
       "      <td>NaN</td>\n",
       "      <td>NaN</td>\n",
       "    </tr>\n",
       "    <tr>\n",
       "      <th>timeToClick</th>\n",
       "      <td>1.563</td>\n",
       "      <td>NaN</td>\n",
       "      <td>NaN</td>\n",
       "      <td>19.013</td>\n",
       "      <td>28.11</td>\n",
       "    </tr>\n",
       "    <tr>\n",
       "      <th>touchX</th>\n",
       "      <td>0.905</td>\n",
       "      <td>NaN</td>\n",
       "      <td>0.946</td>\n",
       "      <td>0.035</td>\n",
       "      <td>0.054</td>\n",
       "    </tr>\n",
       "    <tr>\n",
       "      <th>touchY</th>\n",
       "      <td>0.078</td>\n",
       "      <td>NaN</td>\n",
       "      <td>0.473</td>\n",
       "      <td>0.431</td>\n",
       "      <td>0.423</td>\n",
       "    </tr>\n",
       "    <tr>\n",
       "      <th>ref_type</th>\n",
       "      <td>1891515180541284343</td>\n",
       "      <td>1891515180541284343</td>\n",
       "      <td>1891515180541284343</td>\n",
       "      <td>1891515180541284343</td>\n",
       "      <td>1891515180541284343</td>\n",
       "    </tr>\n",
       "    <tr>\n",
       "      <th>ref_hash</th>\n",
       "      <td>1904083516767779093</td>\n",
       "      <td>3086509764961796666</td>\n",
       "      <td>6958163894863846647</td>\n",
       "      <td>4368617728156436525</td>\n",
       "      <td>4368617728156436525</td>\n",
       "    </tr>\n",
       "  </tbody>\n",
       "</table>\n",
       "</div>"
      ],
      "text/plain": [
       "                                               0  \\\n",
       "advertiser_id                                  2   \n",
       "action_id                                    NaN   \n",
       "source_id                                      4   \n",
       "created                 2019-03-06T22:42:12.755Z   \n",
       "country_code                 6333597102633388268   \n",
       "latitude                                 1.20569   \n",
       "longitude                                1.07023   \n",
       "wifi_connection                            False   \n",
       "carrier_id                                     1   \n",
       "trans_id         iGgClCM9exiHF4K31g94XmvHEBSLKIY   \n",
       "os_minor                             6.76814e+18   \n",
       "agent_device                                 NaN   \n",
       "os_major                             3.07285e+18   \n",
       "specs_brand                  2733035977666442898   \n",
       "brand                                        NaN   \n",
       "timeToClick                                1.563   \n",
       "touchX                                     0.905   \n",
       "touchY                                     0.078   \n",
       "ref_type                     1891515180541284343   \n",
       "ref_hash                     1904083516767779093   \n",
       "\n",
       "                                               1  \\\n",
       "advertiser_id                                  0   \n",
       "action_id                                    NaN   \n",
       "source_id                                      0   \n",
       "created                 2019-03-08T10:24:30.641Z   \n",
       "country_code                 6333597102633388268   \n",
       "latitude                                 1.21892   \n",
       "longitude                                1.07121   \n",
       "wifi_connection                            False   \n",
       "carrier_id                                     4   \n",
       "trans_id         MMHTOJ6qKAOeIH_Eywh1KIcCaxtO9oM   \n",
       "os_minor                             3.02522e+18   \n",
       "agent_device                                 NaN   \n",
       "os_major                             1.77409e+18   \n",
       "specs_brand                   392184377613098015   \n",
       "brand                                        NaN   \n",
       "timeToClick                                  NaN   \n",
       "touchX                                       NaN   \n",
       "touchY                                       NaN   \n",
       "ref_type                     1891515180541284343   \n",
       "ref_hash                     3086509764961796666   \n",
       "\n",
       "                                               2  \\\n",
       "advertiser_id                                  0   \n",
       "action_id                                    NaN   \n",
       "source_id                                      0   \n",
       "created                 2019-03-08T15:24:16.069Z   \n",
       "country_code                 6333597102633388268   \n",
       "latitude                                 1.20569   \n",
       "longitude                                1.07023   \n",
       "wifi_connection                            False   \n",
       "carrier_id                                     6   \n",
       "trans_id         vIrEIdf9izUaWdAri6Ezk7T3nHFvNQU   \n",
       "os_minor                             5.97566e+18   \n",
       "agent_device                                 NaN   \n",
       "os_major                             3.07285e+18   \n",
       "specs_brand                   392184377613098015   \n",
       "brand                                        NaN   \n",
       "timeToClick                                  NaN   \n",
       "touchX                                     0.946   \n",
       "touchY                                     0.473   \n",
       "ref_type                     1891515180541284343   \n",
       "ref_hash                     6958163894863846647   \n",
       "\n",
       "                                               3  \\\n",
       "advertiser_id                                  2   \n",
       "action_id                                    NaN   \n",
       "source_id                                      3   \n",
       "created                 2019-03-06T03:08:51.543Z   \n",
       "country_code                 6333597102633388268   \n",
       "latitude                                 1.20569   \n",
       "longitude                                1.07023   \n",
       "wifi_connection                            False   \n",
       "carrier_id                                    45   \n",
       "trans_id         YaKxxEAs2UmZhSpRfiCO9Zpa82B_AKM   \n",
       "os_minor                             6.76814e+18   \n",
       "agent_device                                 NaN   \n",
       "os_major                             3.07285e+18   \n",
       "specs_brand                  2733035977666442898   \n",
       "brand                                        NaN   \n",
       "timeToClick                               19.013   \n",
       "touchX                                     0.035   \n",
       "touchY                                     0.431   \n",
       "ref_type                     1891515180541284343   \n",
       "ref_hash                     4368617728156436525   \n",
       "\n",
       "                                               4  \n",
       "advertiser_id                                  2  \n",
       "action_id                                    NaN  \n",
       "source_id                                      3  \n",
       "created                 2019-03-06T03:32:55.570Z  \n",
       "country_code                 6333597102633388268  \n",
       "latitude                                 1.20569  \n",
       "longitude                                1.07023  \n",
       "wifi_connection                            False  \n",
       "carrier_id                                    45  \n",
       "trans_id         X5XTOcYQovkl6yadYdAD7xioVGU9jiY  \n",
       "os_minor                             6.76814e+18  \n",
       "agent_device                                 NaN  \n",
       "os_major                             3.07285e+18  \n",
       "specs_brand                  2733035977666442898  \n",
       "brand                                        NaN  \n",
       "timeToClick                                28.11  \n",
       "touchX                                     0.054  \n",
       "touchY                                     0.423  \n",
       "ref_type                     1891515180541284343  \n",
       "ref_hash                     4368617728156436525  "
      ]
     },
     "execution_count": 77,
     "metadata": {},
     "output_type": "execute_result"
    }
   ],
   "source": [
    "clicks.head().T"
   ]
  },
  {
   "cell_type": "code",
   "execution_count": 114,
   "metadata": {},
   "outputs": [
    {
     "data": {
      "text/plain": [
       "26351"
      ]
     },
     "execution_count": 114,
     "metadata": {},
     "output_type": "execute_result"
    }
   ],
   "source": [
    "len(clicks)"
   ]
  },
  {
   "cell_type": "code",
   "execution_count": 4,
   "metadata": {},
   "outputs": [
    {
     "data": {
      "text/plain": [
       "advertiser_id        int64\n",
       "action_id          float64\n",
       "source_id            int64\n",
       "created             object\n",
       "country_code         int64\n",
       "latitude           float64\n",
       "longitude          float64\n",
       "wifi_connection       bool\n",
       "carrier_id         float64\n",
       "trans_id            object\n",
       "os_minor           float64\n",
       "agent_device       float64\n",
       "os_major           float64\n",
       "specs_brand          int64\n",
       "brand              float64\n",
       "timeToClick        float64\n",
       "touchX             float64\n",
       "touchY             float64\n",
       "ref_type             int64\n",
       "ref_hash             int64\n",
       "dtype: object"
      ]
     },
     "execution_count": 4,
     "metadata": {},
     "output_type": "execute_result"
    }
   ],
   "source": [
    "clicks.dtypes"
   ]
  },
  {
   "cell_type": "code",
   "execution_count": 78,
   "metadata": {
    "scrolled": true
   },
   "outputs": [
    {
     "data": {
      "text/plain": [
       "advertiser_id          0\n",
       "action_id          26351\n",
       "source_id              0\n",
       "created                0\n",
       "country_code           0\n",
       "latitude               0\n",
       "longitude              0\n",
       "wifi_connection        0\n",
       "carrier_id            11\n",
       "trans_id               0\n",
       "os_minor              12\n",
       "agent_device       23108\n",
       "os_major              12\n",
       "specs_brand            0\n",
       "brand              20116\n",
       "timeToClick         3374\n",
       "touchX              3340\n",
       "touchY              3340\n",
       "ref_type               0\n",
       "ref_hash               0\n",
       "dtype: int64"
      ]
     },
     "execution_count": 78,
     "metadata": {},
     "output_type": "execute_result"
    }
   ],
   "source": [
    "clicks.isnull().sum()"
   ]
  },
  {
   "cell_type": "code",
   "execution_count": 118,
   "metadata": {},
   "outputs": [],
   "source": [
    "#elimino esta columna porque posee todos NaN\n",
    "clicks.drop('action_id', axis=1, inplace=True)"
   ]
  },
  {
   "cell_type": "code",
   "execution_count": 119,
   "metadata": {},
   "outputs": [
    {
     "data": {
      "text/plain": [
       "advertiser_id          0\n",
       "source_id              0\n",
       "created                0\n",
       "country_code           0\n",
       "latitude               0\n",
       "longitude              0\n",
       "wifi_connection        0\n",
       "carrier_id            11\n",
       "trans_id               0\n",
       "os_minor              12\n",
       "agent_device       23108\n",
       "os_major              12\n",
       "specs_brand            0\n",
       "brand              20116\n",
       "timeToClick         3374\n",
       "touchX              3340\n",
       "touchY              3340\n",
       "ref_type               0\n",
       "ref_hash               0\n",
       "dtype: int64"
      ]
     },
     "execution_count": 119,
     "metadata": {},
     "output_type": "execute_result"
    }
   ],
   "source": [
    "clicks.isnull().sum()"
   ]
  },
  {
   "cell_type": "code",
   "execution_count": 180,
   "metadata": {},
   "outputs": [
    {
     "data": {
      "text/plain": [
       "3.516812e+18    656\n",
       "1.754528e+18    326\n",
       "6.882415e+18    156\n",
       "7.787531e+18    132\n",
       "4.281729e+18    122\n",
       "4.445252e+18     99\n",
       "6.589622e+18     87\n",
       "2.066431e+17     81\n",
       "3.686067e+17     75\n",
       "8.656854e+18     74\n",
       "5.990117e+18     72\n",
       "7.116343e+18     70\n",
       "1.063783e+18     68\n",
       "2.616228e+18     64\n",
       "8.163783e+18     62\n",
       "8.604122e+18     47\n",
       "3.977966e+18     46\n",
       "2.438316e+18     43\n",
       "4.430579e+18     33\n",
       "1.181318e+18     32\n",
       "5.960896e+18     28\n",
       "1.540907e+18     28\n",
       "8.535198e+18     23\n",
       "3.432684e+18     23\n",
       "3.051485e+18     22\n",
       "1.321681e+18     22\n",
       "2.293453e+18     21\n",
       "1.966828e+18     20\n",
       "6.558466e+18     20\n",
       "7.628197e+18     19\n",
       "               ... \n",
       "8.178177e+18      1\n",
       "8.285870e+18      1\n",
       "8.400757e+18      1\n",
       "7.052220e+18      1\n",
       "6.445596e+18      1\n",
       "3.103697e+17      1\n",
       "1.251416e+17      1\n",
       "4.928434e+18      1\n",
       "1.231797e+18      1\n",
       "3.262918e+18      1\n",
       "4.186571e+18      1\n",
       "3.339732e+17      1\n",
       "6.195314e+18      1\n",
       "7.614489e+18      1\n",
       "3.285184e+18      1\n",
       "2.091433e+17      1\n",
       "8.369550e+18      1\n",
       "1.557569e+18      1\n",
       "4.497716e+18      1\n",
       "4.155763e+18      1\n",
       "1.623311e+18      1\n",
       "2.863247e+18      1\n",
       "1.198454e+18      1\n",
       "7.407931e+18      1\n",
       "5.399765e+16      1\n",
       "2.108514e+17      1\n",
       "8.214238e+18      1\n",
       "4.125471e+18      1\n",
       "3.889747e+18      1\n",
       "1.595841e+18      1\n",
       "Name: agent_device, Length: 190, dtype: int64"
      ]
     },
     "execution_count": 180,
     "metadata": {},
     "output_type": "execute_result"
    }
   ],
   "source": [
    "clicks['agent_device'].value_counts()"
   ]
  },
  {
   "cell_type": "code",
   "execution_count": 172,
   "metadata": {},
   "outputs": [],
   "source": [
    "#veo cuáles no son nulas\n",
    "clicks.loc[clicks['agent_device'].notnull(),['agent_device']];"
   ]
  },
  {
   "cell_type": "code",
   "execution_count": 81,
   "metadata": {
    "scrolled": true
   },
   "outputs": [
    {
     "data": {
      "text/plain": [
       "2.0     2027\n",
       "0.0     1917\n",
       "1.0     1521\n",
       "4.0      240\n",
       "3.0      186\n",
       "5.0      129\n",
       "6.0      124\n",
       "7.0       32\n",
       "9.0       31\n",
       "8.0       16\n",
       "10.0       8\n",
       "12.0       3\n",
       "13.0       1\n",
       "Name: brand, dtype: int64"
      ]
     },
     "execution_count": 81,
     "metadata": {},
     "output_type": "execute_result"
    }
   ],
   "source": [
    "#hay varios grupos\n",
    "clicks['brand'].value_counts()"
   ]
  },
  {
   "cell_type": "code",
   "execution_count": 82,
   "metadata": {},
   "outputs": [],
   "source": [
    "#reduzco el tamaño\n",
    "clicks['brand']=clicks['brand'].astype(np.float16)"
   ]
  },
  {
   "cell_type": "code",
   "execution_count": 173,
   "metadata": {},
   "outputs": [
    {
     "data": {
      "text/plain": [
       "3    26263\n",
       "0       70\n",
       "2       12\n",
       "7        2\n",
       "1        2\n",
       "8        1\n",
       "5        1\n",
       "Name: advertiser_id, dtype: int64"
      ]
     },
     "execution_count": 173,
     "metadata": {},
     "output_type": "execute_result"
    }
   ],
   "source": [
    "#lo paso a un tipo 'category' por haber pocos grupos\n",
    "clicks['advertiser_id']=clicks['advertiser_id'].astype('category')\n",
    "clicks['advertiser_id'].value_counts()"
   ]
  },
  {
   "cell_type": "code",
   "execution_count": 84,
   "metadata": {},
   "outputs": [],
   "source": [
    "clicks['advertiser_id']=clicks['advertiser_id'].astype(np.int8)"
   ]
  },
  {
   "cell_type": "code",
   "execution_count": 85,
   "metadata": {},
   "outputs": [
    {
     "data": {
      "text/plain": [
       "0     17009\n",
       "1      4298\n",
       "6      3371\n",
       "5      1628\n",
       "2        27\n",
       "3         9\n",
       "10        3\n",
       "7         2\n",
       "4         2\n",
       "9         1\n",
       "8         1\n",
       "Name: source_id, dtype: int64"
      ]
     },
     "execution_count": 85,
     "metadata": {},
     "output_type": "execute_result"
    }
   ],
   "source": [
    "clicks['source_id'].value_counts()"
   ]
  },
  {
   "cell_type": "code",
   "execution_count": 86,
   "metadata": {},
   "outputs": [],
   "source": [
    "clicks['source_id']=clicks['source_id'].astype(np.int8)"
   ]
  },
  {
   "cell_type": "code",
   "execution_count": 87,
   "metadata": {
    "scrolled": true
   },
   "outputs": [
    {
     "data": {
      "text/plain": [
       "2019-03-10T01:37:34.402Z    2\n",
       "2019-03-07T23:24:46.085Z    2\n",
       "2019-03-07T23:16:30.731Z    2\n",
       "2019-03-10T05:02:10.703Z    2\n",
       "2019-03-09T11:31:23.385Z    1\n",
       "2019-03-07T23:06:45.648Z    1\n",
       "2019-03-10T11:40:10.320Z    1\n",
       "2019-03-10T05:28:45.871Z    1\n",
       "2019-03-10T10:46:14.643Z    1\n",
       "2019-03-07T23:23:26.474Z    1\n",
       "2019-03-13T00:09:53.642Z    1\n",
       "2019-03-12T15:37:50.753Z    1\n",
       "2019-03-07T23:54:24.844Z    1\n",
       "2019-03-11T12:47:22.350Z    1\n",
       "2019-03-12T23:52:09.462Z    1\n",
       "2019-03-13T13:14:10.007Z    1\n",
       "2019-03-10T05:02:13.663Z    1\n",
       "2019-03-12T13:58:59.563Z    1\n",
       "2019-03-13T22:12:56.053Z    1\n",
       "2019-03-09T03:50:04.800Z    1\n",
       "2019-03-07T23:52:25.307Z    1\n",
       "2019-03-12T14:54:45.756Z    1\n",
       "2019-03-08T08:28:52.019Z    1\n",
       "2019-03-11T01:24:27.725Z    1\n",
       "2019-03-11T15:44:17.157Z    1\n",
       "2019-03-09T08:20:55.583Z    1\n",
       "2019-03-10T07:02:04.467Z    1\n",
       "2019-03-09T04:30:59.702Z    1\n",
       "2019-03-13T10:01:28.879Z    1\n",
       "2019-03-11T10:54:14.109Z    1\n",
       "                           ..\n",
       "2019-03-10T08:14:47.948Z    1\n",
       "2019-03-12T02:25:49.178Z    1\n",
       "2019-03-11T05:22:16.792Z    1\n",
       "2019-03-11T02:05:11.703Z    1\n",
       "2019-03-10T02:12:20.163Z    1\n",
       "2019-03-10T10:32:52.601Z    1\n",
       "2019-03-10T02:04:25.244Z    1\n",
       "2019-03-11T15:35:08.266Z    1\n",
       "2019-03-12T03:17:13.502Z    1\n",
       "2019-03-06T03:08:51.543Z    1\n",
       "2019-03-12T19:49:13.262Z    1\n",
       "2019-03-08T11:22:41.492Z    1\n",
       "2019-03-09T01:20:41.354Z    1\n",
       "2019-03-08T00:02:29.820Z    1\n",
       "2019-03-09T01:32:49.228Z    1\n",
       "2019-03-07T22:52:52.989Z    1\n",
       "2019-03-13T23:49:35.050Z    1\n",
       "2019-03-08T10:44:48.116Z    1\n",
       "2019-03-11T12:03:06.345Z    1\n",
       "2019-03-10T04:55:55.208Z    1\n",
       "2019-03-08T01:54:57.095Z    1\n",
       "2019-03-08T01:37:18.945Z    1\n",
       "2019-03-12T02:14:24.479Z    1\n",
       "2019-03-13T11:43:23.864Z    1\n",
       "2019-03-11T02:16:50.728Z    1\n",
       "2019-03-12T17:54:55.976Z    1\n",
       "2019-03-10T11:22:05.568Z    1\n",
       "2019-03-12T08:17:01.120Z    1\n",
       "2019-03-11T15:08:43.962Z    1\n",
       "2019-03-08T10:48:56.029Z    1\n",
       "Name: created, Length: 26347, dtype: int64"
      ]
     },
     "execution_count": 87,
     "metadata": {},
     "output_type": "execute_result"
    }
   ],
   "source": [
    "clicks['created'].value_counts()"
   ]
  },
  {
   "cell_type": "code",
   "execution_count": 169,
   "metadata": {},
   "outputs": [
    {
     "data": {
      "text/plain": [
       "datetime64[ns, UTC]"
      ]
     },
     "execution_count": 169,
     "metadata": {},
     "output_type": "execute_result"
    }
   ],
   "source": [
    "#le cambio el tipo a datetime\n",
    "clicks['created'] = pd.to_datetime(clicks['created'], format='%Y-%m-%d %H:%M:%S')\n",
    "clicks['created'].dtype"
   ]
  },
  {
   "cell_type": "code",
   "execution_count": 88,
   "metadata": {
    "scrolled": true
   },
   "outputs": [
    {
     "data": {
      "text/plain": [
       "6333597102633388268    26351\n",
       "Name: country_code, dtype: int64"
      ]
     },
     "execution_count": 88,
     "metadata": {},
     "output_type": "execute_result"
    }
   ],
   "source": [
    "#único country code\n",
    "clicks['country_code'].value_counts()"
   ]
  },
  {
   "cell_type": "code",
   "execution_count": 163,
   "metadata": {},
   "outputs": [],
   "source": [
    "#elimino esta columna y guardo el único valor en una variable\n",
    "clicks.drop('country_code',axis=1,inplace=True)\n",
    "country_code=6333597102633388268"
   ]
  },
  {
   "cell_type": "code",
   "execution_count": 179,
   "metadata": {},
   "outputs": [
    {
     "data": {
      "text/plain": [
       "1.205689    22949\n",
       "1.218924     1105\n",
       "1.235406      281\n",
       "1.205393      261\n",
       "1.208059      186\n",
       "1.205058      171\n",
       "1.223819      100\n",
       "1.209520       95\n",
       "1.206592       90\n",
       "1.209372       83\n",
       "1.209165       75\n",
       "1.211090       65\n",
       "1.214036       53\n",
       "1.205864       47\n",
       "1.206684       45\n",
       "1.230641       44\n",
       "1.210313       40\n",
       "1.216193       33\n",
       "1.207268       30\n",
       "1.217111       30\n",
       "1.234142       26\n",
       "1.208485       24\n",
       "1.209638       24\n",
       "1.215060       24\n",
       "1.206435       22\n",
       "1.206369       21\n",
       "1.209330       20\n",
       "1.208551       20\n",
       "1.209100       20\n",
       "1.222768       20\n",
       "            ...  \n",
       "1.206923        8\n",
       "1.207905        8\n",
       "1.208795        7\n",
       "1.212213        7\n",
       "1.209064        6\n",
       "1.212601        5\n",
       "1.209883        5\n",
       "1.213918        5\n",
       "1.218048        5\n",
       "1.205771        5\n",
       "1.211060        4\n",
       "1.237861        4\n",
       "1.208644        4\n",
       "1.205833        4\n",
       "1.205746        3\n",
       "1.206181        3\n",
       "1.212693        3\n",
       "1.205951        3\n",
       "1.206259        2\n",
       "1.223550        2\n",
       "1.206391        2\n",
       "1.213671        2\n",
       "1.222527        2\n",
       "1.227118        2\n",
       "1.206823        2\n",
       "1.205356        2\n",
       "1.206249        2\n",
       "1.228208        1\n",
       "1.223863        1\n",
       "1.205475        1\n",
       "Name: latitude, Length: 78, dtype: int64"
      ]
     },
     "execution_count": 179,
     "metadata": {},
     "output_type": "execute_result"
    }
   ],
   "source": [
    "#hay muchos grupos\n",
    "clicks['latitude'].value_counts()"
   ]
  },
  {
   "cell_type": "code",
   "execution_count": 90,
   "metadata": {},
   "outputs": [],
   "source": [
    "clicks['latitude']=clicks['latitude'].astype(np.float64)"
   ]
  },
  {
   "cell_type": "code",
   "execution_count": 91,
   "metadata": {
    "scrolled": true
   },
   "outputs": [
    {
     "data": {
      "text/plain": [
       "1.070234    22949\n",
       "1.071209     1105\n",
       "1.063737      281\n",
       "1.077238      250\n",
       "1.069624      186\n",
       "1.077332      171\n",
       "1.059475      100\n",
       "1.069958       90\n",
       "1.065525       85\n",
       "1.067147       83\n",
       "1.062330       75\n",
       "1.069987       65\n",
       "1.085358       53\n",
       "1.071447       45\n",
       "1.060085       44\n",
       "1.069973       41\n",
       "1.078356       40\n",
       "1.068226       33\n",
       "1.067693       30\n",
       "1.059728       30\n",
       "1.073781       26\n",
       "1.064208       24\n",
       "1.066156       24\n",
       "1.060796       24\n",
       "1.071194       22\n",
       "1.069933       21\n",
       "1.075605       20\n",
       "1.075580       20\n",
       "1.068982       20\n",
       "1.072560       20\n",
       "            ...  \n",
       "1.071944        8\n",
       "1.073021        8\n",
       "1.062970        7\n",
       "1.060965        7\n",
       "1.068144        6\n",
       "1.059288        5\n",
       "1.071220        5\n",
       "1.058204        5\n",
       "1.061768        5\n",
       "1.062037        5\n",
       "1.071446        4\n",
       "1.071305        4\n",
       "1.068549        4\n",
       "1.073223        4\n",
       "1.063440        3\n",
       "1.069428        3\n",
       "1.071895        3\n",
       "1.082651        2\n",
       "1.069308        2\n",
       "1.064408        2\n",
       "1.081584        2\n",
       "1.072806        2\n",
       "1.071822        2\n",
       "1.070163        2\n",
       "1.070100        2\n",
       "1.072127        2\n",
       "1.075591        2\n",
       "1.065225        1\n",
       "1.078145        1\n",
       "1.071317        1\n",
       "Name: longitude, Length: 81, dtype: int64"
      ]
     },
     "execution_count": 91,
     "metadata": {},
     "output_type": "execute_result"
    }
   ],
   "source": [
    "#hay grupos\n",
    "clicks['longitude'].value_counts()"
   ]
  },
  {
   "cell_type": "code",
   "execution_count": 92,
   "metadata": {},
   "outputs": [],
   "source": [
    "clicks['longitude']=clicks['longitude'].astype(np.float64)"
   ]
  },
  {
   "cell_type": "code",
   "execution_count": 93,
   "metadata": {},
   "outputs": [
    {
     "data": {
      "text/plain": [
       "False    26351\n",
       "Name: wifi_connection, dtype: int64"
      ]
     },
     "execution_count": 93,
     "metadata": {},
     "output_type": "execute_result"
    }
   ],
   "source": [
    "clicks['wifi_connection'].value_counts()"
   ]
  },
  {
   "cell_type": "code",
   "execution_count": 168,
   "metadata": {},
   "outputs": [],
   "source": [
    "#elimino la columna wifi_connection porque posee un unico valor, y creo una variable con ese valor\n",
    "clicks.drop('wifi_connection',axis=1,inplace=True)\n",
    "wifi_connection=False"
   ]
  },
  {
   "cell_type": "code",
   "execution_count": 95,
   "metadata": {},
   "outputs": [
    {
     "data": {
      "text/plain": [
       "4.0      4569\n",
       "6.0      3474\n",
       "1.0      3307\n",
       "13.0     2998\n",
       "3.0      2944\n",
       "12.0     2273\n",
       "0.0      1368\n",
       "10.0      753\n",
       "14.0      588\n",
       "9.0       555\n",
       "17.0      519\n",
       "19.0      496\n",
       "18.0      468\n",
       "22.0      462\n",
       "2.0       264\n",
       "15.0      263\n",
       "5.0       212\n",
       "21.0      211\n",
       "25.0      202\n",
       "30.0      121\n",
       "24.0      117\n",
       "27.0       58\n",
       "29.0       33\n",
       "67.0       13\n",
       "33.0       12\n",
       "76.0        6\n",
       "26.0        6\n",
       "45.0        6\n",
       "91.0        3\n",
       "28.0        3\n",
       "31.0        3\n",
       "48.0        2\n",
       "93.0        2\n",
       "59.0        2\n",
       "65.0        2\n",
       "37.0        2\n",
       "11.0        2\n",
       "115.0       2\n",
       "39.0        2\n",
       "55.0        2\n",
       "112.0       1\n",
       "102.0       1\n",
       "116.0       1\n",
       "35.0        1\n",
       "74.0        1\n",
       "113.0       1\n",
       "52.0        1\n",
       "80.0        1\n",
       "105.0       1\n",
       "75.0        1\n",
       "77.0        1\n",
       "106.0       1\n",
       "69.0        1\n",
       "34.0        1\n",
       "103.0       1\n",
       "Name: carrier_id, dtype: int64"
      ]
     },
     "execution_count": 95,
     "metadata": {},
     "output_type": "execute_result"
    }
   ],
   "source": [
    "#hay grupos\n",
    "clicks['carrier_id'].value_counts()"
   ]
  },
  {
   "cell_type": "code",
   "execution_count": 96,
   "metadata": {},
   "outputs": [],
   "source": [
    "clicks['carrier_id']=clicks['carrier_id'].astype(np.float16)"
   ]
  },
  {
   "cell_type": "code",
   "execution_count": 98,
   "metadata": {},
   "outputs": [],
   "source": [
    "#no hay mucho por analizar acá\n",
    "#clicks['trans_id'].value_counts()"
   ]
  },
  {
   "cell_type": "code",
   "execution_count": 99,
   "metadata": {},
   "outputs": [
    {
     "data": {
      "text/plain": [
       "3.378640e+18    6922\n",
       "6.768137e+18    3747\n",
       "5.975656e+18    3683\n",
       "3.511538e+18    3257\n",
       "6.391567e+18    3093\n",
       "3.025219e+18    3047\n",
       "3.875707e+18     651\n",
       "3.399962e+18     591\n",
       "7.553676e+18     576\n",
       "6.666626e+17     445\n",
       "4.213391e+18      79\n",
       "4.106890e+18      44\n",
       "8.613722e+18      36\n",
       "8.502255e+18      35\n",
       "3.178027e+18      34\n",
       "3.138606e+18      22\n",
       "7.209017e+18      20\n",
       "7.728566e+18      13\n",
       "2.455752e+18      10\n",
       "9.175549e+17       8\n",
       "6.380963e+18       8\n",
       "4.463892e+18       5\n",
       "4.206912e+18       3\n",
       "5.476064e+18       3\n",
       "6.423659e+18       2\n",
       "9.081082e+18       2\n",
       "7.699950e+18       2\n",
       "7.837464e+18       1\n",
       "Name: os_minor, dtype: int64"
      ]
     },
     "execution_count": 99,
     "metadata": {},
     "output_type": "execute_result"
    }
   ],
   "source": [
    "#hay varios grupos\n",
    "clicks['os_minor'].value_counts()"
   ]
  },
  {
   "cell_type": "code",
   "execution_count": 103,
   "metadata": {},
   "outputs": [],
   "source": [
    "clicks['os_minor']=clicks['os_minor'].astype(np.float32)"
   ]
  },
  {
   "cell_type": "code",
   "execution_count": 100,
   "metadata": {},
   "outputs": [
    {
     "data": {
      "text/plain": [
       "3.072849e+18    7430\n",
       "4.566454e+18    6922\n",
       "1.774085e+18    6304\n",
       "7.452406e+18    3669\n",
       "5.745805e+18     818\n",
       "6.693579e+18     616\n",
       "1.563830e+18     445\n",
       "2.835312e+18      64\n",
       "7.499732e+18      41\n",
       "4.072211e+18      20\n",
       "7.436481e+17       8\n",
       "6.928183e+18       2\n",
       "Name: os_major, dtype: int64"
      ]
     },
     "execution_count": 100,
     "metadata": {},
     "output_type": "execute_result"
    }
   ],
   "source": [
    "#varios grupos\n",
    "clicks['os_major'].value_counts()"
   ]
  },
  {
   "cell_type": "code",
   "execution_count": 101,
   "metadata": {},
   "outputs": [],
   "source": [
    "clicks['os_major']=clicks['os_major'].astype(np.float32)"
   ]
  },
  {
   "cell_type": "code",
   "execution_count": 178,
   "metadata": {},
   "outputs": [
    {
     "data": {
      "text/plain": [
       "392184377613098015     16172\n",
       "2733035977666442898    10164\n",
       "8930605132947907029       10\n",
       "3855167788531275156        4\n",
       "5675295985273558497        1\n",
       "Name: specs_brand, dtype: int64"
      ]
     },
     "execution_count": 178,
     "metadata": {},
     "output_type": "execute_result"
    }
   ],
   "source": [
    "#pocos grupos\n",
    "clicks['specs_brand']=clicks['specs_brand'].astype('category')\n",
    "clicks['specs_brand'].value_counts()"
   ]
  },
  {
   "cell_type": "code",
   "execution_count": 181,
   "metadata": {},
   "outputs": [],
   "source": [
    "#no entiendo mucho, porque brand posee muchos null, VER BIEN\n",
    "#clicks.groupby(['brand','specs_brand']).agg('count')"
   ]
  },
  {
   "cell_type": "code",
   "execution_count": 105,
   "metadata": {},
   "outputs": [
    {
     "data": {
      "text/plain": [
       "0.261      11\n",
       "0.267       9\n",
       "0.210       9\n",
       "0.338       9\n",
       "2.221       8\n",
       "0.232       8\n",
       "2.043       8\n",
       "0.252       8\n",
       "2.041       8\n",
       "0.194       7\n",
       "0.340       7\n",
       "2.252       7\n",
       "4.179       7\n",
       "1.917       7\n",
       "1.676       7\n",
       "2.892       7\n",
       "0.187       7\n",
       "0.251       7\n",
       "1.717       7\n",
       "0.226       6\n",
       "0.352       6\n",
       "1.792       6\n",
       "0.384       6\n",
       "0.308       6\n",
       "0.271       6\n",
       "0.219       6\n",
       "0.482       6\n",
       "1.664       6\n",
       "0.272       6\n",
       "1.839       6\n",
       "           ..\n",
       "147.252     1\n",
       "482.467     1\n",
       "6.415       1\n",
       "649.753     1\n",
       "51.070      1\n",
       "11.795      1\n",
       "59.467      1\n",
       "36.624      1\n",
       "15.268      1\n",
       "13.609      1\n",
       "2.256       1\n",
       "183.282     1\n",
       "1.975       1\n",
       "13.924      1\n",
       "437.556     1\n",
       "37.382      1\n",
       "267.876     1\n",
       "13.370      1\n",
       "221.478     1\n",
       "37.270      1\n",
       "77.196      1\n",
       "55.258      1\n",
       "375.753     1\n",
       "62.718      1\n",
       "5.702       1\n",
       "900.099     1\n",
       "443.978     1\n",
       "330.022     1\n",
       "12.388      1\n",
       "11.000      1\n",
       "Name: timeToClick, Length: 17294, dtype: int64"
      ]
     },
     "execution_count": 105,
     "metadata": {},
     "output_type": "execute_result"
    }
   ],
   "source": [
    "clicks['timeToClick'].value_counts()"
   ]
  },
  {
   "cell_type": "code",
   "execution_count": 106,
   "metadata": {},
   "outputs": [],
   "source": [
    "clicks['timeToClick']=clicks['timeToClick'].astype(np.float64)"
   ]
  },
  {
   "cell_type": "code",
   "execution_count": 107,
   "metadata": {},
   "outputs": [
    {
     "data": {
      "text/plain": [
       "0.996    204\n",
       "0.994    129\n",
       "0.995    110\n",
       "0.938     94\n",
       "0.950     92\n",
       "0.998     92\n",
       "0.957     90\n",
       "0.993     89\n",
       "0.988     89\n",
       "0.948     88\n",
       "0.997     85\n",
       "0.942     84\n",
       "0.956     83\n",
       "0.990     82\n",
       "0.981     81\n",
       "0.999     79\n",
       "0.963     79\n",
       "0.944     77\n",
       "0.991     77\n",
       "0.894     75\n",
       "0.969     75\n",
       "0.892     74\n",
       "0.975     72\n",
       "0.931     71\n",
       "0.986     71\n",
       "0.896     69\n",
       "0.911     69\n",
       "0.933     69\n",
       "0.989     68\n",
       "0.992     67\n",
       "        ... \n",
       "0.407      6\n",
       "0.074      6\n",
       "0.174      6\n",
       "0.305      6\n",
       "0.333      6\n",
       "0.363      6\n",
       "0.188      6\n",
       "0.282      6\n",
       "0.206      6\n",
       "0.277      6\n",
       "0.417      6\n",
       "0.330      6\n",
       "0.249      6\n",
       "0.443      6\n",
       "0.172      6\n",
       "0.132      6\n",
       "0.315      6\n",
       "0.448      6\n",
       "0.302      5\n",
       "0.238      5\n",
       "0.088      5\n",
       "0.425      5\n",
       "0.213      5\n",
       "0.211      4\n",
       "1.000      4\n",
       "0.336      4\n",
       "0.159      4\n",
       "0.156      3\n",
       "0.332      2\n",
       "0.311      2\n",
       "Name: touchX, Length: 1001, dtype: int64"
      ]
     },
     "execution_count": 107,
     "metadata": {},
     "output_type": "execute_result"
    }
   ],
   "source": [
    "clicks['touchX'].value_counts()"
   ]
  },
  {
   "cell_type": "code",
   "execution_count": 108,
   "metadata": {},
   "outputs": [],
   "source": [
    "clicks['touchX']=clicks['touchX'].astype(np.float16)"
   ]
  },
  {
   "cell_type": "code",
   "execution_count": 109,
   "metadata": {},
   "outputs": [
    {
     "data": {
      "text/plain": [
       "0.000     193\n",
       "0.998     140\n",
       "0.994      81\n",
       "0.996      80\n",
       "0.023      79\n",
       "0.026      76\n",
       "0.037      75\n",
       "0.990      74\n",
       "0.052      72\n",
       "0.035      71\n",
       "0.988      70\n",
       "0.991      65\n",
       "0.050      64\n",
       "0.056      64\n",
       "0.051      63\n",
       "0.044      60\n",
       "0.003      59\n",
       "0.984      58\n",
       "0.055      58\n",
       "0.031      57\n",
       "0.053      56\n",
       "0.022      55\n",
       "0.999      55\n",
       "0.020      55\n",
       "0.018      54\n",
       "0.060      54\n",
       "0.995      54\n",
       "0.025      52\n",
       "0.079      52\n",
       "0.047      52\n",
       "         ... \n",
       "9.971       1\n",
       "1.622       1\n",
       "13.325      1\n",
       "9.946       1\n",
       "11.110      1\n",
       "1.382       1\n",
       "2.602       1\n",
       "7.509       1\n",
       "1.914       1\n",
       "8.358       1\n",
       "3.652       1\n",
       "9.214       1\n",
       "3.245       1\n",
       "4.700       1\n",
       "12.474      1\n",
       "10.479      1\n",
       "11.374      1\n",
       "8.405       1\n",
       "7.477       1\n",
       "7.521       1\n",
       "3.912       1\n",
       "9.500       1\n",
       "5.207       1\n",
       "8.085       1\n",
       "10.584      1\n",
       "8.786       1\n",
       "1.535       1\n",
       "5.185       1\n",
       "8.748       1\n",
       "12.333      1\n",
       "Name: touchY, Length: 3914, dtype: int64"
      ]
     },
     "execution_count": 109,
     "metadata": {},
     "output_type": "execute_result"
    }
   ],
   "source": [
    "clicks['touchY'].value_counts()"
   ]
  },
  {
   "cell_type": "code",
   "execution_count": 110,
   "metadata": {},
   "outputs": [],
   "source": [
    "clicks['touchY']=clicks['touchY'].astype(np.float16)"
   ]
  },
  {
   "cell_type": "code",
   "execution_count": 177,
   "metadata": {},
   "outputs": [
    {
     "data": {
      "text/plain": [
       "1891515180541284343    25549\n",
       "1494519392962156891      739\n",
       "5016171802147987303       58\n",
       "6323871695571587575        5\n",
       "Name: ref_type, dtype: int64"
      ]
     },
     "execution_count": 177,
     "metadata": {},
     "output_type": "execute_result"
    }
   ],
   "source": [
    "#pocos grupos, por eso lo paso a tipo 'category'\n",
    "clicks['ref_type']=clicks['ref_type'].astype('category')\n",
    "clicks['ref_type'].value_counts()"
   ]
  },
  {
   "cell_type": "code",
   "execution_count": 112,
   "metadata": {
    "scrolled": true
   },
   "outputs": [
    {
     "data": {
      "text/plain": [
       "4063522808706112974    41\n",
       "6841615430383729819    32\n",
       "1244272413279716745    26\n",
       "871778630200697460     21\n",
       "1486699123421703687    21\n",
       "5087801386146573665    20\n",
       "925803901826809324     17\n",
       "5410279713092214908    16\n",
       "6972928558719957056    16\n",
       "5141358577301248038    16\n",
       "519658456951133298     16\n",
       "1840632706493884506    16\n",
       "1331942267794810997    14\n",
       "1211156366060784398    14\n",
       "1800317677967270083    14\n",
       "8649985029035959510    14\n",
       "6720955205547143860    14\n",
       "8292793494956750501    14\n",
       "9122294037688413433    14\n",
       "4087245142961821607    13\n",
       "2878289124029282270    13\n",
       "4743839512322600375    12\n",
       "1022865914163198106    12\n",
       "9013086364156440526    12\n",
       "2108916708309430205    12\n",
       "7298861376107043945    12\n",
       "2161849021063988604    12\n",
       "5137915707382060256    12\n",
       "3272242210010018861    12\n",
       "7539041810210425316    12\n",
       "                       ..\n",
       "1131153511584379029     1\n",
       "6624531815907593673     1\n",
       "8656402155431163452     1\n",
       "5268701924955006446     1\n",
       "5564448142525849564     1\n",
       "1534878130600836246     1\n",
       "2721577658846468141     1\n",
       "3024919309800578161     1\n",
       "7297417774127064951     1\n",
       "5524585068903496802     1\n",
       "394473971679734325      1\n",
       "7453302911760625930     1\n",
       "6447861779766156329     1\n",
       "653043061982211997      1\n",
       "2491842654628403422     1\n",
       "6511023829661823187     1\n",
       "9175404653347321189     1\n",
       "6752116959863280974     1\n",
       "6573047323411025370     1\n",
       "9028394446374452106     1\n",
       "2893868540560269043     1\n",
       "691960130017793790      1\n",
       "6546380539692069194     1\n",
       "1796736044818719734     1\n",
       "1414614857948668342     1\n",
       "809339458732978450      1\n",
       "5770011850414347376     1\n",
       "2386493467830238838     1\n",
       "2808413339987153756     1\n",
       "3526167154319643975     1\n",
       "Name: ref_hash, Length: 17119, dtype: int64"
      ]
     },
     "execution_count": 112,
     "metadata": {},
     "output_type": "execute_result"
    }
   ],
   "source": [
    "clicks['ref_hash'].value_counts()"
   ]
  }
 ],
 "metadata": {
  "kernelspec": {
   "display_name": "Python 3",
   "language": "python",
   "name": "python3"
  },
  "language_info": {
   "codemirror_mode": {
    "name": "ipython",
    "version": 3
   },
   "file_extension": ".py",
   "mimetype": "text/x-python",
   "name": "python",
   "nbconvert_exporter": "python",
   "pygments_lexer": "ipython3",
   "version": "3.5.2"
  }
 },
 "nbformat": 4,
 "nbformat_minor": 2
}
