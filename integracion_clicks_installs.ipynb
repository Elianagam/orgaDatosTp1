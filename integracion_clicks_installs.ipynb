{
 "cells": [
  {
   "cell_type": "code",
   "execution_count": 4,
   "metadata": {},
   "outputs": [],
   "source": [
    "import pandas as pd\n",
    "import numpy as np\n",
    "import matplotlib.pyplot as plt\n",
    "import seaborn as sns\n",
    "%matplotlib inline\n",
    "from pandas import DataFrame\n",
    "from itertools import cycle, islice\n",
    "from matplotlib.colors import ListedColormap\n",
    "from pandas.plotting import table"
   ]
  },
  {
   "cell_type": "code",
   "execution_count": 15,
   "metadata": {},
   "outputs": [],
   "source": [
    "dtypes_dict = {'advertiser_id':'category', 'action_id': np.float64, 'source_id': np.int8, \\\n",
    "                'country_code': np.int64, 'latitude': np.float64, 'longitude': np.float64, 'wifi_connection': bool, \\\n",
    "                'carrier_id': np.float16, 'os_minor': np.float32, 'os_major': np.float32, 'agent_device': np.float64, \\\n",
    "                'specs_brand': 'category', 'brand': np.float16, 'timeToClick': np.float64, 'touchX': np.float16, \\\n",
    "                'touchY': np.float16, 'ref_type': 'category', 'ref_hash': np.int64}\n",
    "\n",
    "clicks = pd.read_csv('data/clicks.csv.gzip', dtype=dtypes_dict, parse_dates=['created'])\n",
    "\n",
    "dtypes_dict = {'created':'str', 'application_id': 'category', 'ref_type': 'category', 'device_brand': np.float32, \\\n",
    "                'device_countrycode': 'category', 'device_languaje': 'category'}\n",
    "\n",
    "installs = pd.read_csv('data/installs.csv.gzip', dtype=dtypes_dict, parse_dates=['created'])\n",
    "installs.drop('click_hash', axis=1, inplace=True) # Elimino esta columna por tener todos Nan"
   ]
  },
  {
   "cell_type": "code",
   "execution_count": 4,
   "metadata": {},
   "outputs": [
    {
     "data": {
      "text/html": [
       "<div>\n",
       "<style scoped>\n",
       "    .dataframe tbody tr th:only-of-type {\n",
       "        vertical-align: middle;\n",
       "    }\n",
       "\n",
       "    .dataframe tbody tr th {\n",
       "        vertical-align: top;\n",
       "    }\n",
       "\n",
       "    .dataframe thead th {\n",
       "        text-align: right;\n",
       "    }\n",
       "</style>\n",
       "<table border=\"1\" class=\"dataframe\">\n",
       "  <thead>\n",
       "    <tr style=\"text-align: right;\">\n",
       "      <th></th>\n",
       "      <th>advertiser_id</th>\n",
       "      <th>action_id</th>\n",
       "      <th>source_id</th>\n",
       "      <th>created</th>\n",
       "      <th>country_code</th>\n",
       "      <th>latitude</th>\n",
       "      <th>longitude</th>\n",
       "      <th>wifi_connection</th>\n",
       "      <th>carrier_id</th>\n",
       "      <th>trans_id_x</th>\n",
       "      <th>...</th>\n",
       "      <th>device_brand</th>\n",
       "      <th>device_model</th>\n",
       "      <th>session_user_agent</th>\n",
       "      <th>user_agent</th>\n",
       "      <th>event_uuid</th>\n",
       "      <th>kind</th>\n",
       "      <th>wifi</th>\n",
       "      <th>trans_id_y</th>\n",
       "      <th>ip_address</th>\n",
       "      <th>device_language</th>\n",
       "    </tr>\n",
       "  </thead>\n",
       "  <tbody>\n",
       "  </tbody>\n",
       "</table>\n",
       "<p>0 rows × 36 columns</p>\n",
       "</div>"
      ],
      "text/plain": [
       "Empty DataFrame\n",
       "Columns: [advertiser_id, action_id, source_id, created, country_code, latitude, longitude, wifi_connection, carrier_id, trans_id_x, os_minor, agent_device, os_major, specs_brand, brand, timeToClick, touchX, touchY, ref_type_x, ref_hash_x, application_id, ref_type_y, ref_hash_y, attributed, implicit, device_countrycode, device_brand, device_model, session_user_agent, user_agent, event_uuid, kind, wifi, trans_id_y, ip_address, device_language]\n",
       "Index: []\n",
       "\n",
       "[0 rows x 36 columns]"
      ]
     },
     "execution_count": 4,
     "metadata": {},
     "output_type": "execute_result"
    }
   ],
   "source": [
    "pd.merge(clicks, installs, on='created', how='inner')"
   ]
  },
  {
   "cell_type": "code",
   "execution_count": 26,
   "metadata": {},
   "outputs": [
    {
     "data": {
      "text/html": [
       "<div>\n",
       "<style scoped>\n",
       "    .dataframe tbody tr th:only-of-type {\n",
       "        vertical-align: middle;\n",
       "    }\n",
       "\n",
       "    .dataframe tbody tr th {\n",
       "        vertical-align: top;\n",
       "    }\n",
       "\n",
       "    .dataframe thead th {\n",
       "        text-align: right;\n",
       "    }\n",
       "</style>\n",
       "<table border=\"1\" class=\"dataframe\">\n",
       "  <thead>\n",
       "    <tr style=\"text-align: right;\">\n",
       "      <th></th>\n",
       "      <th>advertiser_id</th>\n",
       "      <th>action_id</th>\n",
       "      <th>source_id</th>\n",
       "      <th>created_x</th>\n",
       "      <th>country_code</th>\n",
       "      <th>latitude</th>\n",
       "      <th>longitude</th>\n",
       "      <th>wifi_connection</th>\n",
       "      <th>carrier_id</th>\n",
       "      <th>trans_id</th>\n",
       "      <th>...</th>\n",
       "      <th>device_countrycode</th>\n",
       "      <th>device_brand</th>\n",
       "      <th>device_model</th>\n",
       "      <th>session_user_agent</th>\n",
       "      <th>user_agent</th>\n",
       "      <th>event_uuid</th>\n",
       "      <th>kind</th>\n",
       "      <th>wifi</th>\n",
       "      <th>ip_address</th>\n",
       "      <th>device_language</th>\n",
       "    </tr>\n",
       "  </thead>\n",
       "  <tbody>\n",
       "  </tbody>\n",
       "</table>\n",
       "<p>0 rows × 36 columns</p>\n",
       "</div>"
      ],
      "text/plain": [
       "Empty DataFrame\n",
       "Columns: [advertiser_id, action_id, source_id, created_x, country_code, latitude, longitude, wifi_connection, carrier_id, trans_id, os_minor, agent_device, os_major, specs_brand, brand, timeToClick, touchX, touchY, ref_type_x, ref_hash_x, created_y, application_id, ref_type_y, ref_hash_y, attributed, implicit, device_countrycode, device_brand, device_model, session_user_agent, user_agent, event_uuid, kind, wifi, ip_address, device_language]\n",
       "Index: []\n",
       "\n",
       "[0 rows x 36 columns]"
      ]
     },
     "execution_count": 26,
     "metadata": {},
     "output_type": "execute_result"
    }
   ],
   "source": [
    "pd.merge(clicks, installs, on='trans_id', how='inner')"
   ]
  },
  {
   "cell_type": "code",
   "execution_count": 4,
   "metadata": {},
   "outputs": [
    {
     "data": {
      "text/html": [
       "<div>\n",
       "<style scoped>\n",
       "    .dataframe tbody tr th:only-of-type {\n",
       "        vertical-align: middle;\n",
       "    }\n",
       "\n",
       "    .dataframe tbody tr th {\n",
       "        vertical-align: top;\n",
       "    }\n",
       "\n",
       "    .dataframe thead th {\n",
       "        text-align: right;\n",
       "    }\n",
       "</style>\n",
       "<table border=\"1\" class=\"dataframe\">\n",
       "  <thead>\n",
       "    <tr style=\"text-align: right;\">\n",
       "      <th></th>\n",
       "      <th>advertiser_id</th>\n",
       "      <th>action_id</th>\n",
       "      <th>source_id</th>\n",
       "      <th>created_x</th>\n",
       "      <th>country_code</th>\n",
       "      <th>latitude</th>\n",
       "      <th>longitude</th>\n",
       "      <th>wifi_connection</th>\n",
       "      <th>carrier_id</th>\n",
       "      <th>trans_id_x</th>\n",
       "      <th>...</th>\n",
       "      <th>device_brand</th>\n",
       "      <th>device_model</th>\n",
       "      <th>session_user_agent</th>\n",
       "      <th>user_agent</th>\n",
       "      <th>event_uuid</th>\n",
       "      <th>kind</th>\n",
       "      <th>wifi</th>\n",
       "      <th>trans_id_y</th>\n",
       "      <th>ip_address</th>\n",
       "      <th>device_language</th>\n",
       "    </tr>\n",
       "  </thead>\n",
       "  <tbody>\n",
       "  </tbody>\n",
       "</table>\n",
       "<p>0 rows × 37 columns</p>\n",
       "</div>"
      ],
      "text/plain": [
       "Empty DataFrame\n",
       "Columns: [advertiser_id, action_id, source_id, created_x, country_code, latitude, longitude, wifi_connection, carrier_id, trans_id_x, os_minor, agent_device, os_major, specs_brand, brand, timeToClick, touchX, touchY, ref_type_x, ref_hash_x, created_y, application_id, ref_type_y, ref_hash_y, attributed, implicit, device_countrycode, device_brand, device_model, session_user_agent, user_agent, event_uuid, kind, wifi, trans_id_y, ip_address, device_language]\n",
       "Index: []\n",
       "\n",
       "[0 rows x 37 columns]"
      ]
     },
     "execution_count": 4,
     "metadata": {},
     "output_type": "execute_result"
    }
   ],
   "source": [
    "pd.merge(clicks, installs, left_on='country_code', right_on='device_countrycode', how='inner')"
   ]
  },
  {
   "cell_type": "code",
   "execution_count": 8,
   "metadata": {},
   "outputs": [
    {
     "data": {
      "text/plain": [
       "3008"
      ]
     },
     "execution_count": 8,
     "metadata": {},
     "output_type": "execute_result"
    }
   ],
   "source": [
    "inst_hash_count = installs['ref_hash'].value_counts()\n",
    "inst_all = inst_hash_count.keys()\n",
    "len(inst_all)"
   ]
  },
  {
   "cell_type": "code",
   "execution_count": 19,
   "metadata": {},
   "outputs": [
    {
     "name": "stdout",
     "output_type": "stream",
     "text": [
      "11\n"
     ]
    }
   ],
   "source": [
    "clicks_hash_count = clicks.loc[clicks['ref_hash'].isin(inst_all)]\n",
    "print(len(clicks_hash_count))\n",
    "clicks_con_installs = clicks_hash_count[['created', 'ref_hash']]"
   ]
  },
  {
   "cell_type": "code",
   "execution_count": 20,
   "metadata": {},
   "outputs": [
    {
     "name": "stderr",
     "output_type": "stream",
     "text": [
      "/home/eliana/fiuba/datos7506/envdt/lib/python3.6/site-packages/ipykernel_launcher.py:1: SettingWithCopyWarning: \n",
      "A value is trying to be set on a copy of a slice from a DataFrame.\n",
      "Try using .loc[row_indexer,col_indexer] = value instead\n",
      "\n",
      "See the caveats in the documentation: http://pandas.pydata.org/pandas-docs/stable/indexing.html#indexing-view-versus-copy\n",
      "  \"\"\"Entry point for launching an IPython kernel.\n"
     ]
    },
    {
     "data": {
      "text/html": [
       "<div>\n",
       "<style scoped>\n",
       "    .dataframe tbody tr th:only-of-type {\n",
       "        vertical-align: middle;\n",
       "    }\n",
       "\n",
       "    .dataframe tbody tr th {\n",
       "        vertical-align: top;\n",
       "    }\n",
       "\n",
       "    .dataframe thead th {\n",
       "        text-align: right;\n",
       "    }\n",
       "</style>\n",
       "<table border=\"1\" class=\"dataframe\">\n",
       "  <thead>\n",
       "    <tr style=\"text-align: right;\">\n",
       "      <th></th>\n",
       "      <th>created_clicks</th>\n",
       "      <th>ref_hash</th>\n",
       "      <th>counts_clicks</th>\n",
       "    </tr>\n",
       "  </thead>\n",
       "  <tbody>\n",
       "    <tr>\n",
       "      <th>4790</th>\n",
       "      <td>2019-03-09 01:05:04.020000+00:00</td>\n",
       "      <td>8187571300120427764</td>\n",
       "      <td>1</td>\n",
       "    </tr>\n",
       "    <tr>\n",
       "      <th>15314</th>\n",
       "      <td>2019-03-10 10:29:19.742000+00:00</td>\n",
       "      <td>2369915544093215150</td>\n",
       "      <td>1</td>\n",
       "    </tr>\n",
       "    <tr>\n",
       "      <th>15576</th>\n",
       "      <td>2019-03-10 11:39:33.727000+00:00</td>\n",
       "      <td>3685364020547088390</td>\n",
       "      <td>1</td>\n",
       "    </tr>\n",
       "    <tr>\n",
       "      <th>11256</th>\n",
       "      <td>2019-03-11 13:16:59.223000+00:00</td>\n",
       "      <td>7759178785240189555</td>\n",
       "      <td>2</td>\n",
       "    </tr>\n",
       "    <tr>\n",
       "      <th>12228</th>\n",
       "      <td>2019-03-11 13:59:56.718000+00:00</td>\n",
       "      <td>1254317779988816837</td>\n",
       "      <td>1</td>\n",
       "    </tr>\n",
       "    <tr>\n",
       "      <th>21612</th>\n",
       "      <td>2019-03-12 02:14:06.129000+00:00</td>\n",
       "      <td>7759178785240189555</td>\n",
       "      <td>2</td>\n",
       "    </tr>\n",
       "    <tr>\n",
       "      <th>19629</th>\n",
       "      <td>2019-03-13 00:20:51.518000+00:00</td>\n",
       "      <td>582930240149217282</td>\n",
       "      <td>4</td>\n",
       "    </tr>\n",
       "    <tr>\n",
       "      <th>19636</th>\n",
       "      <td>2019-03-13 00:24:42.253000+00:00</td>\n",
       "      <td>582930240149217282</td>\n",
       "      <td>4</td>\n",
       "    </tr>\n",
       "    <tr>\n",
       "      <th>17990</th>\n",
       "      <td>2019-03-13 02:30:21.888000+00:00</td>\n",
       "      <td>7190737170444985036</td>\n",
       "      <td>1</td>\n",
       "    </tr>\n",
       "    <tr>\n",
       "      <th>19344</th>\n",
       "      <td>2019-03-13 15:46:16.686000+00:00</td>\n",
       "      <td>582930240149217282</td>\n",
       "      <td>4</td>\n",
       "    </tr>\n",
       "    <tr>\n",
       "      <th>18942</th>\n",
       "      <td>2019-03-13 19:44:45.440000+00:00</td>\n",
       "      <td>582930240149217282</td>\n",
       "      <td>4</td>\n",
       "    </tr>\n",
       "  </tbody>\n",
       "</table>\n",
       "</div>"
      ],
      "text/plain": [
       "                        created_clicks             ref_hash  counts_clicks\n",
       "4790  2019-03-09 01:05:04.020000+00:00  8187571300120427764              1\n",
       "15314 2019-03-10 10:29:19.742000+00:00  2369915544093215150              1\n",
       "15576 2019-03-10 11:39:33.727000+00:00  3685364020547088390              1\n",
       "11256 2019-03-11 13:16:59.223000+00:00  7759178785240189555              2\n",
       "12228 2019-03-11 13:59:56.718000+00:00  1254317779988816837              1\n",
       "21612 2019-03-12 02:14:06.129000+00:00  7759178785240189555              2\n",
       "19629 2019-03-13 00:20:51.518000+00:00   582930240149217282              4\n",
       "19636 2019-03-13 00:24:42.253000+00:00   582930240149217282              4\n",
       "17990 2019-03-13 02:30:21.888000+00:00  7190737170444985036              1\n",
       "19344 2019-03-13 15:46:16.686000+00:00   582930240149217282              4\n",
       "18942 2019-03-13 19:44:45.440000+00:00   582930240149217282              4"
      ]
     },
     "execution_count": 20,
     "metadata": {},
     "output_type": "execute_result"
    }
   ],
   "source": [
    "clicks_con_installs['counts'] = clicks_con_installs.groupby(['ref_hash'])['ref_hash'].transform('count')\n",
    "clicks_con_installs.columns = ['created_clicks', 'ref_hash', 'counts_clicks']\n",
    "clicks_con_installs = clicks_con_installs.sort_values(by='created_clicks')\n",
    "clicks_con_installs"
   ]
  },
  {
   "cell_type": "code",
   "execution_count": 21,
   "metadata": {},
   "outputs": [],
   "source": [
    "clicks_installs = clicks_con_installs['ref_hash'].value_counts().index"
   ]
  },
  {
   "cell_type": "code",
   "execution_count": 22,
   "metadata": {},
   "outputs": [
    {
     "data": {
      "text/html": [
       "<div>\n",
       "<style scoped>\n",
       "    .dataframe tbody tr th:only-of-type {\n",
       "        vertical-align: middle;\n",
       "    }\n",
       "\n",
       "    .dataframe tbody tr th {\n",
       "        vertical-align: top;\n",
       "    }\n",
       "\n",
       "    .dataframe thead th {\n",
       "        text-align: right;\n",
       "    }\n",
       "</style>\n",
       "<table border=\"1\" class=\"dataframe\">\n",
       "  <thead>\n",
       "    <tr style=\"text-align: right;\">\n",
       "      <th></th>\n",
       "      <th>created_installs</th>\n",
       "      <th>ref_hash</th>\n",
       "    </tr>\n",
       "  </thead>\n",
       "  <tbody>\n",
       "    <tr>\n",
       "      <th>274</th>\n",
       "      <td>2019-03-06 03:30:01.796</td>\n",
       "      <td>1254317779988816837</td>\n",
       "    </tr>\n",
       "    <tr>\n",
       "      <th>1831</th>\n",
       "      <td>2019-03-06 10:27:43.604</td>\n",
       "      <td>8187571300120427764</td>\n",
       "    </tr>\n",
       "    <tr>\n",
       "      <th>1816</th>\n",
       "      <td>2019-03-06 21:33:40.647</td>\n",
       "      <td>582930240149217282</td>\n",
       "    </tr>\n",
       "    <tr>\n",
       "      <th>1955</th>\n",
       "      <td>2019-03-08 00:30:02.714</td>\n",
       "      <td>3685364020547088390</td>\n",
       "    </tr>\n",
       "    <tr>\n",
       "      <th>1974</th>\n",
       "      <td>2019-03-08 14:10:39.335</td>\n",
       "      <td>7759178785240189555</td>\n",
       "    </tr>\n",
       "    <tr>\n",
       "      <th>2651</th>\n",
       "      <td>2019-03-10 08:30:15.346</td>\n",
       "      <td>2369915544093215150</td>\n",
       "    </tr>\n",
       "    <tr>\n",
       "      <th>2491</th>\n",
       "      <td>2019-03-11 09:38:31.388</td>\n",
       "      <td>7190737170444985036</td>\n",
       "    </tr>\n",
       "  </tbody>\n",
       "</table>\n",
       "</div>"
      ],
      "text/plain": [
       "            created_installs             ref_hash\n",
       "274  2019-03-06 03:30:01.796  1254317779988816837\n",
       "1831 2019-03-06 10:27:43.604  8187571300120427764\n",
       "1816 2019-03-06 21:33:40.647   582930240149217282\n",
       "1955 2019-03-08 00:30:02.714  3685364020547088390\n",
       "1974 2019-03-08 14:10:39.335  7759178785240189555\n",
       "2651 2019-03-10 08:30:15.346  2369915544093215150\n",
       "2491 2019-03-11 09:38:31.388  7190737170444985036"
      ]
     },
     "execution_count": 22,
     "metadata": {},
     "output_type": "execute_result"
    }
   ],
   "source": [
    "installs_ = installs.loc[installs['ref_hash'].isin(clicks_installs)][['created', 'ref_hash']]\n",
    "installs_.columns = ['created_installs', 'ref_hash']\n",
    "installs_ = installs_.sort_values(by='created_installs')\n",
    "installs_"
   ]
  },
  {
   "cell_type": "code",
   "execution_count": 23,
   "metadata": {},
   "outputs": [],
   "source": [
    "merge_clicks_installs = pd.merge(clicks_con_installs, installs_, on='ref_hash')"
   ]
  },
  {
   "cell_type": "code",
   "execution_count": 24,
   "metadata": {},
   "outputs": [],
   "source": [
    "merge_clicks_installs['created_clicks'] = merge_clicks_installs['created_clicks'].dt.strftime('%Y-%m-%d %H:%M:%S')\n",
    "merge_clicks_installs['created_installs'] = pd.to_datetime(merge_clicks_installs['created_installs'],\\\n",
    "                                                          format='%Y-%m-%d %H:%M:%S')\n",
    "merge_clicks_installs['created_installs'] = merge_clicks_installs['created_installs'].dt.strftime('%Y-%m-%d %H:%M:%S')"
   ]
  },
  {
   "cell_type": "code",
   "execution_count": 25,
   "metadata": {},
   "outputs": [],
   "source": [
    "merge_clicks_installs['created_clicks'] = merge_clicks_installs['created_clicks'].astype(np.datetime64)\n",
    "merge_clicks_installs['created_installs'] = merge_clicks_installs['created_installs'].astype(np.datetime64)"
   ]
  },
  {
   "cell_type": "code",
   "execution_count": 26,
   "metadata": {},
   "outputs": [
    {
     "name": "stdout",
     "output_type": "stream",
     "text": [
      "2019-03-09 01:05:04\n",
      "2019-03-06 03:30:01\n"
     ]
    }
   ],
   "source": [
    "min_created_clicks = merge_clicks_installs['created_clicks'].min()\n",
    "min_created_installs = merge_clicks_installs['created_installs'].min()\n",
    "print(min_created_clicks)\n",
    "print(min_created_installs)"
   ]
  },
  {
   "cell_type": "code",
   "execution_count": 27,
   "metadata": {},
   "outputs": [],
   "source": [
    "merge_clicks_installs['seconds_created_clicks'] = (merge_clicks_installs['created_clicks'] \\\n",
    "                                                   - min_created_clicks).dt.total_seconds()\n",
    "merge_clicks_installs['seconds_diff'] = (merge_clicks_installs['created_installs'] \\\n",
    "                                               - merge_clicks_installs['created_clicks']).dt.total_seconds()"
   ]
  },
  {
   "cell_type": "code",
   "execution_count": 28,
   "metadata": {},
   "outputs": [
    {
     "data": {
      "text/html": [
       "<div>\n",
       "<style scoped>\n",
       "    .dataframe tbody tr th:only-of-type {\n",
       "        vertical-align: middle;\n",
       "    }\n",
       "\n",
       "    .dataframe tbody tr th {\n",
       "        vertical-align: top;\n",
       "    }\n",
       "\n",
       "    .dataframe thead th {\n",
       "        text-align: right;\n",
       "    }\n",
       "</style>\n",
       "<table border=\"1\" class=\"dataframe\">\n",
       "  <thead>\n",
       "    <tr style=\"text-align: right;\">\n",
       "      <th></th>\n",
       "      <th>created_clicks</th>\n",
       "      <th>ref_hash</th>\n",
       "      <th>counts_clicks</th>\n",
       "      <th>created_installs</th>\n",
       "      <th>seconds_created_clicks</th>\n",
       "      <th>seconds_diff</th>\n",
       "    </tr>\n",
       "  </thead>\n",
       "  <tbody>\n",
       "    <tr>\n",
       "      <th>0</th>\n",
       "      <td>2019-03-09 01:05:04</td>\n",
       "      <td>8187571300120427764</td>\n",
       "      <td>1</td>\n",
       "      <td>2019-03-06 10:27:43</td>\n",
       "      <td>0.0</td>\n",
       "      <td>-225441.0</td>\n",
       "    </tr>\n",
       "    <tr>\n",
       "      <th>1</th>\n",
       "      <td>2019-03-10 10:29:19</td>\n",
       "      <td>2369915544093215150</td>\n",
       "      <td>1</td>\n",
       "      <td>2019-03-10 08:30:15</td>\n",
       "      <td>120255.0</td>\n",
       "      <td>-7144.0</td>\n",
       "    </tr>\n",
       "    <tr>\n",
       "      <th>2</th>\n",
       "      <td>2019-03-10 11:39:33</td>\n",
       "      <td>3685364020547088390</td>\n",
       "      <td>1</td>\n",
       "      <td>2019-03-08 00:30:02</td>\n",
       "      <td>124469.0</td>\n",
       "      <td>-212971.0</td>\n",
       "    </tr>\n",
       "    <tr>\n",
       "      <th>3</th>\n",
       "      <td>2019-03-11 13:16:59</td>\n",
       "      <td>7759178785240189555</td>\n",
       "      <td>2</td>\n",
       "      <td>2019-03-08 14:10:39</td>\n",
       "      <td>216715.0</td>\n",
       "      <td>-255980.0</td>\n",
       "    </tr>\n",
       "    <tr>\n",
       "      <th>4</th>\n",
       "      <td>2019-03-12 02:14:06</td>\n",
       "      <td>7759178785240189555</td>\n",
       "      <td>2</td>\n",
       "      <td>2019-03-08 14:10:39</td>\n",
       "      <td>263342.0</td>\n",
       "      <td>-302607.0</td>\n",
       "    </tr>\n",
       "    <tr>\n",
       "      <th>5</th>\n",
       "      <td>2019-03-11 13:59:56</td>\n",
       "      <td>1254317779988816837</td>\n",
       "      <td>1</td>\n",
       "      <td>2019-03-06 03:30:01</td>\n",
       "      <td>219292.0</td>\n",
       "      <td>-469795.0</td>\n",
       "    </tr>\n",
       "    <tr>\n",
       "      <th>6</th>\n",
       "      <td>2019-03-13 00:20:51</td>\n",
       "      <td>582930240149217282</td>\n",
       "      <td>4</td>\n",
       "      <td>2019-03-06 21:33:40</td>\n",
       "      <td>342947.0</td>\n",
       "      <td>-528431.0</td>\n",
       "    </tr>\n",
       "    <tr>\n",
       "      <th>7</th>\n",
       "      <td>2019-03-13 00:24:42</td>\n",
       "      <td>582930240149217282</td>\n",
       "      <td>4</td>\n",
       "      <td>2019-03-06 21:33:40</td>\n",
       "      <td>343178.0</td>\n",
       "      <td>-528662.0</td>\n",
       "    </tr>\n",
       "    <tr>\n",
       "      <th>8</th>\n",
       "      <td>2019-03-13 15:46:16</td>\n",
       "      <td>582930240149217282</td>\n",
       "      <td>4</td>\n",
       "      <td>2019-03-06 21:33:40</td>\n",
       "      <td>398472.0</td>\n",
       "      <td>-583956.0</td>\n",
       "    </tr>\n",
       "    <tr>\n",
       "      <th>9</th>\n",
       "      <td>2019-03-13 19:44:45</td>\n",
       "      <td>582930240149217282</td>\n",
       "      <td>4</td>\n",
       "      <td>2019-03-06 21:33:40</td>\n",
       "      <td>412781.0</td>\n",
       "      <td>-598265.0</td>\n",
       "    </tr>\n",
       "    <tr>\n",
       "      <th>10</th>\n",
       "      <td>2019-03-13 02:30:21</td>\n",
       "      <td>7190737170444985036</td>\n",
       "      <td>1</td>\n",
       "      <td>2019-03-11 09:38:31</td>\n",
       "      <td>350717.0</td>\n",
       "      <td>-147110.0</td>\n",
       "    </tr>\n",
       "  </tbody>\n",
       "</table>\n",
       "</div>"
      ],
      "text/plain": [
       "        created_clicks             ref_hash  counts_clicks  \\\n",
       "0  2019-03-09 01:05:04  8187571300120427764              1   \n",
       "1  2019-03-10 10:29:19  2369915544093215150              1   \n",
       "2  2019-03-10 11:39:33  3685364020547088390              1   \n",
       "3  2019-03-11 13:16:59  7759178785240189555              2   \n",
       "4  2019-03-12 02:14:06  7759178785240189555              2   \n",
       "5  2019-03-11 13:59:56  1254317779988816837              1   \n",
       "6  2019-03-13 00:20:51   582930240149217282              4   \n",
       "7  2019-03-13 00:24:42   582930240149217282              4   \n",
       "8  2019-03-13 15:46:16   582930240149217282              4   \n",
       "9  2019-03-13 19:44:45   582930240149217282              4   \n",
       "10 2019-03-13 02:30:21  7190737170444985036              1   \n",
       "\n",
       "      created_installs  seconds_created_clicks  seconds_diff  \n",
       "0  2019-03-06 10:27:43                     0.0     -225441.0  \n",
       "1  2019-03-10 08:30:15                120255.0       -7144.0  \n",
       "2  2019-03-08 00:30:02                124469.0     -212971.0  \n",
       "3  2019-03-08 14:10:39                216715.0     -255980.0  \n",
       "4  2019-03-08 14:10:39                263342.0     -302607.0  \n",
       "5  2019-03-06 03:30:01                219292.0     -469795.0  \n",
       "6  2019-03-06 21:33:40                342947.0     -528431.0  \n",
       "7  2019-03-06 21:33:40                343178.0     -528662.0  \n",
       "8  2019-03-06 21:33:40                398472.0     -583956.0  \n",
       "9  2019-03-06 21:33:40                412781.0     -598265.0  \n",
       "10 2019-03-11 09:38:31                350717.0     -147110.0  "
      ]
     },
     "execution_count": 28,
     "metadata": {},
     "output_type": "execute_result"
    }
   ],
   "source": [
    "merge_clicks_installs"
   ]
  },
  {
   "cell_type": "code",
   "execution_count": 31,
   "metadata": {},
   "outputs": [
    {
     "data": {
      "image/png": "[encoded data removed]",
      "text/plain": [
       "<Figure size 720x504 with 1 Axes>"
      ]
     },
     "metadata": {},
     "output_type": "display_data"
    }
   ],
   "source": [
    "plt.figure(figsize=(10, 7))\n",
    "sns.set_style(\"whitegrid\")\n",
    "diff_time_installs = sns.regplot(x=\"seconds_created_clicks\", y=\"seconds_diff\", x_estimator=np.mean, \n",
    "                  data=merge_clicks_installs)\n",
    "diff_time_installs.set_title(\"Diferencia de tiempo entre instalaciones y clicks\", fontsize =20)\n",
    "diff_time_installs.set_xlabel(\"Segundos de la Primera instalacion\", fontsize = 12)\n",
    "diff_time_installs.set_ylabel(\"Segundos de diferencia desde que se hizo click e instalo\", fontsize = 12)\n",
    "plt.savefig('image/installs_clicks_line_time_diff.png', bbox_inches = 'tight', pad_inches = 0.1)\n",
    "plt.show()"
   ]
  }
 ],
 "metadata": {
  "kernelspec": {
   "display_name": "Python 3",
   "language": "python",
   "name": "python3"
  },
  "language_info": {
   "codemirror_mode": {
    "name": "ipython",
    "version": 3
   },
   "file_extension": ".py",
   "mimetype": "text/x-python",
   "name": "python",
   "nbconvert_exporter": "python",
   "pygments_lexer": "ipython3",
   "version": "3.6.7"
  }
 },
 "nbformat": 4,
 "nbformat_minor": 2
}
