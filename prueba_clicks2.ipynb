{
 "cells": [
  {
   "cell_type": "code",
   "execution_count": 1,
   "metadata": {},
   "outputs": [],
   "source": [
    "import pandas as pd\n",
    "import numpy as np"
   ]
  },
  {
   "cell_type": "code",
   "execution_count": 2,
   "metadata": {},
   "outputs": [],
   "source": [
    "clicks = pd.read_csv('data/train_clicks.csv.gzip')"
   ]
  },
  {
   "cell_type": "code",
   "execution_count": 3,
   "metadata": {},
   "outputs": [
    {
     "data": {
      "text/html": [
       "<div>\n",
       "<style scoped>\n",
       "    .dataframe tbody tr th:only-of-type {\n",
       "        vertical-align: middle;\n",
       "    }\n",
       "\n",
       "    .dataframe tbody tr th {\n",
       "        vertical-align: top;\n",
       "    }\n",
       "\n",
       "    .dataframe thead th {\n",
       "        text-align: right;\n",
       "    }\n",
       "</style>\n",
       "<table border=\"1\" class=\"dataframe\">\n",
       "  <thead>\n",
       "    <tr style=\"text-align: right;\">\n",
       "      <th></th>\n",
       "      <th>0</th>\n",
       "      <th>1</th>\n",
       "      <th>2</th>\n",
       "      <th>3</th>\n",
       "      <th>4</th>\n",
       "    </tr>\n",
       "  </thead>\n",
       "  <tbody>\n",
       "    <tr>\n",
       "      <th>advertiser_id</th>\n",
       "      <td>2</td>\n",
       "      <td>0</td>\n",
       "      <td>0</td>\n",
       "      <td>2</td>\n",
       "      <td>2</td>\n",
       "    </tr>\n",
       "    <tr>\n",
       "      <th>action_id</th>\n",
       "      <td>NaN</td>\n",
       "      <td>NaN</td>\n",
       "      <td>NaN</td>\n",
       "      <td>NaN</td>\n",
       "      <td>NaN</td>\n",
       "    </tr>\n",
       "    <tr>\n",
       "      <th>source_id</th>\n",
       "      <td>4</td>\n",
       "      <td>0</td>\n",
       "      <td>0</td>\n",
       "      <td>3</td>\n",
       "      <td>3</td>\n",
       "    </tr>\n",
       "    <tr>\n",
       "      <th>created</th>\n",
       "      <td>2019-03-06T22:42:12.755Z</td>\n",
       "      <td>2019-03-08T10:24:30.641Z</td>\n",
       "      <td>2019-03-08T15:24:16.069Z</td>\n",
       "      <td>2019-03-06T03:08:51.543Z</td>\n",
       "      <td>2019-03-06T03:32:55.570Z</td>\n",
       "    </tr>\n",
       "    <tr>\n",
       "      <th>country_code</th>\n",
       "      <td>6333597102633388268</td>\n",
       "      <td>6333597102633388268</td>\n",
       "      <td>6333597102633388268</td>\n",
       "      <td>6333597102633388268</td>\n",
       "      <td>6333597102633388268</td>\n",
       "    </tr>\n",
       "    <tr>\n",
       "      <th>latitude</th>\n",
       "      <td>1.20569</td>\n",
       "      <td>1.21892</td>\n",
       "      <td>1.20569</td>\n",
       "      <td>1.20569</td>\n",
       "      <td>1.20569</td>\n",
       "    </tr>\n",
       "    <tr>\n",
       "      <th>longitude</th>\n",
       "      <td>1.07023</td>\n",
       "      <td>1.07121</td>\n",
       "      <td>1.07023</td>\n",
       "      <td>1.07023</td>\n",
       "      <td>1.07023</td>\n",
       "    </tr>\n",
       "    <tr>\n",
       "      <th>wifi_connection</th>\n",
       "      <td>False</td>\n",
       "      <td>False</td>\n",
       "      <td>False</td>\n",
       "      <td>False</td>\n",
       "      <td>False</td>\n",
       "    </tr>\n",
       "    <tr>\n",
       "      <th>carrier_id</th>\n",
       "      <td>1</td>\n",
       "      <td>4</td>\n",
       "      <td>6</td>\n",
       "      <td>45</td>\n",
       "      <td>45</td>\n",
       "    </tr>\n",
       "    <tr>\n",
       "      <th>trans_id</th>\n",
       "      <td>iGgClCM9exiHF4K31g94XmvHEBSLKIY</td>\n",
       "      <td>MMHTOJ6qKAOeIH_Eywh1KIcCaxtO9oM</td>\n",
       "      <td>vIrEIdf9izUaWdAri6Ezk7T3nHFvNQU</td>\n",
       "      <td>YaKxxEAs2UmZhSpRfiCO9Zpa82B_AKM</td>\n",
       "      <td>X5XTOcYQovkl6yadYdAD7xioVGU9jiY</td>\n",
       "    </tr>\n",
       "    <tr>\n",
       "      <th>os_minor</th>\n",
       "      <td>6.76814e+18</td>\n",
       "      <td>3.02522e+18</td>\n",
       "      <td>5.97566e+18</td>\n",
       "      <td>6.76814e+18</td>\n",
       "      <td>6.76814e+18</td>\n",
       "    </tr>\n",
       "    <tr>\n",
       "      <th>agent_device</th>\n",
       "      <td>NaN</td>\n",
       "      <td>NaN</td>\n",
       "      <td>NaN</td>\n",
       "      <td>NaN</td>\n",
       "      <td>NaN</td>\n",
       "    </tr>\n",
       "    <tr>\n",
       "      <th>os_major</th>\n",
       "      <td>3.07285e+18</td>\n",
       "      <td>1.77409e+18</td>\n",
       "      <td>3.07285e+18</td>\n",
       "      <td>3.07285e+18</td>\n",
       "      <td>3.07285e+18</td>\n",
       "    </tr>\n",
       "    <tr>\n",
       "      <th>specs_brand</th>\n",
       "      <td>2733035977666442898</td>\n",
       "      <td>392184377613098015</td>\n",
       "      <td>392184377613098015</td>\n",
       "      <td>2733035977666442898</td>\n",
       "      <td>2733035977666442898</td>\n",
       "    </tr>\n",
       "    <tr>\n",
       "      <th>brand</th>\n",
       "      <td>NaN</td>\n",
       "      <td>NaN</td>\n",
       "      <td>NaN</td>\n",
       "      <td>NaN</td>\n",
       "      <td>NaN</td>\n",
       "    </tr>\n",
       "    <tr>\n",
       "      <th>timeToClick</th>\n",
       "      <td>1.563</td>\n",
       "      <td>NaN</td>\n",
       "      <td>NaN</td>\n",
       "      <td>19.013</td>\n",
       "      <td>28.11</td>\n",
       "    </tr>\n",
       "    <tr>\n",
       "      <th>touchX</th>\n",
       "      <td>0.905</td>\n",
       "      <td>NaN</td>\n",
       "      <td>0.946</td>\n",
       "      <td>0.035</td>\n",
       "      <td>0.054</td>\n",
       "    </tr>\n",
       "    <tr>\n",
       "      <th>touchY</th>\n",
       "      <td>0.078</td>\n",
       "      <td>NaN</td>\n",
       "      <td>0.473</td>\n",
       "      <td>0.431</td>\n",
       "      <td>0.423</td>\n",
       "    </tr>\n",
       "    <tr>\n",
       "      <th>ref_type</th>\n",
       "      <td>1891515180541284343</td>\n",
       "      <td>1891515180541284343</td>\n",
       "      <td>1891515180541284343</td>\n",
       "      <td>1891515180541284343</td>\n",
       "      <td>1891515180541284343</td>\n",
       "    </tr>\n",
       "    <tr>\n",
       "      <th>ref_hash</th>\n",
       "      <td>1904083516767779093</td>\n",
       "      <td>3086509764961796666</td>\n",
       "      <td>6958163894863846647</td>\n",
       "      <td>4368617728156436525</td>\n",
       "      <td>4368617728156436525</td>\n",
       "    </tr>\n",
       "  </tbody>\n",
       "</table>\n",
       "</div>"
      ],
      "text/plain": [
       "                                               0  \\\n",
       "advertiser_id                                  2   \n",
       "action_id                                    NaN   \n",
       "source_id                                      4   \n",
       "created                 2019-03-06T22:42:12.755Z   \n",
       "country_code                 6333597102633388268   \n",
       "latitude                                 1.20569   \n",
       "longitude                                1.07023   \n",
       "wifi_connection                            False   \n",
       "carrier_id                                     1   \n",
       "trans_id         iGgClCM9exiHF4K31g94XmvHEBSLKIY   \n",
       "os_minor                             6.76814e+18   \n",
       "agent_device                                 NaN   \n",
       "os_major                             3.07285e+18   \n",
       "specs_brand                  2733035977666442898   \n",
       "brand                                        NaN   \n",
       "timeToClick                                1.563   \n",
       "touchX                                     0.905   \n",
       "touchY                                     0.078   \n",
       "ref_type                     1891515180541284343   \n",
       "ref_hash                     1904083516767779093   \n",
       "\n",
       "                                               1  \\\n",
       "advertiser_id                                  0   \n",
       "action_id                                    NaN   \n",
       "source_id                                      0   \n",
       "created                 2019-03-08T10:24:30.641Z   \n",
       "country_code                 6333597102633388268   \n",
       "latitude                                 1.21892   \n",
       "longitude                                1.07121   \n",
       "wifi_connection                            False   \n",
       "carrier_id                                     4   \n",
       "trans_id         MMHTOJ6qKAOeIH_Eywh1KIcCaxtO9oM   \n",
       "os_minor                             3.02522e+18   \n",
       "agent_device                                 NaN   \n",
       "os_major                             1.77409e+18   \n",
       "specs_brand                   392184377613098015   \n",
       "brand                                        NaN   \n",
       "timeToClick                                  NaN   \n",
       "touchX                                       NaN   \n",
       "touchY                                       NaN   \n",
       "ref_type                     1891515180541284343   \n",
       "ref_hash                     3086509764961796666   \n",
       "\n",
       "                                               2  \\\n",
       "advertiser_id                                  0   \n",
       "action_id                                    NaN   \n",
       "source_id                                      0   \n",
       "created                 2019-03-08T15:24:16.069Z   \n",
       "country_code                 6333597102633388268   \n",
       "latitude                                 1.20569   \n",
       "longitude                                1.07023   \n",
       "wifi_connection                            False   \n",
       "carrier_id                                     6   \n",
       "trans_id         vIrEIdf9izUaWdAri6Ezk7T3nHFvNQU   \n",
       "os_minor                             5.97566e+18   \n",
       "agent_device                                 NaN   \n",
       "os_major                             3.07285e+18   \n",
       "specs_brand                   392184377613098015   \n",
       "brand                                        NaN   \n",
       "timeToClick                                  NaN   \n",
       "touchX                                     0.946   \n",
       "touchY                                     0.473   \n",
       "ref_type                     1891515180541284343   \n",
       "ref_hash                     6958163894863846647   \n",
       "\n",
       "                                               3  \\\n",
       "advertiser_id                                  2   \n",
       "action_id                                    NaN   \n",
       "source_id                                      3   \n",
       "created                 2019-03-06T03:08:51.543Z   \n",
       "country_code                 6333597102633388268   \n",
       "latitude                                 1.20569   \n",
       "longitude                                1.07023   \n",
       "wifi_connection                            False   \n",
       "carrier_id                                    45   \n",
       "trans_id         YaKxxEAs2UmZhSpRfiCO9Zpa82B_AKM   \n",
       "os_minor                             6.76814e+18   \n",
       "agent_device                                 NaN   \n",
       "os_major                             3.07285e+18   \n",
       "specs_brand                  2733035977666442898   \n",
       "brand                                        NaN   \n",
       "timeToClick                               19.013   \n",
       "touchX                                     0.035   \n",
       "touchY                                     0.431   \n",
       "ref_type                     1891515180541284343   \n",
       "ref_hash                     4368617728156436525   \n",
       "\n",
       "                                               4  \n",
       "advertiser_id                                  2  \n",
       "action_id                                    NaN  \n",
       "source_id                                      3  \n",
       "created                 2019-03-06T03:32:55.570Z  \n",
       "country_code                 6333597102633388268  \n",
       "latitude                                 1.20569  \n",
       "longitude                                1.07023  \n",
       "wifi_connection                            False  \n",
       "carrier_id                                    45  \n",
       "trans_id         X5XTOcYQovkl6yadYdAD7xioVGU9jiY  \n",
       "os_minor                             6.76814e+18  \n",
       "agent_device                                 NaN  \n",
       "os_major                             3.07285e+18  \n",
       "specs_brand                  2733035977666442898  \n",
       "brand                                        NaN  \n",
       "timeToClick                                28.11  \n",
       "touchX                                     0.054  \n",
       "touchY                                     0.423  \n",
       "ref_type                     1891515180541284343  \n",
       "ref_hash                     4368617728156436525  "
      ]
     },
     "execution_count": 3,
     "metadata": {},
     "output_type": "execute_result"
    }
   ],
   "source": [
    "clicks.head().T"
   ]
  },
  {
   "cell_type": "code",
   "execution_count": 7,
   "metadata": {},
   "outputs": [
    {
     "data": {
      "text/plain": [
       "advertiser_id          0\n",
       "action_id          26351\n",
       "source_id              0\n",
       "created                0\n",
       "country_code           0\n",
       "latitude               0\n",
       "longitude              0\n",
       "wifi_connection        0\n",
       "carrier_id            11\n",
       "trans_id               0\n",
       "os_minor              12\n",
       "agent_device       23108\n",
       "os_major              12\n",
       "specs_brand            0\n",
       "brand              20116\n",
       "timeToClick         3374\n",
       "touchX              3340\n",
       "touchY              3340\n",
       "ref_type               0\n",
       "ref_hash               0\n",
       "dtype: int64"
      ]
     },
     "execution_count": 7,
     "metadata": {},
     "output_type": "execute_result"
    }
   ],
   "source": [
    "clicks.isnull().sum()"
   ]
  },
  {
   "cell_type": "code",
   "execution_count": 8,
   "metadata": {},
   "outputs": [
    {
     "data": {
      "text/plain": [
       "26351"
      ]
     },
     "execution_count": 8,
     "metadata": {},
     "output_type": "execute_result"
    }
   ],
   "source": [
    "len(clicks)"
   ]
  },
  {
   "cell_type": "code",
   "execution_count": 44,
   "metadata": {},
   "outputs": [],
   "source": [
    "#agent_device posee algunos grupos\n",
    "#clicks['agent_device'].value_counts()"
   ]
  },
  {
   "cell_type": "code",
   "execution_count": 36,
   "metadata": {},
   "outputs": [],
   "source": [
    "clicks.drop('action_id',axis=1,inplace=True)"
   ]
  },
  {
   "cell_type": "code",
   "execution_count": 34,
   "metadata": {},
   "outputs": [
    {
     "data": {
      "text/plain": [
       "2.0     2027\n",
       "0.0     1917\n",
       "1.0     1521\n",
       "4.0      240\n",
       "3.0      186\n",
       "5.0      129\n",
       "6.0      124\n",
       "7.0       32\n",
       "9.0       31\n",
       "8.0       16\n",
       "10.0       8\n",
       "12.0       3\n",
       "13.0       1\n",
       "Name: brand, dtype: int64"
      ]
     },
     "execution_count": 34,
     "metadata": {},
     "output_type": "execute_result"
    }
   ],
   "source": [
    "#hay varios grupos\n",
    "clicks['brand'].value_counts()"
   ]
  },
  {
   "cell_type": "code",
   "execution_count": 33,
   "metadata": {},
   "outputs": [],
   "source": [
    "#reduzco el tamaño\n",
    "clicks['brand']=clicks['brand'].astype(np.float16)"
   ]
  },
  {
   "cell_type": "code",
   "execution_count": 38,
   "metadata": {},
   "outputs": [
    {
     "data": {
      "text/plain": [
       "3    26263\n",
       "0       70\n",
       "2       12\n",
       "7        2\n",
       "1        2\n",
       "8        1\n",
       "5        1\n",
       "Name: advertiser_id, dtype: int64"
      ]
     },
     "execution_count": 38,
     "metadata": {},
     "output_type": "execute_result"
    }
   ],
   "source": [
    "#hay varios grupos\n",
    "clicks['advertiser_id'].value_counts()"
   ]
  },
  {
   "cell_type": "code",
   "execution_count": 39,
   "metadata": {},
   "outputs": [],
   "source": [
    "clicks['advertiser_id']=clicks['advertiser_id'].astype(np.int8)"
   ]
  },
  {
   "cell_type": "code",
   "execution_count": 41,
   "metadata": {},
   "outputs": [
    {
     "data": {
      "text/plain": [
       "0     17009\n",
       "1      4298\n",
       "6      3371\n",
       "5      1628\n",
       "2        27\n",
       "3         9\n",
       "10        3\n",
       "7         2\n",
       "4         2\n",
       "9         1\n",
       "8         1\n",
       "Name: source_id, dtype: int64"
      ]
     },
     "execution_count": 41,
     "metadata": {},
     "output_type": "execute_result"
    }
   ],
   "source": [
    "clicks['source_id'].value_counts()"
   ]
  },
  {
   "cell_type": "code",
   "execution_count": 43,
   "metadata": {},
   "outputs": [],
   "source": [
    "clicks['source_id']=clicks['source_id'].astype(np.int8)"
   ]
  },
  {
   "cell_type": "code",
   "execution_count": 46,
   "metadata": {},
   "outputs": [],
   "source": [
    "#clicks['created'].value_counts()"
   ]
  },
  {
   "cell_type": "code",
   "execution_count": 48,
   "metadata": {},
   "outputs": [
    {
     "data": {
      "text/plain": [
       "6333597102633388268    26351\n",
       "Name: country_code, dtype: int64"
      ]
     },
     "execution_count": 48,
     "metadata": {},
     "output_type": "execute_result"
    }
   ],
   "source": [
    "#único country code\n",
    "clicks['country_code'].value_counts()"
   ]
  },
  {
   "cell_type": "code",
   "execution_count": 51,
   "metadata": {},
   "outputs": [],
   "source": [
    "#hay grupos\n",
    "#clicks['latitude'].value_counts()"
   ]
  },
  {
   "cell_type": "code",
   "execution_count": 53,
   "metadata": {},
   "outputs": [],
   "source": [
    "#hay grupos\n",
    "#clicks['longitude'].value_counts()"
   ]
  },
  {
   "cell_type": "code",
   "execution_count": 62,
   "metadata": {},
   "outputs": [],
   "source": [
    "#clicks['wifi_connection'].value_counts()"
   ]
  },
  {
   "cell_type": "code",
   "execution_count": 55,
   "metadata": {},
   "outputs": [],
   "source": [
    "wifi_connection=False"
   ]
  },
  {
   "cell_type": "code",
   "execution_count": 61,
   "metadata": {},
   "outputs": [],
   "source": [
    "#clicks.drop('wifi_connection',axis=1,inplace=True)"
   ]
  },
  {
   "cell_type": "code",
   "execution_count": 63,
   "metadata": {},
   "outputs": [
    {
     "data": {
      "text/plain": [
       "advertiser_id       int8\n",
       "source_id           int8\n",
       "created           object\n",
       "country_code       int64\n",
       "latitude         float64\n",
       "longitude        float64\n",
       "carrier_id       float64\n",
       "trans_id          object\n",
       "os_minor         float64\n",
       "agent_device     float64\n",
       "os_major         float64\n",
       "specs_brand        int64\n",
       "brand            float16\n",
       "timeToClick      float64\n",
       "touchX           float64\n",
       "touchY           float64\n",
       "ref_type           int64\n",
       "ref_hash           int64\n",
       "dtype: object"
      ]
     },
     "execution_count": 63,
     "metadata": {},
     "output_type": "execute_result"
    }
   ],
   "source": [
    "clicks.dtypes"
   ]
  },
  {
   "cell_type": "code",
   "execution_count": 65,
   "metadata": {},
   "outputs": [],
   "source": [
    "#hay grupos\n",
    "#clicks['carrier_id'].value_counts()"
   ]
  },
  {
   "cell_type": "code",
   "execution_count": 67,
   "metadata": {},
   "outputs": [],
   "source": [
    "#no hay mucho por analizar acá\n",
    "#clicks['trans_id'].value_counts()"
   ]
  },
  {
   "cell_type": "code",
   "execution_count": 72,
   "metadata": {},
   "outputs": [],
   "source": [
    "#hay varios grupos\n",
    "#clicks['os_minor'].value_counts()"
   ]
  },
  {
   "cell_type": "code",
   "execution_count": 71,
   "metadata": {},
   "outputs": [],
   "source": [
    "#algunos grupos\n",
    "#clicks['agent_device'].value_counts()"
   ]
  },
  {
   "cell_type": "code",
   "execution_count": 74,
   "metadata": {},
   "outputs": [
    {
     "data": {
      "text/plain": [
       "3.072849e+18    7430\n",
       "4.566454e+18    6922\n",
       "1.774085e+18    6304\n",
       "7.452406e+18    3669\n",
       "5.745805e+18     818\n",
       "6.693579e+18     616\n",
       "1.563830e+18     445\n",
       "2.835312e+18      64\n",
       "7.499732e+18      41\n",
       "4.072211e+18      20\n",
       "7.436481e+17       8\n",
       "6.928183e+18       2\n",
       "Name: os_major, dtype: int64"
      ]
     },
     "execution_count": 74,
     "metadata": {},
     "output_type": "execute_result"
    }
   ],
   "source": [
    "#varios grupos\n",
    "clicks['os_major'].value_counts()"
   ]
  },
  {
   "cell_type": "code",
   "execution_count": 76,
   "metadata": {},
   "outputs": [
    {
     "data": {
      "text/plain": [
       "392184377613098015     16172\n",
       "2733035977666442898    10164\n",
       "8930605132947907029       10\n",
       "3855167788531275156        4\n",
       "5675295985273558497        1\n",
       "Name: specs_brand, dtype: int64"
      ]
     },
     "execution_count": 76,
     "metadata": {},
     "output_type": "execute_result"
    }
   ],
   "source": [
    "#muchos grupos\n",
    "clicks['specs_brand'].value_counts()"
   ]
  },
  {
   "cell_type": "code",
   "execution_count": 79,
   "metadata": {},
   "outputs": [],
   "source": [
    "#clicks['timeToClick'].value_counts()"
   ]
  },
  {
   "cell_type": "code",
   "execution_count": 81,
   "metadata": {},
   "outputs": [],
   "source": [
    "#clicks['touchX'].value_counts()"
   ]
  },
  {
   "cell_type": "code",
   "execution_count": 83,
   "metadata": {},
   "outputs": [],
   "source": [
    "#clicks['touchY'].value_counts()"
   ]
  }
 ],
 "metadata": {
  "kernelspec": {
   "display_name": "Python 3",
   "language": "python",
   "name": "python3"
  },
  "language_info": {
   "codemirror_mode": {
    "name": "ipython",
    "version": 3
   },
   "file_extension": ".py",
   "mimetype": "text/x-python",
   "name": "python",
   "nbconvert_exporter": "python",
   "pygments_lexer": "ipython3",
   "version": "3.5.2"
  }
 },
 "nbformat": 4,
 "nbformat_minor": 2
}
